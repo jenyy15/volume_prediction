{
 "cells": [
  {
   "cell_type": "markdown",
   "id": "1acf3125-7e99-47dc-80bd-a7054f4f0879",
   "metadata": {},
   "source": [
    "### Target \n",
    "To build one dataset containing all the predictors after enhancement and dependent varaibles into one dataset\n",
    "\n",
    "### Result\n",
    "Saved 'final_dataset'"
   ]
  },
  {
   "cell_type": "code",
   "execution_count": 1,
   "id": "0a83d4cf-2daf-4f2a-bce9-32b21032cbe2",
   "metadata": {},
   "outputs": [
    {
     "data": {
      "text/plain": [
       "['tech.parquet',\n",
       " 'mkt_cap.parquet',\n",
       " 'style_factors.parquet',\n",
       " 'calendar_date.parquet',\n",
       " 'release_schedule.parquet',\n",
       " 'industry_factors.parquet',\n",
       " 'final_dataset.parquet',\n",
       " 'pre_train_dataset.parquet',\n",
       " 'agg_industry_factors.parquet']"
      ]
     },
     "execution_count": 1,
     "metadata": {},
     "output_type": "execute_result"
    }
   ],
   "source": [
    "import numpy as np\n",
    "import pandas as pd\n",
    "import datetime\n",
    "import pyarrow.parquet as pq\n",
    "import os\n",
    "import matplotlib.pyplot as plt\n",
    "\n",
    "# 1. read data file names\n",
    "folder_path = \"F:/predictors_v2\"\n",
    "save_folder_path = \"F:/predictors_v2\"\n",
    "filenames = os.listdir(folder_path)\n",
    "filenames = [x for x in filenames if x.endswith(\".parquet\")]\n",
    "\n",
    "filenames"
   ]
  },
  {
   "cell_type": "code",
   "execution_count": 2,
   "id": "79e2e290-ef3d-4cdc-a67f-964fc86d51df",
   "metadata": {},
   "outputs": [],
   "source": [
    "# 2. load data and write data functions\n",
    "from model_training_utils import read_data\n",
    "# using pyarrow.parquet.read_table to load data\n",
    "# columns and filters are useful to save memory\n",
    "    \n",
    "def write_data(df, filename):\n",
    "    return df.to_parquet(f\"{save_folder_path}/{filename}.parquet\", engine='pyarrow')"
   ]
  },
  {
   "cell_type": "code",
   "execution_count": 3,
   "id": "24a73fa8-2c54-4aaf-9009-a7ca9b32f54d",
   "metadata": {},
   "outputs": [],
   "source": [
    "# 3. Load data\n",
    "# russell 3000\n",
    "final_universe = read_data(filename=\"final_universe\", folder_path=\"F:/predictors\")\n",
    "# calendar_date\n",
    "calendar_date = read_data(filename=\"calendar_date\", folder_path=folder_path)\n",
    "release_schedule = read_data(filename=\"release_schedule\", folder_path=folder_path)\n",
    "# barra\n",
    "industry_factors = read_data(filename=\"industry_factors\", folder_path=folder_path)\n",
    "agg_industry_factors = read_data(filename=\"agg_industry_factors\", folder_path=folder_path)\n",
    "style_factors = read_data(filename=\"style_factors\", folder_path=folder_path)\n",
    "# pricing and volumes\n",
    "mkt_cap = read_data(filename=\"mkt_cap\", folder_path=folder_path)\n",
    "tech = read_data(filename=\"tech\", folder_path=folder_path)"
   ]
  },
  {
   "cell_type": "code",
   "execution_count": 5,
   "id": "30587642-5946-495e-a3b7-cba24a83150d",
   "metadata": {},
   "outputs": [],
   "source": [
    "adj_date_variables = ['before_adj_date', 'on_after_adj_date']\n",
    "\n",
    "tech_variables = ['logret_ma1', 'logret_ma5',\n",
    "       'logret_ma22', 'logret_ma252', 'logvol_ma1', 'logvol_ma5',\n",
    "       'logvol_ma22', 'logvol_ma252']\n",
    "\n",
    "mkt_cap_variables = ['logmktcap_ma1', 'logmktcap_ma5', 'logmktcap_ma22']\n",
    "\n",
    "style_factor_variables = ['BETA_ma1', 'BETA_ma5', 'BETA_ma22', 'CROWD_ma1',\n",
    "       'CROWD_ma5', 'CROWD_ma22', 'DIVYILD_ma1', 'DIVYILD_ma5', 'DIVYILD_ma22',\n",
    "       'EARNQLTY_ma1', 'EARNQLTY_ma5', 'EARNQLTY_ma22', 'EARNVAR_ma1',\n",
    "       'EARNVAR_ma5', 'EARNVAR_ma22', 'EARNYILD_ma1', 'EARNYILD_ma5',\n",
    "       'EARNYILD_ma22', 'ESG_ma1', 'ESG_ma5', 'ESG_ma22', 'GROWTH_ma1',\n",
    "       'GROWTH_ma5', 'GROWTH_ma22', 'INDMOM_ma1', 'INDMOM_ma5', 'INDMOM_ma22',\n",
    "       'INVSQLTY_ma1', 'INVSQLTY_ma5', 'INVSQLTY_ma22', 'LEVERAGE_ma1',\n",
    "       'LEVERAGE_ma5', 'LEVERAGE_ma22', 'LIQUIDTY_ma1', 'LIQUIDTY_ma5',\n",
    "       'LIQUIDTY_ma22', 'LTREVRSL_ma1', 'LTREVRSL_ma5', 'LTREVRSL_ma22',\n",
    "       'MIDCAP_ma1', 'MIDCAP_ma5', 'MIDCAP_ma22', 'MLFAC_ma1', 'MLFAC_ma5',\n",
    "       'MLFAC_ma22', 'MOMENTUM_ma1', 'MOMENTUM_ma5', 'MOMENTUM_ma22',\n",
    "       'PROFIT_ma1', 'PROFIT_ma5', 'PROFIT_ma22', 'RESVOL_ma1', 'RESVOL_ma5',\n",
    "       'RESVOL_ma22', 'SEASON_ma1', 'SEASON_ma5', 'SEASON_ma22', 'SENTMT_ma1',\n",
    "       'SENTMT_ma5', 'SENTMT_ma22', 'SHORTINT_ma1', 'SHORTINT_ma5',\n",
    "       'SHORTINT_ma22', 'SIZE_ma1', 'SIZE_ma5', 'SIZE_ma22', 'STREVRSL_ma1',\n",
    "       'STREVRSL_ma5', 'STREVRSL_ma22', 'VALUE_ma1', 'VALUE_ma5',\n",
    "       'VALUE_ma22']\n",
    "industry_factor_variables = ['AERODEF', 'AIRLINES', 'ALUMSTEL', 'APPAREL', 'AUTO',\n",
    "       'BANKS', 'BEVTOB', 'BIOLIFE', 'BLDGPROD', 'CHEM', 'CNSTENG', 'CNSTMACH',\n",
    "       'CNSTMATLPAPER', 'COMMEQP', 'COMPELEC', 'COMSVCS', 'CONGLOM',\n",
    "       'CONTAINR', 'DISTRIB', 'DIVFIN', 'ELECEQP', 'ELECUTIL', 'ENERGYEQ',\n",
    "       'FOODPROD', 'FOODRET', 'GASUTIL', 'HLTHEQP', 'HLTHSVCS', 'HOMEBLDG',\n",
    "       'HOUSEDUR', 'INDMACH', 'INSURNCE', 'INTERNET', 'LEISPROD', 'LEISSVCS',\n",
    "       'LIFEINS', 'MEDIA', 'MGDHLTH', 'MULTUTIL', 'NETRET', 'OILGSCON',\n",
    "       'OILGSEXP', 'PHARMA', 'PRECMTLS', 'PSNLPROD', 'REALEST', 'RESTAUR',\n",
    "       'RLESTMNG', 'ROADRAIL', 'SEMICOND', 'SEMIEQP', 'SOFTWARE', 'SPLTYRET',\n",
    "       'SPTYCHEM', 'SPTYSTOR', 'TELECOM', 'TRADECO', 'TRANSPRT']\n",
    "\n",
    "agg_industry_factor_variables = ['max_ind_exposure', 'indavg_logvol_ma1',\n",
    "       'indavg_logvol_ma5', 'indavg_logvol_ma22', 'indavg_logvol_ma252',\n",
    "       'indstd_logvol_ma1', 'indstd_logvol_ma5', 'indstd_logvol_ma22',\n",
    "       'indstd_logvol_ma252', 'indavg_SIZE_ma1', 'indavg_SIZE_ma5',\n",
    "       'indavg_SIZE_ma22', 'indstd_SIZE_ma1', 'indstd_SIZE_ma5',\n",
    "       'indstd_SIZE_ma22', 'indavg_logmktcap_ma1', 'indavg_logmktcap_ma5',\n",
    "       'indavg_logmktcap_ma22', 'indavg_logmktcap_ma252',\n",
    "       'indstd_logmktcap_ma1', 'indstd_logmktcap_ma5', 'indstd_logmktcap_ma22',\n",
    "       'indstd_logmktcap_ma252', 'idxmax']\n",
    "# ['elt-3', '-1_2', '0', '1_2', 'egt3']\n",
    "release_schedule_variables = ['≤-3', '-1_2', '0', '1_2', '≥3']\n",
    "\n",
    "calendar_date_variables = ['before_witch', 'on_after_witch',\n",
    "       'before_early_close', 'on_after_early_close', 'before_rebalance',\n",
    "       'on_after_rebalance']"
   ]
  },
  {
   "cell_type": "code",
   "execution_count": 6,
   "id": "af48b609-9c4f-456a-ab8f-a029d077c089",
   "metadata": {},
   "outputs": [],
   "source": [
    "# 4. Shift values by 1 to create lag 1 version of these predictors\n",
    "def create_lag(df, col_name_list):\n",
    "    df = df.sort_values([\"isin\", \"date\"],ignore_index=True)\n",
    "    for col_name in col_name_list:\n",
    "        df.loc[:, f\"lag_{col_name}\"] = df.groupby([\"isin\"])[col_name].shift(1)\n",
    "    return df.drop(columns=col_name_list)\n",
    "\n",
    "mkt_cap = create_lag(mkt_cap[['date', 'isin']+mkt_cap_variables], mkt_cap_variables)\n",
    "\n",
    "style_factors = create_lag(style_factors, style_factor_variables)\n",
    "\n",
    "industry_factors = create_lag(industry_factors, industry_factor_variables)\n",
    "\n",
    "agg_industry_factors = create_lag(agg_industry_factors, agg_industry_factor_variables)"
   ]
  },
  {
   "cell_type": "code",
   "execution_count": 7,
   "id": "0081190e-a57e-4ad0-84ce-3f3b491cbfd5",
   "metadata": {},
   "outputs": [],
   "source": [
    "tech2 = create_lag(tech, tech_variables)\n",
    "# create eta = v_t - ma5_(t-1...t-5)\n",
    "# tech2[\"eta\"] = tech2[\"log_adj_volume\"]-tech2[\"lag_logvol_ma5\"]"
   ]
  },
  {
   "cell_type": "code",
   "execution_count": null,
   "id": "8a6969ed-ea21-48af-b2f2-69987867d2eb",
   "metadata": {},
   "outputs": [],
   "source": [
    "dates = [datetime.date(2019, 5, 13), datetime.date(2019, 5, 14), datetime.date(2022, 6, 27)]\n",
    "isins = [\"IE00BLNN3691\"]\n",
    "pv_df = pv_df[~(pv_df[\"isin\"].isin(isins) & pv_df[\"date\"].isin(dates))]\n",
    "\n",
    "# tech[tech[\"isin\"].isin(isins) & (tech.date>=datetime.date(2019,5, 10))\\\n",
    "# &(tech.date<=datetime.date(2022,6, 30))]\n",
    "\n",
    "# tech2[tech2[\"isin\"].isin(isins)&(tech2.date>=datetime.date(2019,5, 10))\\\n",
    "# &(tech2.date<=datetime.date(2022,6, 30))]"
   ]
  },
  {
   "cell_type": "code",
   "execution_count": 10,
   "id": "8d9f8a8f-d001-4a64-9b36-7979023783dc",
   "metadata": {},
   "outputs": [],
   "source": [
    "# Get the intersection universe and drop all na records \n",
    "predictors = tech2.drop(columns=[\"barrid\"]).merge(mkt_cap, on=[\"isin\", \"date\"], how=\"inner\")\n",
    "predictors = predictors.merge(calendar_date.drop(columns=[\"barrid\"]), on=[\"isin\", \"date\"], how=\"inner\")\n",
    "predictors = predictors.merge(style_factors, on=[\"isin\", \"date\"], how=\"inner\")\n",
    "predictors = predictors.merge(industry_factors, on=[\"isin\", \"date\"], how=\"inner\")\n",
    "predictors = predictors.merge(agg_industry_factors, on=[\"isin\", \"date\"], how=\"inner\")\n",
    "predictors = predictors.merge(release_schedule, on=[\"isin\", \"date\"], how=\"inner\")"
   ]
  },
  {
   "cell_type": "code",
   "execution_count": 11,
   "id": "2b59ee48-1dc1-4f6f-a407-7d88a8a3d0ab",
   "metadata": {},
   "outputs": [],
   "source": [
    "# Drop the wrong records because of IE00BLNN3691's large gap\n",
    "isins = [\"IE00BLNN3691\"]\n",
    "predictors[~(predictors[\"isin\"].isin(isins)&(predictors[\"date\"]==datetime.date(2022, 6, 28)))]\n",
    "update_filter = predictors[\"isin\"].isin(isins)&(predictors[\"date\"]>datetime.date(2022, 6, 28))\n",
    "# update the ISIN to make the data feeder easier\n",
    "predictors.loc[update_filter, \"isin\"] = \"IE00BLNN3691X\""
   ]
  },
  {
   "cell_type": "code",
   "execution_count": 12,
   "id": "74eb76dc-460e-41ce-ba12-b59dc5ea79d6",
   "metadata": {},
   "outputs": [],
   "source": [
    "# Before droping NA in predictors, keep the part of dataset for pretraining\n",
    "pre_train_cols=['lag_logmktcap_ma1', 'lag_logmktcap_ma5',\n",
    "       'lag_logmktcap_ma22'] +['lag_BETA_ma1', 'lag_BETA_ma5', 'lag_BETA_ma22',\n",
    "       'lag_CROWD_ma1', 'lag_CROWD_ma5', 'lag_CROWD_ma22', 'lag_DIVYILD_ma1',\n",
    "       'lag_DIVYILD_ma5', 'lag_DIVYILD_ma22', 'lag_EARNQLTY_ma1',\n",
    "       'lag_EARNQLTY_ma5', 'lag_EARNQLTY_ma22', 'lag_EARNVAR_ma1',\n",
    "       'lag_EARNVAR_ma5', 'lag_EARNVAR_ma22', 'lag_EARNYILD_ma1',\n",
    "       'lag_EARNYILD_ma5', 'lag_EARNYILD_ma22', 'lag_ESG_ma1', 'lag_ESG_ma5',\n",
    "       'lag_ESG_ma22', 'lag_GROWTH_ma1', 'lag_GROWTH_ma5', 'lag_GROWTH_ma22',\n",
    "       'lag_INDMOM_ma1', 'lag_INDMOM_ma5', 'lag_INDMOM_ma22',\n",
    "       'lag_INVSQLTY_ma1', 'lag_INVSQLTY_ma5', 'lag_INVSQLTY_ma22',\n",
    "       'lag_LEVERAGE_ma1', 'lag_LEVERAGE_ma5', 'lag_LEVERAGE_ma22',\n",
    "       'lag_LIQUIDTY_ma1', 'lag_LIQUIDTY_ma5', 'lag_LIQUIDTY_ma22',\n",
    "       'lag_LTREVRSL_ma1', 'lag_LTREVRSL_ma5', 'lag_LTREVRSL_ma22',\n",
    "       'lag_MIDCAP_ma1', 'lag_MIDCAP_ma5', 'lag_MIDCAP_ma22', 'lag_MLFAC_ma1',\n",
    "       'lag_MLFAC_ma5', 'lag_MLFAC_ma22', 'lag_MOMENTUM_ma1',\n",
    "       'lag_MOMENTUM_ma5', 'lag_MOMENTUM_ma22', 'lag_PROFIT_ma1',\n",
    "       'lag_PROFIT_ma5', 'lag_PROFIT_ma22', 'lag_RESVOL_ma1', 'lag_RESVOL_ma5',\n",
    "       'lag_RESVOL_ma22', 'lag_SEASON_ma1', 'lag_SEASON_ma5',\n",
    "       'lag_SEASON_ma22', 'lag_SENTMT_ma1', 'lag_SENTMT_ma5',\n",
    "       'lag_SENTMT_ma22', 'lag_SHORTINT_ma1', 'lag_SHORTINT_ma5',\n",
    "       'lag_SHORTINT_ma22', 'lag_SIZE_ma1', 'lag_SIZE_ma5', 'lag_SIZE_ma22',\n",
    "       'lag_STREVRSL_ma1', 'lag_STREVRSL_ma5', 'lag_STREVRSL_ma22',\n",
    "       'lag_VALUE_ma1', 'lag_VALUE_ma5', 'lag_VALUE_ma22']\n",
    "\n",
    "pre_train_dataset = predictors.loc[predictors[\"date\"]<datetime.date(2020, 1, 3), [\"date\", \"isin\"]+pre_train_cols]\n",
    "pre_train_dataset = pre_train_dataset.dropna()\n",
    "# sort the pre_train_dataset\n",
    "pre_train_dataset = pre_train_dataset.sort_values(by=[\"date\",\"isin\"], ignore_index=True)"
   ]
  },
  {
   "cell_type": "code",
   "execution_count": 13,
   "id": "a0dfd3a9-91bb-41cc-a396-da3bbcd96472",
   "metadata": {},
   "outputs": [
    {
     "name": "stdout",
     "output_type": "stream",
     "text": [
      "2019-01-03 2020-01-02\n"
     ]
    }
   ],
   "source": [
    "print(pre_train_dataset.date.min(), pre_train_dataset.date.max())"
   ]
  },
  {
   "cell_type": "code",
   "execution_count": 13,
   "id": "4cc80fc4-ef97-40c7-8966-125774e36daa",
   "metadata": {},
   "outputs": [],
   "source": [
    "# Save all predictors into one table\n",
    "write_data(pre_train_dataset, \"pre_train_dataset\")"
   ]
  },
  {
   "cell_type": "code",
   "execution_count": 14,
   "id": "05013d94-7490-47cb-b3c9-c47b82c1b821",
   "metadata": {},
   "outputs": [
    {
     "name": "stdout",
     "output_type": "stream",
     "text": [
      "2020-01-03 2023-12-29\n"
     ]
    }
   ],
   "source": [
    "# Drop NA in predcitors\n",
    "predictors = predictors.dropna()\n",
    "# sort the predictors\n",
    "predictors = predictors.sort_values(by=[\"date\",\"isin\"], ignore_index=True)\n",
    "\n",
    "print(predictors.date.min(), predictors.date.max())"
   ]
  },
  {
   "cell_type": "code",
   "execution_count": 15,
   "id": "624eb297-f111-4f42-a17f-542c41e19626",
   "metadata": {},
   "outputs": [],
   "source": [
    "# Save all predictors into one table\n",
    "write_data(predictors, \"final_dataset\")"
   ]
  },
  {
   "cell_type": "code",
   "execution_count": 16,
   "id": "926df23e-7505-44a5-bf1c-2a4577c2592b",
   "metadata": {},
   "outputs": [
    {
     "name": "stdout",
     "output_type": "stream",
     "text": [
      "['date', 'isin', 'log_adj_volume', 'before_adj_date', 'on_after_adj_date', 'logret', 'lag_logret_ma1', 'lag_logret_ma5', 'lag_logret_ma22', 'lag_logret_ma252', 'lag_logvol_ma1', 'lag_logvol_ma5', 'lag_logvol_ma22', 'lag_logvol_ma252', 'lag_logmktcap_ma1', 'lag_logmktcap_ma5', 'lag_logmktcap_ma22', 'before_witch', 'on_after_witch', 'before_early_close', 'on_after_early_close', 'before_rebalance', 'on_after_rebalance', 'lag_BETA_ma1', 'lag_BETA_ma5', 'lag_BETA_ma22', 'lag_CROWD_ma1', 'lag_CROWD_ma5', 'lag_CROWD_ma22', 'lag_DIVYILD_ma1', 'lag_DIVYILD_ma5', 'lag_DIVYILD_ma22', 'lag_EARNQLTY_ma1', 'lag_EARNQLTY_ma5', 'lag_EARNQLTY_ma22', 'lag_EARNVAR_ma1', 'lag_EARNVAR_ma5', 'lag_EARNVAR_ma22', 'lag_EARNYILD_ma1', 'lag_EARNYILD_ma5', 'lag_EARNYILD_ma22', 'lag_ESG_ma1', 'lag_ESG_ma5', 'lag_ESG_ma22', 'lag_GROWTH_ma1', 'lag_GROWTH_ma5', 'lag_GROWTH_ma22', 'lag_INDMOM_ma1', 'lag_INDMOM_ma5', 'lag_INDMOM_ma22', 'lag_INVSQLTY_ma1', 'lag_INVSQLTY_ma5', 'lag_INVSQLTY_ma22', 'lag_LEVERAGE_ma1', 'lag_LEVERAGE_ma5', 'lag_LEVERAGE_ma22', 'lag_LIQUIDTY_ma1', 'lag_LIQUIDTY_ma5', 'lag_LIQUIDTY_ma22', 'lag_LTREVRSL_ma1', 'lag_LTREVRSL_ma5', 'lag_LTREVRSL_ma22', 'lag_MIDCAP_ma1', 'lag_MIDCAP_ma5', 'lag_MIDCAP_ma22', 'lag_MLFAC_ma1', 'lag_MLFAC_ma5', 'lag_MLFAC_ma22', 'lag_MOMENTUM_ma1', 'lag_MOMENTUM_ma5', 'lag_MOMENTUM_ma22', 'lag_PROFIT_ma1', 'lag_PROFIT_ma5', 'lag_PROFIT_ma22', 'lag_RESVOL_ma1', 'lag_RESVOL_ma5', 'lag_RESVOL_ma22', 'lag_SEASON_ma1', 'lag_SEASON_ma5', 'lag_SEASON_ma22', 'lag_SENTMT_ma1', 'lag_SENTMT_ma5', 'lag_SENTMT_ma22', 'lag_SHORTINT_ma1', 'lag_SHORTINT_ma5', 'lag_SHORTINT_ma22', 'lag_SIZE_ma1', 'lag_SIZE_ma5', 'lag_SIZE_ma22', 'lag_STREVRSL_ma1', 'lag_STREVRSL_ma5', 'lag_STREVRSL_ma22', 'lag_VALUE_ma1', 'lag_VALUE_ma5', 'lag_VALUE_ma22', 'lag_AERODEF', 'lag_AIRLINES', 'lag_ALUMSTEL', 'lag_APPAREL', 'lag_AUTO', 'lag_BANKS', 'lag_BEVTOB', 'lag_BIOLIFE', 'lag_BLDGPROD', 'lag_CHEM', 'lag_CNSTENG', 'lag_CNSTMACH', 'lag_CNSTMATLPAPER', 'lag_COMMEQP', 'lag_COMPELEC', 'lag_COMSVCS', 'lag_CONGLOM', 'lag_CONTAINR', 'lag_DISTRIB', 'lag_DIVFIN', 'lag_ELECEQP', 'lag_ELECUTIL', 'lag_ENERGYEQ', 'lag_FOODPROD', 'lag_FOODRET', 'lag_GASUTIL', 'lag_HLTHEQP', 'lag_HLTHSVCS', 'lag_HOMEBLDG', 'lag_HOUSEDUR', 'lag_INDMACH', 'lag_INSURNCE', 'lag_INTERNET', 'lag_LEISPROD', 'lag_LEISSVCS', 'lag_LIFEINS', 'lag_MEDIA', 'lag_MGDHLTH', 'lag_MULTUTIL', 'lag_NETRET', 'lag_OILGSCON', 'lag_OILGSEXP', 'lag_PHARMA', 'lag_PRECMTLS', 'lag_PSNLPROD', 'lag_REALEST', 'lag_RESTAUR', 'lag_RLESTMNG', 'lag_ROADRAIL', 'lag_SEMICOND', 'lag_SEMIEQP', 'lag_SOFTWARE', 'lag_SPLTYRET', 'lag_SPTYCHEM', 'lag_SPTYSTOR', 'lag_TELECOM', 'lag_TRADECO', 'lag_TRANSPRT', 'lag_max_ind_exposure', 'lag_indavg_logvol_ma1', 'lag_indavg_logvol_ma5', 'lag_indavg_logvol_ma22', 'lag_indavg_logvol_ma252', 'lag_indstd_logvol_ma1', 'lag_indstd_logvol_ma5', 'lag_indstd_logvol_ma22', 'lag_indstd_logvol_ma252', 'lag_indavg_SIZE_ma1', 'lag_indavg_SIZE_ma5', 'lag_indavg_SIZE_ma22', 'lag_indstd_SIZE_ma1', 'lag_indstd_SIZE_ma5', 'lag_indstd_SIZE_ma22', 'lag_indavg_logmktcap_ma1', 'lag_indavg_logmktcap_ma5', 'lag_indavg_logmktcap_ma22', 'lag_indavg_logmktcap_ma252', 'lag_indstd_logmktcap_ma1', 'lag_indstd_logmktcap_ma5', 'lag_indstd_logmktcap_ma22', 'lag_indstd_logmktcap_ma252', 'lag_idxmax', '≤-3', '-1_2', '0', '1_2', '≥3']\n"
     ]
    }
   ],
   "source": [
    "# the column names of the predictor tables\n",
    "print(predictors.columns.tolist())"
   ]
  },
  {
   "cell_type": "code",
   "execution_count": 18,
   "id": "0d291069-6b3b-409d-9b4d-649a1f8a52a7",
   "metadata": {},
   "outputs": [],
   "source": [
    "# Save config\n",
    "new_config={'index_columns': ['date', 'isin'], \n",
    "            \n",
    "            'tech_factors': ['lag_logret_ma1', 'lag_logret_ma5',\n",
    "            'lag_logret_ma22', 'lag_logret_ma252', 'lag_logvol_ma1',\n",
    "            'lag_logvol_ma5', 'lag_logvol_ma22', 'lag_logvol_ma252'], \n",
    "            \n",
    "            'calendar_factors':calendar_date_variables, \n",
    "            \n",
    "            'fundamental_factors': ['lag_logmktcap_ma1', 'lag_logmktcap_ma5',\n",
    "            'lag_logmktcap_ma22'] +['lag_BETA_ma1', 'lag_BETA_ma5', 'lag_BETA_ma22',\n",
    "            'lag_CROWD_ma1', 'lag_CROWD_ma5', 'lag_CROWD_ma22', 'lag_DIVYILD_ma1',\n",
    "            'lag_DIVYILD_ma5', 'lag_DIVYILD_ma22', 'lag_EARNQLTY_ma1',\n",
    "            'lag_EARNQLTY_ma5', 'lag_EARNQLTY_ma22', 'lag_EARNVAR_ma1',\n",
    "            'lag_EARNVAR_ma5', 'lag_EARNVAR_ma22', 'lag_EARNYILD_ma1',\n",
    "            'lag_EARNYILD_ma5', 'lag_EARNYILD_ma22', 'lag_ESG_ma1', 'lag_ESG_ma5',\n",
    "            'lag_ESG_ma22', 'lag_GROWTH_ma1', 'lag_GROWTH_ma5', 'lag_GROWTH_ma22',\n",
    "            'lag_INDMOM_ma1', 'lag_INDMOM_ma5', 'lag_INDMOM_ma22',\n",
    "            'lag_INVSQLTY_ma1', 'lag_INVSQLTY_ma5', 'lag_INVSQLTY_ma22',\n",
    "            'lag_LEVERAGE_ma1', 'lag_LEVERAGE_ma5', 'lag_LEVERAGE_ma22',\n",
    "            'lag_LIQUIDTY_ma1', 'lag_LIQUIDTY_ma5', 'lag_LIQUIDTY_ma22',\n",
    "            'lag_LTREVRSL_ma1', 'lag_LTREVRSL_ma5', 'lag_LTREVRSL_ma22',\n",
    "            'lag_MIDCAP_ma1', 'lag_MIDCAP_ma5', 'lag_MIDCAP_ma22', 'lag_MLFAC_ma1',\n",
    "            'lag_MLFAC_ma5', 'lag_MLFAC_ma22', 'lag_MOMENTUM_ma1',\n",
    "            'lag_MOMENTUM_ma5', 'lag_MOMENTUM_ma22', 'lag_PROFIT_ma1',\n",
    "            'lag_PROFIT_ma5', 'lag_PROFIT_ma22', 'lag_RESVOL_ma1', 'lag_RESVOL_ma5',\n",
    "            'lag_RESVOL_ma22', 'lag_SEASON_ma1', 'lag_SEASON_ma5',\n",
    "            'lag_SEASON_ma22', 'lag_SENTMT_ma1', 'lag_SENTMT_ma5',\n",
    "            'lag_SENTMT_ma22', 'lag_SHORTINT_ma1', 'lag_SHORTINT_ma5',\n",
    "            'lag_SHORTINT_ma22', 'lag_SIZE_ma1', 'lag_SIZE_ma5', 'lag_SIZE_ma22',\n",
    "            'lag_STREVRSL_ma1', 'lag_STREVRSL_ma5', 'lag_STREVRSL_ma22',\n",
    "            'lag_VALUE_ma1', 'lag_VALUE_ma5', 'lag_VALUE_ma22'],\n",
    "\n",
    "            'industry_factors':['lag_AERODEF', 'lag_AIRLINES', 'lag_ALUMSTEL',\n",
    "            'lag_APPAREL', 'lag_AUTO', 'lag_BANKS', 'lag_BEVTOB', 'lag_BIOLIFE',\n",
    "            'lag_BLDGPROD', 'lag_CHEM', 'lag_CNSTENG', 'lag_CNSTMACH',\n",
    "            'lag_CNSTMATLPAPER', 'lag_COMMEQP', 'lag_COMPELEC', 'lag_COMSVCS',\n",
    "            'lag_CONGLOM', 'lag_CONTAINR', 'lag_DISTRIB', 'lag_DIVFIN',\n",
    "            'lag_ELECEQP', 'lag_ELECUTIL', 'lag_ENERGYEQ', 'lag_FOODPROD',\n",
    "            'lag_FOODRET', 'lag_GASUTIL', 'lag_HLTHEQP', 'lag_HLTHSVCS',\n",
    "            'lag_HOMEBLDG', 'lag_HOUSEDUR', 'lag_INDMACH', 'lag_INSURNCE',\n",
    "            'lag_INTERNET', 'lag_LEISPROD', 'lag_LEISSVCS', 'lag_LIFEINS',\n",
    "            'lag_MEDIA', 'lag_MGDHLTH', 'lag_MULTUTIL', 'lag_NETRET',\n",
    "            'lag_OILGSCON', 'lag_OILGSEXP', 'lag_PHARMA', 'lag_PRECMTLS',\n",
    "            'lag_PSNLPROD', 'lag_REALEST', 'lag_RESTAUR', 'lag_RLESTMNG',\n",
    "            'lag_ROADRAIL', 'lag_SEMICOND', 'lag_SEMIEQP', 'lag_SOFTWARE',\n",
    "            'lag_SPLTYRET', 'lag_SPTYCHEM', 'lag_SPTYSTOR', 'lag_TELECOM',\n",
    "            'lag_TRADECO', 'lag_TRANSPRT'],\n",
    "            \n",
    "            'agg_industry_factors':['lag_max_ind_exposure', 'lag_indavg_logvol_ma1',\n",
    "            'lag_indavg_logvol_ma5', 'lag_indavg_logvol_ma22',\n",
    "            'lag_indavg_logvol_ma252', 'lag_indstd_logvol_ma1',\n",
    "            'lag_indstd_logvol_ma5', 'lag_indstd_logvol_ma22',\n",
    "            'lag_indstd_logvol_ma252', 'lag_indavg_SIZE_ma1', 'lag_indavg_SIZE_ma5',\n",
    "            'lag_indavg_SIZE_ma22', 'lag_indstd_SIZE_ma1', 'lag_indstd_SIZE_ma5',\n",
    "            'lag_indstd_SIZE_ma22', 'lag_indavg_logmktcap_ma1',\n",
    "            'lag_indavg_logmktcap_ma5', 'lag_indavg_logmktcap_ma22',\n",
    "            'lag_indavg_logmktcap_ma252', 'lag_indstd_logmktcap_ma1',\n",
    "            'lag_indstd_logmktcap_ma5', 'lag_indstd_logmktcap_ma22',\n",
    "            'lag_indstd_logmktcap_ma252'],\n",
    "            \n",
    "            'release_schedule_factors':adj_date_variables+['elt-3', '-1_2', '0', '1_2', 'egt3'],\n",
    "            \n",
    "            'output_columns': ['log_adj_volume', 'eta']}\n",
    "\n",
    "import json\n",
    "with open(\"./config/final_dataset_column_namesv2.json\", \"w\") as file:\n",
    "    json.dump(new_config, file, indent=4)"
   ]
  }
 ],
 "metadata": {
  "kernelspec": {
   "display_name": "Python 3 (ipykernel)",
   "language": "python",
   "name": "python3"
  },
  "language_info": {
   "codemirror_mode": {
    "name": "ipython",
    "version": 3
   },
   "file_extension": ".py",
   "mimetype": "text/x-python",
   "name": "python",
   "nbconvert_exporter": "python",
   "pygments_lexer": "ipython3",
   "version": "3.10.16"
  }
 },
 "nbformat": 4,
 "nbformat_minor": 5
}
