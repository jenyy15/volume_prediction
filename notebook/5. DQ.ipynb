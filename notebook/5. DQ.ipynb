{
 "cells": [
  {
   "cell_type": "code",
   "execution_count": 1,
   "id": "84b36b5e-25a7-49f1-84ef-46d63d669641",
   "metadata": {},
   "outputs": [],
   "source": [
    "import numpy as np\n",
    "import pandas as pd\n",
    "import datetime\n",
    "import pyarrow.parquet as pq\n",
    "import os\n",
    "import matplotlib.pyplot as plt"
   ]
  },
  {
   "attachments": {},
   "cell_type": "markdown",
   "id": "8023f5fc-b92b-476a-ad43-9c9785b74980",
   "metadata": {},
   "source": [
    "#### Revisit Data Quality issue\n",
    "\n"
   ]
  },
  {
   "cell_type": "code",
   "execution_count": 2,
   "id": "a76c8ac3-049a-4b7c-b1c2-5c53c28d04a0",
   "metadata": {},
   "outputs": [
    {
     "data": {
      "text/plain": [
       "['barra_factor_exposures.parquet',\n",
       " 'earnings.parquet',\n",
       " 'pricing_and_volumes.parquet',\n",
       " 'r3k_sec_mapping.parquet']"
      ]
     },
     "execution_count": 2,
     "metadata": {},
     "output_type": "execute_result"
    }
   ],
   "source": [
    "### Preparation:\n",
    "# 1. read data file names\n",
    "folder_path = \"F:/volume_prediction\"\n",
    "filenames = os.listdir(folder_path)\n",
    "filenames = [x for x in filenames if x.endswith(\".parquet\")]\n",
    "\n",
    "filenames"
   ]
  },
  {
   "cell_type": "code",
   "execution_count": 3,
   "id": "8a19374d-3ee0-4493-96b5-b91b3dcb8bc8",
   "metadata": {},
   "outputs": [],
   "source": [
    "# 2. load data\n",
    "from model_training_utils import read_data\n",
    "# using pyarrow.parquet.read_table to load data\n",
    "# columns and filters are useful to save memory\n"
   ]
  },
  {
   "cell_type": "markdown",
   "id": "dab4ee2e-36cc-4508-91e2-9bab9772c260",
   "metadata": {},
   "source": [
    "### [1] Find the universe after mapping\n",
    "use the intersection of universe"
   ]
  },
  {
   "cell_type": "code",
   "execution_count": 4,
   "id": "441068dd-debd-41c6-8bdf-f54c35cbe72d",
   "metadata": {},
   "outputs": [],
   "source": [
    "# final universe\n",
    "predictors_path = \"F:/predictors\"\n",
    "final_universe = read_data(filename=\"final_universe\",\n",
    "                               columns=['date', 'barrid', 'isin', 'fsym_id'], \n",
    "                               folder_path=predictors_path)"
   ]
  },
  {
   "cell_type": "code",
   "execution_count": 5,
   "id": "f4492df2-fa61-49fe-a8a6-0735a4b185fa",
   "metadata": {},
   "outputs": [
    {
     "data": {
      "text/plain": [
       "(datetime.date(2019, 1, 2), datetime.date(2023, 12, 29))"
      ]
     },
     "execution_count": 5,
     "metadata": {},
     "output_type": "execute_result"
    }
   ],
   "source": [
    "# check the time range of the final universe\n",
    "dates_list = final_universe.date.unique()\n",
    "min(dates_list), max(dates_list)"
   ]
  },
  {
   "cell_type": "markdown",
   "id": "dbd7bb5d-1975-4adc-b7b5-2c5172c82df5",
   "metadata": {},
   "source": [
    "### Features/Predictors"
   ]
  },
  {
   "attachments": {},
   "cell_type": "markdown",
   "id": "0bdfc105-c682-42c9-806f-791aaba126b6",
   "metadata": {},
   "source": [
    "### 1. Technical signals (“tech”)\n",
    "From paper:  \n",
    "Technical signals (“tech”): lagged moving averages of returns and log dollar volume over the past 1, 5, 22, and 252 days."
   ]
  },
  {
   "cell_type": "code",
   "execution_count": 6,
   "id": "33fa8e1d-cf3a-4c2b-aba3-1b7be865fccf",
   "metadata": {},
   "outputs": [],
   "source": [
    "pv_df = read_data(filename=\"pricing_and_volumes\",\n",
    "                  columns=['date', 'barrid', 'adj_price', 'adj_volume', 'is_adj_date'], \n",
    "                  folder_path=folder_path)\n",
    "\n",
    "pv_df = final_universe.merge(pv_df, on=['date', 'barrid'], how=\"left\")\n",
    "pv_df = pv_df.sort_values(by=[\"isin\", \"date\"], ignore_index=True)\n",
    "pv_df.loc[:, \"adj_price\"]=pv_df[\"adj_price\"].replace(0, np.nan)\n",
    "pv_df.loc[:, \"log_adj_volume\"]=np.log(pv_df[\"adj_volume\"].replace(0, np.nan).replace(np.float32(\"inf\"), np.nan))\n",
    "pv_df.loc[:, \"return\"]=pv_df.groupby([\"barrid\"])['adj_price'].pct_change(fill_method=None)\n",
    "\n",
    "pv_df = pv_df[['barrid', 'date', 'isin', 'log_adj_volume', 'return', 'is_adj_date']]"
   ]
  },
  {
   "cell_type": "code",
   "execution_count": 7,
   "id": "7eab21cb-d9eb-425f-b62c-84da4d799555",
   "metadata": {},
   "outputs": [],
   "source": [
    "# https://www.isin.org/can-a-company-have-more-than-one-isin/\n",
    "multiple_isin = pv_df[[\"barrid\", \"isin\"]].drop_duplicates().groupby(\"barrid\").count()"
   ]
  },
  {
   "cell_type": "code",
   "execution_count": 8,
   "id": "c5070763-3e79-4715-812c-2911bc2b4d2b",
   "metadata": {},
   "outputs": [
    {
     "data": {
      "text/html": [
       "<div>\n",
       "<style scoped>\n",
       "    .dataframe tbody tr th:only-of-type {\n",
       "        vertical-align: middle;\n",
       "    }\n",
       "\n",
       "    .dataframe tbody tr th {\n",
       "        vertical-align: top;\n",
       "    }\n",
       "\n",
       "    .dataframe thead th {\n",
       "        text-align: right;\n",
       "    }\n",
       "</style>\n",
       "<table border=\"1\" class=\"dataframe\">\n",
       "  <thead>\n",
       "    <tr style=\"text-align: right;\">\n",
       "      <th></th>\n",
       "      <th>isin</th>\n",
       "    </tr>\n",
       "    <tr>\n",
       "      <th>barrid</th>\n",
       "      <th></th>\n",
       "    </tr>\n",
       "  </thead>\n",
       "  <tbody>\n",
       "    <tr>\n",
       "      <th>USA1K61</th>\n",
       "      <td>2</td>\n",
       "    </tr>\n",
       "    <tr>\n",
       "      <th>USA1RY3</th>\n",
       "      <td>2</td>\n",
       "    </tr>\n",
       "    <tr>\n",
       "      <th>USA1SS1</th>\n",
       "      <td>2</td>\n",
       "    </tr>\n",
       "    <tr>\n",
       "      <th>USA1X81</th>\n",
       "      <td>2</td>\n",
       "    </tr>\n",
       "    <tr>\n",
       "      <th>USA1Y71</th>\n",
       "      <td>2</td>\n",
       "    </tr>\n",
       "    <tr>\n",
       "      <th>...</th>\n",
       "      <td>...</td>\n",
       "    </tr>\n",
       "    <tr>\n",
       "      <th>USBFW41</th>\n",
       "      <td>2</td>\n",
       "    </tr>\n",
       "    <tr>\n",
       "      <th>USBFXO1</th>\n",
       "      <td>2</td>\n",
       "    </tr>\n",
       "    <tr>\n",
       "      <th>USBFZ71</th>\n",
       "      <td>2</td>\n",
       "    </tr>\n",
       "    <tr>\n",
       "      <th>USBGUH2</th>\n",
       "      <td>2</td>\n",
       "    </tr>\n",
       "    <tr>\n",
       "      <th>USBOS31</th>\n",
       "      <td>2</td>\n",
       "    </tr>\n",
       "  </tbody>\n",
       "</table>\n",
       "<p>144 rows × 1 columns</p>\n",
       "</div>"
      ],
      "text/plain": [
       "         isin\n",
       "barrid       \n",
       "USA1K61     2\n",
       "USA1RY3     2\n",
       "USA1SS1     2\n",
       "USA1X81     2\n",
       "USA1Y71     2\n",
       "...       ...\n",
       "USBFW41     2\n",
       "USBFXO1     2\n",
       "USBFZ71     2\n",
       "USBGUH2     2\n",
       "USBOS31     2\n",
       "\n",
       "[144 rows x 1 columns]"
      ]
     },
     "execution_count": 8,
     "metadata": {},
     "output_type": "execute_result"
    }
   ],
   "source": [
    "multiple_isin[multiple_isin.values>1]"
   ]
  },
  {
   "cell_type": "code",
   "execution_count": 9,
   "id": "abb65784-9bfe-404a-b798-fc5d1f297aa5",
   "metadata": {},
   "outputs": [
    {
     "data": {
      "text/plain": [
       "isin\n",
       "US6496045013    2023-03-08\n",
       "US6496048405    2023-12-29\n",
       "Name: date, dtype: object"
      ]
     },
     "execution_count": 9,
     "metadata": {},
     "output_type": "execute_result"
    }
   ],
   "source": [
    "pv_df[pv_df.barrid==\"USA1K61\"].groupby(\"isin\").date.max()"
   ]
  },
  {
   "cell_type": "code",
   "execution_count": 10,
   "id": "492d2e23-efe5-4e78-893d-d4661141e56c",
   "metadata": {},
   "outputs": [
    {
     "data": {
      "text/plain": [
       "isin\n",
       "US6496045013    2019-01-02\n",
       "US6496048405    2023-03-09\n",
       "Name: date, dtype: object"
      ]
     },
     "execution_count": 10,
     "metadata": {},
     "output_type": "execute_result"
    }
   ],
   "source": [
    "pv_df[pv_df.barrid==\"USA1K61\"].groupby(\"isin\").date.min()"
   ]
  },
  {
   "cell_type": "code",
   "execution_count": 11,
   "id": "8a35f309-db29-42ca-8ec0-99bbb07d6f1e",
   "metadata": {},
   "outputs": [
    {
     "data": {
      "text/html": [
       "<div>\n",
       "<style scoped>\n",
       "    .dataframe tbody tr th:only-of-type {\n",
       "        vertical-align: middle;\n",
       "    }\n",
       "\n",
       "    .dataframe tbody tr th {\n",
       "        vertical-align: top;\n",
       "    }\n",
       "\n",
       "    .dataframe thead th {\n",
       "        text-align: right;\n",
       "    }\n",
       "</style>\n",
       "<table border=\"1\" class=\"dataframe\">\n",
       "  <thead>\n",
       "    <tr style=\"text-align: right;\">\n",
       "      <th></th>\n",
       "      <th>barrid</th>\n",
       "      <th>date</th>\n",
       "      <th>isin</th>\n",
       "      <th>log_adj_volume</th>\n",
       "      <th>return</th>\n",
       "      <th>is_adj_date</th>\n",
       "    </tr>\n",
       "  </thead>\n",
       "  <tbody>\n",
       "    <tr>\n",
       "      <th>2380809</th>\n",
       "      <td>USA1K61</td>\n",
       "      <td>2023-03-06</td>\n",
       "      <td>US6496045013</td>\n",
       "      <td>13.134276</td>\n",
       "      <td>-0.015971</td>\n",
       "      <td>False</td>\n",
       "    </tr>\n",
       "    <tr>\n",
       "      <th>2380810</th>\n",
       "      <td>USA1K61</td>\n",
       "      <td>2023-03-07</td>\n",
       "      <td>US6496045013</td>\n",
       "      <td>12.998518</td>\n",
       "      <td>-0.019975</td>\n",
       "      <td>False</td>\n",
       "    </tr>\n",
       "    <tr>\n",
       "      <th>2380811</th>\n",
       "      <td>USA1K61</td>\n",
       "      <td>2023-03-08</td>\n",
       "      <td>US6496045013</td>\n",
       "      <td>13.646385</td>\n",
       "      <td>-0.020382</td>\n",
       "      <td>False</td>\n",
       "    </tr>\n",
       "    <tr>\n",
       "      <th>2380812</th>\n",
       "      <td>USA1K61</td>\n",
       "      <td>2023-03-09</td>\n",
       "      <td>US6496048405</td>\n",
       "      <td>14.443053</td>\n",
       "      <td>-0.045514</td>\n",
       "      <td>True</td>\n",
       "    </tr>\n",
       "    <tr>\n",
       "      <th>2380813</th>\n",
       "      <td>USA1K61</td>\n",
       "      <td>2023-03-10</td>\n",
       "      <td>US6496048405</td>\n",
       "      <td>14.323610</td>\n",
       "      <td>-0.036785</td>\n",
       "      <td>False</td>\n",
       "    </tr>\n",
       "  </tbody>\n",
       "</table>\n",
       "</div>"
      ],
      "text/plain": [
       "          barrid        date          isin  log_adj_volume    return  \\\n",
       "2380809  USA1K61  2023-03-06  US6496045013       13.134276 -0.015971   \n",
       "2380810  USA1K61  2023-03-07  US6496045013       12.998518 -0.019975   \n",
       "2380811  USA1K61  2023-03-08  US6496045013       13.646385 -0.020382   \n",
       "2380812  USA1K61  2023-03-09  US6496048405       14.443053 -0.045514   \n",
       "2380813  USA1K61  2023-03-10  US6496048405       14.323610 -0.036785   \n",
       "\n",
       "         is_adj_date  \n",
       "2380809        False  \n",
       "2380810        False  \n",
       "2380811        False  \n",
       "2380812         True  \n",
       "2380813        False  "
      ]
     },
     "execution_count": 11,
     "metadata": {},
     "output_type": "execute_result"
    }
   ],
   "source": [
    "pv_df[(pv_df.barrid==\"USA1K61\")&(pv_df.date>=datetime.date(2023,3, 5))\\\n",
    "&(pv_df.date<=datetime.date(2023,3, 10))]"
   ]
  },
  {
   "cell_type": "code",
   "execution_count": 12,
   "id": "ca1d45f2-78f1-430b-83ba-c6ecba9b015a",
   "metadata": {},
   "outputs": [
    {
     "data": {
      "text/html": [
       "<div>\n",
       "<style scoped>\n",
       "    .dataframe tbody tr th:only-of-type {\n",
       "        vertical-align: middle;\n",
       "    }\n",
       "\n",
       "    .dataframe tbody tr th {\n",
       "        vertical-align: top;\n",
       "    }\n",
       "\n",
       "    .dataframe thead th {\n",
       "        text-align: right;\n",
       "    }\n",
       "</style>\n",
       "<table border=\"1\" class=\"dataframe\">\n",
       "  <thead>\n",
       "    <tr style=\"text-align: right;\">\n",
       "      <th></th>\n",
       "      <th>barrid</th>\n",
       "      <th>date</th>\n",
       "      <th>isin</th>\n",
       "      <th>log_adj_volume</th>\n",
       "      <th>return</th>\n",
       "      <th>is_adj_date</th>\n",
       "    </tr>\n",
       "  </thead>\n",
       "  <tbody>\n",
       "    <tr>\n",
       "      <th>2379818</th>\n",
       "      <td>USA1K61</td>\n",
       "      <td>2019-03-28</td>\n",
       "      <td>US6496045013</td>\n",
       "      <td>13.724984</td>\n",
       "      <td>0.004644</td>\n",
       "      <td>True</td>\n",
       "    </tr>\n",
       "    <tr>\n",
       "      <th>2379877</th>\n",
       "      <td>USA1K61</td>\n",
       "      <td>2019-06-21</td>\n",
       "      <td>US6496045013</td>\n",
       "      <td>13.827114</td>\n",
       "      <td>-0.008746</td>\n",
       "      <td>True</td>\n",
       "    </tr>\n",
       "    <tr>\n",
       "      <th>2379938</th>\n",
       "      <td>USA1K61</td>\n",
       "      <td>2019-09-18</td>\n",
       "      <td>US6496045013</td>\n",
       "      <td>14.210334</td>\n",
       "      <td>0.009622</td>\n",
       "      <td>True</td>\n",
       "    </tr>\n",
       "    <tr>\n",
       "      <th>2380003</th>\n",
       "      <td>USA1K61</td>\n",
       "      <td>2019-12-19</td>\n",
       "      <td>US6496045013</td>\n",
       "      <td>13.861867</td>\n",
       "      <td>-0.004090</td>\n",
       "      <td>True</td>\n",
       "    </tr>\n",
       "    <tr>\n",
       "      <th>2380135</th>\n",
       "      <td>USA1K61</td>\n",
       "      <td>2020-06-30</td>\n",
       "      <td>US6496045013</td>\n",
       "      <td>13.673772</td>\n",
       "      <td>-0.007937</td>\n",
       "      <td>True</td>\n",
       "    </tr>\n",
       "    <tr>\n",
       "      <th>2380194</th>\n",
       "      <td>USA1K61</td>\n",
       "      <td>2020-09-23</td>\n",
       "      <td>US6496045013</td>\n",
       "      <td>13.802788</td>\n",
       "      <td>-0.051562</td>\n",
       "      <td>True</td>\n",
       "    </tr>\n",
       "    <tr>\n",
       "      <th>2380253</th>\n",
       "      <td>USA1K61</td>\n",
       "      <td>2020-12-16</td>\n",
       "      <td>US6496045013</td>\n",
       "      <td>13.439316</td>\n",
       "      <td>-0.005302</td>\n",
       "      <td>True</td>\n",
       "    </tr>\n",
       "    <tr>\n",
       "      <th>2380319</th>\n",
       "      <td>USA1K61</td>\n",
       "      <td>2021-03-24</td>\n",
       "      <td>US6496045013</td>\n",
       "      <td>13.868507</td>\n",
       "      <td>-0.004374</td>\n",
       "      <td>True</td>\n",
       "    </tr>\n",
       "    <tr>\n",
       "      <th>2380382</th>\n",
       "      <td>USA1K61</td>\n",
       "      <td>2021-06-23</td>\n",
       "      <td>US6496045013</td>\n",
       "      <td>13.756181</td>\n",
       "      <td>-0.014803</td>\n",
       "      <td>True</td>\n",
       "    </tr>\n",
       "    <tr>\n",
       "      <th>2380445</th>\n",
       "      <td>USA1K61</td>\n",
       "      <td>2021-09-22</td>\n",
       "      <td>US6496045013</td>\n",
       "      <td>13.403049</td>\n",
       "      <td>0.020869</td>\n",
       "      <td>True</td>\n",
       "    </tr>\n",
       "    <tr>\n",
       "      <th>2380510</th>\n",
       "      <td>USA1K61</td>\n",
       "      <td>2021-12-23</td>\n",
       "      <td>US6496045013</td>\n",
       "      <td>13.282935</td>\n",
       "      <td>0.012416</td>\n",
       "      <td>True</td>\n",
       "    </tr>\n",
       "    <tr>\n",
       "      <th>2380571</th>\n",
       "      <td>USA1K61</td>\n",
       "      <td>2022-03-23</td>\n",
       "      <td>US6496045013</td>\n",
       "      <td>13.945223</td>\n",
       "      <td>-0.024085</td>\n",
       "      <td>True</td>\n",
       "    </tr>\n",
       "    <tr>\n",
       "      <th>2380635</th>\n",
       "      <td>USA1K61</td>\n",
       "      <td>2022-06-24</td>\n",
       "      <td>US6496045013</td>\n",
       "      <td>14.406054</td>\n",
       "      <td>0.078844</td>\n",
       "      <td>True</td>\n",
       "    </tr>\n",
       "    <tr>\n",
       "      <th>2380698</th>\n",
       "      <td>USA1K61</td>\n",
       "      <td>2022-09-23</td>\n",
       "      <td>US6496045013</td>\n",
       "      <td>14.291685</td>\n",
       "      <td>-0.057915</td>\n",
       "      <td>True</td>\n",
       "    </tr>\n",
       "    <tr>\n",
       "      <th>2380762</th>\n",
       "      <td>USA1K61</td>\n",
       "      <td>2022-12-23</td>\n",
       "      <td>US6496045013</td>\n",
       "      <td>13.597571</td>\n",
       "      <td>0.000000</td>\n",
       "      <td>True</td>\n",
       "    </tr>\n",
       "    <tr>\n",
       "      <th>2380812</th>\n",
       "      <td>USA1K61</td>\n",
       "      <td>2023-03-09</td>\n",
       "      <td>US6496048405</td>\n",
       "      <td>14.443053</td>\n",
       "      <td>-0.045514</td>\n",
       "      <td>True</td>\n",
       "    </tr>\n",
       "    <tr>\n",
       "      <th>2380818</th>\n",
       "      <td>USA1K61</td>\n",
       "      <td>2023-03-17</td>\n",
       "      <td>US6496048405</td>\n",
       "      <td>14.930832</td>\n",
       "      <td>-0.041026</td>\n",
       "      <td>True</td>\n",
       "    </tr>\n",
       "    <tr>\n",
       "      <th>2380880</th>\n",
       "      <td>USA1K61</td>\n",
       "      <td>2023-06-15</td>\n",
       "      <td>US6496048405</td>\n",
       "      <td>13.459123</td>\n",
       "      <td>0.015348</td>\n",
       "      <td>True</td>\n",
       "    </tr>\n",
       "    <tr>\n",
       "      <th>2380946</th>\n",
       "      <td>USA1K61</td>\n",
       "      <td>2023-09-20</td>\n",
       "      <td>US6496048405</td>\n",
       "      <td>13.963038</td>\n",
       "      <td>-0.025393</td>\n",
       "      <td>True</td>\n",
       "    </tr>\n",
       "    <tr>\n",
       "      <th>2381012</th>\n",
       "      <td>USA1K61</td>\n",
       "      <td>2023-12-22</td>\n",
       "      <td>US6496048405</td>\n",
       "      <td>13.893776</td>\n",
       "      <td>-0.003802</td>\n",
       "      <td>True</td>\n",
       "    </tr>\n",
       "  </tbody>\n",
       "</table>\n",
       "</div>"
      ],
      "text/plain": [
       "          barrid        date          isin  log_adj_volume    return  \\\n",
       "2379818  USA1K61  2019-03-28  US6496045013       13.724984  0.004644   \n",
       "2379877  USA1K61  2019-06-21  US6496045013       13.827114 -0.008746   \n",
       "2379938  USA1K61  2019-09-18  US6496045013       14.210334  0.009622   \n",
       "2380003  USA1K61  2019-12-19  US6496045013       13.861867 -0.004090   \n",
       "2380135  USA1K61  2020-06-30  US6496045013       13.673772 -0.007937   \n",
       "2380194  USA1K61  2020-09-23  US6496045013       13.802788 -0.051562   \n",
       "2380253  USA1K61  2020-12-16  US6496045013       13.439316 -0.005302   \n",
       "2380319  USA1K61  2021-03-24  US6496045013       13.868507 -0.004374   \n",
       "2380382  USA1K61  2021-06-23  US6496045013       13.756181 -0.014803   \n",
       "2380445  USA1K61  2021-09-22  US6496045013       13.403049  0.020869   \n",
       "2380510  USA1K61  2021-12-23  US6496045013       13.282935  0.012416   \n",
       "2380571  USA1K61  2022-03-23  US6496045013       13.945223 -0.024085   \n",
       "2380635  USA1K61  2022-06-24  US6496045013       14.406054  0.078844   \n",
       "2380698  USA1K61  2022-09-23  US6496045013       14.291685 -0.057915   \n",
       "2380762  USA1K61  2022-12-23  US6496045013       13.597571  0.000000   \n",
       "2380812  USA1K61  2023-03-09  US6496048405       14.443053 -0.045514   \n",
       "2380818  USA1K61  2023-03-17  US6496048405       14.930832 -0.041026   \n",
       "2380880  USA1K61  2023-06-15  US6496048405       13.459123  0.015348   \n",
       "2380946  USA1K61  2023-09-20  US6496048405       13.963038 -0.025393   \n",
       "2381012  USA1K61  2023-12-22  US6496048405       13.893776 -0.003802   \n",
       "\n",
       "         is_adj_date  \n",
       "2379818         True  \n",
       "2379877         True  \n",
       "2379938         True  \n",
       "2380003         True  \n",
       "2380135         True  \n",
       "2380194         True  \n",
       "2380253         True  \n",
       "2380319         True  \n",
       "2380382         True  \n",
       "2380445         True  \n",
       "2380510         True  \n",
       "2380571         True  \n",
       "2380635         True  \n",
       "2380698         True  \n",
       "2380762         True  \n",
       "2380812         True  \n",
       "2380818         True  \n",
       "2380880         True  \n",
       "2380946         True  \n",
       "2381012         True  "
      ]
     },
     "execution_count": 12,
     "metadata": {},
     "output_type": "execute_result"
    }
   ],
   "source": [
    "pv_df[(pv_df.barrid==\"USA1K61\")&(pv_df.is_adj_date)]"
   ]
  },
  {
   "cell_type": "code",
   "execution_count": 1,
   "id": "98e199e0-69db-4391-8384-5adf9b91e1e5",
   "metadata": {},
   "outputs": [
    {
     "data": {
      "text/plain": [
       "-0.048567681137668406"
      ]
     },
     "execution_count": 1,
     "metadata": {},
     "output_type": "execute_result"
    }
   ],
   "source": [
    "13.597571/14.291685-1"
   ]
  },
  {
   "cell_type": "code",
   "execution_count": 2,
   "id": "fce1dbeb-dde9-4dcb-a57d-777521f5f589",
   "metadata": {},
   "outputs": [
    {
     "data": {
      "text/plain": [
       "0.062178899451968306"
      ]
     },
     "execution_count": 2,
     "metadata": {},
     "output_type": "execute_result"
    }
   ],
   "source": [
    "14.443053/13.597571\t-1"
   ]
  },
  {
   "cell_type": "code",
   "execution_count": 3,
   "id": "7f729eae-a894-4084-accb-448dfe13b479",
   "metadata": {},
   "outputs": [
    {
     "data": {
      "text/plain": [
       "0.0980514093289162"
      ]
     },
     "execution_count": 3,
     "metadata": {},
     "output_type": "execute_result"
    }
   ],
   "source": [
    "14.930832/13.597571-1"
   ]
  },
  {
   "cell_type": "code",
   "execution_count": 13,
   "id": "93b723ff-70d2-42b3-a349-ee75cc31c2ee",
   "metadata": {},
   "outputs": [
    {
     "data": {
      "text/html": [
       "<div>\n",
       "<style scoped>\n",
       "    .dataframe tbody tr th:only-of-type {\n",
       "        vertical-align: middle;\n",
       "    }\n",
       "\n",
       "    .dataframe tbody tr th {\n",
       "        vertical-align: top;\n",
       "    }\n",
       "\n",
       "    .dataframe thead th {\n",
       "        text-align: right;\n",
       "    }\n",
       "</style>\n",
       "<table border=\"1\" class=\"dataframe\">\n",
       "  <thead>\n",
       "    <tr style=\"text-align: right;\">\n",
       "      <th></th>\n",
       "      <th>barrid</th>\n",
       "    </tr>\n",
       "    <tr>\n",
       "      <th>isin</th>\n",
       "      <th></th>\n",
       "    </tr>\n",
       "  </thead>\n",
       "  <tbody>\n",
       "    <tr>\n",
       "      <th>IE00BLNN3691</th>\n",
       "      <td>[USAEOF1, USBE2D1]</td>\n",
       "    </tr>\n",
       "    <tr>\n",
       "      <th>US0235861004</th>\n",
       "      <td>[USARZ41, USARZ42]</td>\n",
       "    </tr>\n",
       "    <tr>\n",
       "      <th>US03748R7474</th>\n",
       "      <td>[USARWM1, USBFDP1]</td>\n",
       "    </tr>\n",
       "    <tr>\n",
       "      <th>US1416191062</th>\n",
       "      <td>[USA8TQ1, GERRJO1]</td>\n",
       "    </tr>\n",
       "    <tr>\n",
       "      <th>US4219461047</th>\n",
       "      <td>[USAQGH1, GERJEF1]</td>\n",
       "    </tr>\n",
       "    <tr>\n",
       "      <th>VGG1110E1079</th>\n",
       "      <td>[USBDMI1, USBOFX1]</td>\n",
       "    </tr>\n",
       "  </tbody>\n",
       "</table>\n",
       "</div>"
      ],
      "text/plain": [
       "                          barrid\n",
       "isin                            \n",
       "IE00BLNN3691  [USAEOF1, USBE2D1]\n",
       "US0235861004  [USARZ41, USARZ42]\n",
       "US03748R7474  [USARWM1, USBFDP1]\n",
       "US1416191062  [USA8TQ1, GERRJO1]\n",
       "US4219461047  [USAQGH1, GERJEF1]\n",
       "VGG1110E1079  [USBDMI1, USBOFX1]"
      ]
     },
     "execution_count": 13,
     "metadata": {},
     "output_type": "execute_result"
    }
   ],
   "source": [
    "multiple_barrid = pv_df[[\"barrid\", \"isin\"]].drop_duplicates().groupby(\"isin\").count()\n",
    "multiple_barrid = multiple_barrid[multiple_barrid.values>1]\n",
    "multiple_barrid = pv_df[[\"barrid\", \"isin\"]].drop_duplicates().groupby(\"isin\").agg(list).loc[multiple_barrid.index]\n",
    "multiple_barrid"
   ]
  },
  {
   "cell_type": "code",
   "execution_count": 14,
   "id": "067430a5-70d7-4f7a-99aa-3d91c30db734",
   "metadata": {},
   "outputs": [
    {
     "name": "stdout",
     "output_type": "stream",
     "text": [
      "IE00BLNN3691 2019-05-14 2022-06-27\n",
      "US0235861004 2022-11-09 2022-11-10\n",
      "US03748R7474 2020-12-14 2020-12-15\n",
      "US1416191062 2023-04-28 2019-01-02\n",
      "US4219461047 2022-07-21 2019-01-02\n",
      "VGG1110E1079 2022-10-04 2022-10-05\n"
     ]
    }
   ],
   "source": [
    "for isin_i in multiple_barrid.index:\n",
    "    start_date = pv_df[pv_df[\"isin\"]==isin_i].groupby(\"barrid\").date.max().iloc[0]\n",
    "    end_date =pv_df[pv_df[\"isin\"]==isin_i].groupby(\"barrid\").date.min().iloc[1]\n",
    "    print(isin_i, start_date, end_date)"
   ]
  },
  {
   "cell_type": "code",
   "execution_count": 15,
   "id": "73535ed1-61a7-487f-ab5f-3b13341956b8",
   "metadata": {},
   "outputs": [
    {
     "name": "stdout",
     "output_type": "stream",
     "text": [
      "Min Date:  barrid\n",
      "GERRJO1    2023-04-28\n",
      "USA8TQ1    2019-01-02\n",
      "Name: date, dtype: object\n",
      "Min Date:  barrid\n",
      "GERRJO1    2023-04-28\n",
      "USA8TQ1    2023-04-27\n",
      "Name: date, dtype: object\n"
     ]
    },
    {
     "data": {
      "text/plain": [
       "1"
      ]
     },
     "execution_count": 15,
     "metadata": {},
     "output_type": "execute_result"
    }
   ],
   "source": [
    "isin_i=\"US1416191062\"\n",
    "print(\"Min Date: \", pv_df[pv_df[\"isin\"]==isin_i].groupby(\"barrid\").date.min())\n",
    "print(\"Min Date: \", pv_df[pv_df[\"isin\"]==isin_i].groupby(\"barrid\").date.max())\n",
    "pv_df[pv_df[\"barrid\"]==\"GERRJO1\"].shape[0]"
   ]
  },
  {
   "cell_type": "code",
   "execution_count": 16,
   "id": "32f67f6f-4942-4401-b116-d8b3453f67b3",
   "metadata": {},
   "outputs": [
    {
     "name": "stdout",
     "output_type": "stream",
     "text": [
      "Min Date:  barrid\n",
      "GERJEF1    2022-07-21\n",
      "USAQGH1    2019-01-02\n",
      "Name: date, dtype: object\n",
      "Min Date:  barrid\n",
      "GERJEF1    2022-07-21\n",
      "USAQGH1    2022-07-20\n",
      "Name: date, dtype: object\n"
     ]
    },
    {
     "data": {
      "text/plain": [
       "1"
      ]
     },
     "execution_count": 16,
     "metadata": {},
     "output_type": "execute_result"
    }
   ],
   "source": [
    "isin_i=\"US4219461047\"\n",
    "print(\"Min Date: \", pv_df[pv_df[\"isin\"]==isin_i].groupby(\"barrid\").date.min())\n",
    "print(\"Min Date: \", pv_df[pv_df[\"isin\"]==isin_i].groupby(\"barrid\").date.max())\n",
    "pv_df[pv_df[\"barrid\"]==\"GERJEF1\"].shape[0]"
   ]
  },
  {
   "cell_type": "code",
   "execution_count": 17,
   "id": "835db3c3-6c93-4c3e-bc8d-48034a4a6b5f",
   "metadata": {},
   "outputs": [
    {
     "data": {
      "text/html": [
       "<div>\n",
       "<style scoped>\n",
       "    .dataframe tbody tr th:only-of-type {\n",
       "        vertical-align: middle;\n",
       "    }\n",
       "\n",
       "    .dataframe tbody tr th {\n",
       "        vertical-align: top;\n",
       "    }\n",
       "\n",
       "    .dataframe thead th {\n",
       "        text-align: right;\n",
       "    }\n",
       "</style>\n",
       "<table border=\"1\" class=\"dataframe\">\n",
       "  <thead>\n",
       "    <tr style=\"text-align: right;\">\n",
       "      <th></th>\n",
       "      <th>barrid</th>\n",
       "      <th>date</th>\n",
       "      <th>isin</th>\n",
       "      <th>log_adj_volume</th>\n",
       "      <th>return</th>\n",
       "      <th>is_adj_date</th>\n",
       "    </tr>\n",
       "  </thead>\n",
       "  <tbody>\n",
       "    <tr>\n",
       "      <th>95221</th>\n",
       "      <td>USAEOF1</td>\n",
       "      <td>2019-05-10</td>\n",
       "      <td>IE00BLNN3691</td>\n",
       "      <td>17.833410</td>\n",
       "      <td>-0.026316</td>\n",
       "      <td>False</td>\n",
       "    </tr>\n",
       "    <tr>\n",
       "      <th>95222</th>\n",
       "      <td>USAEOF1</td>\n",
       "      <td>2019-05-13</td>\n",
       "      <td>IE00BLNN3691</td>\n",
       "      <td>NaN</td>\n",
       "      <td>0.000000</td>\n",
       "      <td>False</td>\n",
       "    </tr>\n",
       "    <tr>\n",
       "      <th>95223</th>\n",
       "      <td>USAEOF1</td>\n",
       "      <td>2019-05-14</td>\n",
       "      <td>IE00BLNN3691</td>\n",
       "      <td>20.511644</td>\n",
       "      <td>-0.864865</td>\n",
       "      <td>False</td>\n",
       "    </tr>\n",
       "    <tr>\n",
       "      <th>95224</th>\n",
       "      <td>USBE2D1</td>\n",
       "      <td>2022-06-27</td>\n",
       "      <td>IE00BLNN3691</td>\n",
       "      <td>14.330241</td>\n",
       "      <td>NaN</td>\n",
       "      <td>False</td>\n",
       "    </tr>\n",
       "    <tr>\n",
       "      <th>95225</th>\n",
       "      <td>USBE2D1</td>\n",
       "      <td>2022-06-28</td>\n",
       "      <td>IE00BLNN3691</td>\n",
       "      <td>13.735524</td>\n",
       "      <td>0.007340</td>\n",
       "      <td>False</td>\n",
       "    </tr>\n",
       "    <tr>\n",
       "      <th>95226</th>\n",
       "      <td>USBE2D1</td>\n",
       "      <td>2022-06-29</td>\n",
       "      <td>IE00BLNN3691</td>\n",
       "      <td>13.746185</td>\n",
       "      <td>-0.015431</td>\n",
       "      <td>False</td>\n",
       "    </tr>\n",
       "    <tr>\n",
       "      <th>95227</th>\n",
       "      <td>USBE2D1</td>\n",
       "      <td>2022-06-30</td>\n",
       "      <td>IE00BLNN3691</td>\n",
       "      <td>13.924104</td>\n",
       "      <td>-0.083152</td>\n",
       "      <td>False</td>\n",
       "    </tr>\n",
       "  </tbody>\n",
       "</table>\n",
       "</div>"
      ],
      "text/plain": [
       "        barrid        date          isin  log_adj_volume    return  \\\n",
       "95221  USAEOF1  2019-05-10  IE00BLNN3691       17.833410 -0.026316   \n",
       "95222  USAEOF1  2019-05-13  IE00BLNN3691             NaN  0.000000   \n",
       "95223  USAEOF1  2019-05-14  IE00BLNN3691       20.511644 -0.864865   \n",
       "95224  USBE2D1  2022-06-27  IE00BLNN3691       14.330241       NaN   \n",
       "95225  USBE2D1  2022-06-28  IE00BLNN3691       13.735524  0.007340   \n",
       "95226  USBE2D1  2022-06-29  IE00BLNN3691       13.746185 -0.015431   \n",
       "95227  USBE2D1  2022-06-30  IE00BLNN3691       13.924104 -0.083152   \n",
       "\n",
       "       is_adj_date  \n",
       "95221        False  \n",
       "95222        False  \n",
       "95223        False  \n",
       "95224        False  \n",
       "95225        False  \n",
       "95226        False  \n",
       "95227        False  "
      ]
     },
     "execution_count": 17,
     "metadata": {},
     "output_type": "execute_result"
    }
   ],
   "source": [
    "pv_df[(pv_df[\"isin\"]==\"IE00BLNN3691\")&(pv_df.date>=datetime.date(2019,5, 10))\\\n",
    "&(pv_df.date<=datetime.date(2022,6, 30))]"
   ]
  }
 ],
 "metadata": {
  "kernelspec": {
   "display_name": "Python 3 (ipykernel)",
   "language": "python",
   "name": "python3"
  },
  "language_info": {
   "codemirror_mode": {
    "name": "ipython",
    "version": 3
   },
   "file_extension": ".py",
   "mimetype": "text/x-python",
   "name": "python",
   "nbconvert_exporter": "python",
   "pygments_lexer": "ipython3",
   "version": "3.10.16"
  }
 },
 "nbformat": 4,
 "nbformat_minor": 5
}
