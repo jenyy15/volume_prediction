{
 "cells": [
  {
   "cell_type": "code",
   "execution_count": 1,
   "id": "84b36b5e-25a7-49f1-84ef-46d63d669641",
   "metadata": {},
   "outputs": [],
   "source": [
    "import numpy as np\n",
    "import pandas as pd\n",
    "import datetime\n",
    "import pyarrow.parquet as pq\n",
    "import os\n",
    "import matplotlib.pyplot as plt"
   ]
  },
  {
   "cell_type": "code",
   "execution_count": 2,
   "id": "a76c8ac3-049a-4b7c-b1c2-5c53c28d04a0",
   "metadata": {},
   "outputs": [
    {
     "data": {
      "text/plain": [
       "['barra_factor_exposures.parquet',\n",
       " 'earnings.parquet',\n",
       " 'pricing_and_volumes.parquet',\n",
       " 'r3k_sec_mapping.parquet']"
      ]
     },
     "execution_count": 2,
     "metadata": {},
     "output_type": "execute_result"
    }
   ],
   "source": [
    "### Preparation:\n",
    "# 1. read data file names\n",
    "folder_path = \"F:/volume_prediction\"\n",
    "filenames = os.listdir(folder_path)\n",
    "filenames = [x for x in filenames if x.endswith(\".parquet\")]\n",
    "\n",
    "filenames"
   ]
  },
  {
   "cell_type": "code",
   "execution_count": 3,
   "id": "8a19374d-3ee0-4493-96b5-b91b3dcb8bc8",
   "metadata": {},
   "outputs": [],
   "source": [
    "# 2. load data\n",
    "from model_training_utils import read_data\n",
    "# using pyarrow.parquet.read_table to load data\n",
    "# columns and filters are useful to save memory\n",
    "\n",
    "def load_barra(factor_group, universe, folder_path):\n",
    "    barra_factor_exposures_df = read_data(filename='barra_factor_exposures',\n",
    "                                          filters=[('factor_group','==',factor_group)], \n",
    "                                          folder_path=folder_path)\n",
    "    return universe.merge(barra_factor_exposures_df, \n",
    "                          on=[\"date\", \"barrid\"], how=\"left\", suffixes=(\"\", \"_barra\"))\n",
    "\n",
    "save_folder_path = \"F:/predictors_v2\"\n",
    "def write_data(df, filename):\n",
    "    return df.to_parquet(f\"{save_folder_path}/{filename}.parquet\", engine='pyarrow')"
   ]
  },
  {
   "cell_type": "markdown",
   "id": "dab4ee2e-36cc-4508-91e2-9bab9772c260",
   "metadata": {},
   "source": [
    "### [1] Find the universe after mapping\n",
    "use the intersection of universe"
   ]
  },
  {
   "cell_type": "code",
   "execution_count": 4,
   "id": "441068dd-debd-41c6-8bdf-f54c35cbe72d",
   "metadata": {},
   "outputs": [],
   "source": [
    "# final universe\n",
    "predictors_path = \"F:/predictors\"\n",
    "final_universe = read_data(filename=\"final_universe\",\n",
    "                               columns=['date', 'barrid', 'isin', 'fsym_id'], \n",
    "                               folder_path=predictors_path)"
   ]
  },
  {
   "cell_type": "code",
   "execution_count": 5,
   "id": "f4492df2-fa61-49fe-a8a6-0735a4b185fa",
   "metadata": {},
   "outputs": [
    {
     "data": {
      "text/plain": [
       "(datetime.date(2019, 1, 2), datetime.date(2023, 12, 29))"
      ]
     },
     "execution_count": 5,
     "metadata": {},
     "output_type": "execute_result"
    }
   ],
   "source": [
    "# check the time range of the final universe\n",
    "dates_list = final_universe.date.unique()\n",
    "min(dates_list), max(dates_list)"
   ]
  },
  {
   "cell_type": "markdown",
   "id": "dbd7bb5d-1975-4adc-b7b5-2c5172c82df5",
   "metadata": {},
   "source": [
    "### [2] Features/Predictors"
   ]
  },
  {
   "attachments": {},
   "cell_type": "markdown",
   "id": "0bdfc105-c682-42c9-806f-791aaba126b6",
   "metadata": {},
   "source": [
    "### 1. Technical signals (“tech”)\n",
    "From paper:  \n",
    "Technical signals (“tech”): lagged moving averages of returns and log dollar volume over the past 1, 5, 22, and 252 days.\n",
    "##### ++ feature from is_adj_date to earning release schedule factors"
   ]
  },
  {
   "cell_type": "code",
   "execution_count": 6,
   "id": "e0c6c49b-d2d1-4559-9d04-ba6f0dc371c3",
   "metadata": {},
   "outputs": [],
   "source": [
    "pv_df = read_data(filename=\"pricing_and_volumes\",\n",
    "                  columns=['date', 'barrid', 'adj_price', 'adj_volume', 'is_adj_date'], \n",
    "                  folder_path=folder_path)\n",
    "\n",
    "pv_df = final_universe.merge(pv_df, on=['date', 'barrid'], how=\"left\")\n",
    "pv_df = pv_df.sort_values(by=[\"isin\", \"date\"], ignore_index=True)\n",
    "pv_df.loc[:, \"adj_price\"]=pv_df[\"adj_price\"].replace(0, np.nan)\n",
    "pv_df.loc[:, \"log_adj_volume\"]=np.log(pv_df[\"adj_volume\"].replace(0, np.nan).replace(np.float32(\"inf\"), np.nan))\n",
    "pv_df.loc[:, \"return\"]=pv_df.groupby([\"isin\"])['adj_price'].pct_change(fill_method=None)\n",
    "\n",
    "pv_df = pv_df[['barrid', 'date', 'isin', 'log_adj_volume', 'return', 'is_adj_date']]"
   ]
  },
  {
   "cell_type": "code",
   "execution_count": 7,
   "id": "e812ec9b-7917-4298-ac86-49b4b4d1ec74",
   "metadata": {},
   "outputs": [],
   "source": [
    "# Build feature based on is_adj_date: \n",
    "# Assume we know some corp action in advance at least 2 days\n",
    "pv_df[\"is_adj_date\"] = pv_df.is_adj_date.astype(int)\n",
    "pv_df.loc[:, \"before_adj_date\"] = pv_df.groupby(\"isin\")['is_adj_date'].shift(-1).fillna(0) + pv_df.groupby(\"isin\")['is_adj_date'].shift(-2).fillna(0)\n",
    "pv_df.loc[:, \"on_after_adj_date\"] = pv_df.groupby(\"isin\")['is_adj_date'].shift(1).fillna(0) + pv_df.groupby(\"isin\")['is_adj_date'].shift(2).fillna(0)\n",
    "pv_df.loc[:, \"on_after_adj_date\"] += pv_df.loc[:, \"is_adj_date\"]"
   ]
  },
  {
   "cell_type": "code",
   "execution_count": 8,
   "id": "273acb73-320f-4476-9944-89115cd90328",
   "metadata": {},
   "outputs": [],
   "source": [
    "# Use log return instead of return\n",
    "pv_df['return'] = pv_df['return'].clip(lower=-1, upper=1)\n",
    "pv_df['logret'] = np.log(pv_df['return']+1)\n",
    "\n",
    "pv_df.loc[:, \"logret_ma1\"]=pv_df.groupby(\"isin\")['logret'].ffill()\n",
    "pv_df.loc[:, \"logret_ma5\"]=pv_df.groupby(\"isin\")['logret'].ffill().rolling(5).mean()\n",
    "pv_df.loc[:, \"logret_ma22\"]=pv_df.groupby(\"isin\")['logret'].ffill().rolling(22).mean()\n",
    "pv_df.loc[:, \"logret_ma252\"]=pv_df.groupby(\"isin\")['logret'].ffill().rolling(252).mean()\n",
    "\n",
    "# log vol is the same\n",
    "pv_df.loc[:, \"logvol_ma1\"]=pv_df.groupby(\"isin\")['log_adj_volume'].ffill()\n",
    "pv_df.loc[:, \"logvol_ma5\"]=pv_df.groupby(\"isin\")['log_adj_volume'].ffill().rolling(5).mean()\n",
    "pv_df.loc[:, \"logvol_ma22\"]=pv_df.groupby(\"isin\")['log_adj_volume'].ffill().rolling(22).mean()\n",
    "pv_df.loc[:, \"logvol_ma252\"]=pv_df.groupby(\"isin\")['log_adj_volume'].ffill().rolling(252).mean()"
   ]
  },
  {
   "cell_type": "code",
   "execution_count": 9,
   "id": "81e4c82f-ea6b-4bd7-93c3-8647d8d40f53",
   "metadata": {},
   "outputs": [
    {
     "data": {
      "text/plain": [
       "(<Axes: >, <Axes: >)"
      ]
     },
     "execution_count": 9,
     "metadata": {},
     "output_type": "execute_result"
    },
    {
     "data": {
      "image/png": "[encoded data removed]",
      "text/plain": [
       "<Figure size 640x480 with 1 Axes>"
      ]
     },
     "metadata": {},
     "output_type": "display_data"
    }
   ],
   "source": [
    "pv_df[\"return\"].hist(), pv_df[\"logret\"].hist()"
   ]
  },
  {
   "cell_type": "code",
   "execution_count": 11,
   "id": "60d4362b-e53d-41f6-95b6-ce730c668de3",
   "metadata": {},
   "outputs": [],
   "source": [
    "pv_df = pv_df.drop(columns=[\"return\",\"is_adj_date\"])\n",
    "# Drop suspicious records\n",
    "# dates = [datetime.date(2019, 5, 13), datetime.date(2019, 5, 14), datetime.date(2022, 6, 27)]\n",
    "# isins = [\"IE00BLNN3691\"]\n",
    "# pv_df = pv_df[~(pv_df[\"isin\"].isin(isins) & pv_df[\"date\"].isin(dates))]\n",
    "pv_df = pv_df[~pv_df[\"barrid\"].isin([\"GERJEF1\", \"GERRJO1\"])]"
   ]
  },
  {
   "cell_type": "code",
   "execution_count": 12,
   "id": "7ce98edd-fbcb-4e45-8e3b-8c6f419d4946",
   "metadata": {},
   "outputs": [],
   "source": [
    "# save the new tech features\n",
    "write_data(pv_df, \"tech\")"
   ]
  },
  {
   "cell_type": "markdown",
   "id": "ec448ac8-bc50-48f3-84fa-b4e2787dc6b1",
   "metadata": {},
   "source": [
    "### 2. Fundamental firm characteristics: market equity\n",
    "From paper:\n",
    "A small set of commonly used fundamental firm characteristics (“fund-1”): market equity, standardized earnings surprise, book leverage, book-to-market equity, Dimson beta, and firm age. (6 predictors.)\n",
    "\n",
    "What we have: we have market equity in pricing_and_volumes_df\n",
    "\n",
    "##### ++ 5, 22-day mean: no 252 because I need the data to pretrain"
   ]
  },
  {
   "cell_type": "code",
   "execution_count": 31,
   "id": "29157b8c-e6a7-4218-826d-165b21e34fbd",
   "metadata": {},
   "outputs": [],
   "source": [
    "mkt_cap = read_data(filename=\"mkt_cap\",\n",
    "                    folder_path=predictors_path)\n",
    "\n",
    "mkt_cap = mkt_cap.sort_values(by=[\"isin\", \"date\"], ignore_index=True)"
   ]
  },
  {
   "cell_type": "code",
   "execution_count": 32,
   "id": "da30c229-1ed3-4f1a-9533-2a2b45672ad4",
   "metadata": {},
   "outputs": [],
   "source": [
    "mkt_cap[\"logmkt_cap\"] = np.log(mkt_cap[\"mkt_cap\"])\n",
    "\n",
    "mkt_cap.loc[:, \"logmktcap_ma1\"]=mkt_cap.groupby(\"isin\")['logmkt_cap'].ffill()\n",
    "mkt_cap.loc[:, \"logmktcap_ma5\"]=mkt_cap.groupby(\"isin\")['logmkt_cap'].ffill().rolling(5).mean()\n",
    "mkt_cap.loc[:, \"logmktcap_ma22\"]=mkt_cap.groupby(\"isin\")['logmkt_cap'].ffill().rolling(22).mean()"
   ]
  },
  {
   "cell_type": "code",
   "execution_count": 33,
   "id": "76639c33-751c-42f1-8b39-730ac1879fe0",
   "metadata": {},
   "outputs": [],
   "source": [
    "mkt_cap = mkt_cap.drop(columns=['mkt_cap'])\n",
    "# Drop suspicious records\n",
    "# dates = [datetime.date(2019, 5, 13), datetime.date(2019, 5, 14), datetime.date(2022, 6, 27)]\n",
    "# isins = [\"IE00BLNN3691\"]\n",
    "# mkt_cap = mkt_cap[~(mkt_cap[\"isin\"].isin(isins) & mkt_cap[\"date\"].isin(dates))]\n",
    "mkt_cap = mkt_cap[~mkt_cap[\"barrid\"].isin([\"GERJEF1\", \"GERRJO1\"])]"
   ]
  },
  {
   "cell_type": "code",
   "execution_count": 34,
   "id": "8aa8e501-8723-4650-a536-08ae917a6e8f",
   "metadata": {},
   "outputs": [],
   "source": [
    "# Save the new market cap features\n",
    "write_data(mkt_cap, \"mkt_cap\")"
   ]
  },
  {
   "cell_type": "markdown",
   "id": "472e03b3-085b-4fc0-8e83-4ff94320f8ad",
   "metadata": {},
   "source": [
    "### 3. Style and industry factors\n",
    "From paper:\n",
    "The remaining firm characteristics from the JKP dataset (“fund-2”), which are merged and transformed in the same way as fund-1 variables. (147 predictors.)\n",
    "\n",
    "What we have: barra factor\n",
    "\n",
    "##### ++5, 22: no 252 because I need the data to pretrain"
   ]
  },
  {
   "cell_type": "markdown",
   "id": "79147d79-7d55-4fc6-a7ee-dd0829a71049",
   "metadata": {},
   "source": [
    "#### (1). Style factors\n",
    "factor_group = '1-Risk Indices': each barrid should have a value for each factor each date"
   ]
  },
  {
   "cell_type": "code",
   "execution_count": 6,
   "id": "da2884da-f3c3-4e7c-8c62-49e7566ecea8",
   "metadata": {},
   "outputs": [],
   "source": [
    "# Load style factors\n",
    "style_factors = load_barra('1-Risk Indices', universe = final_universe, folder_path=folder_path)\n",
    "# Transform it into the format [date, isin, factors...]\n",
    "# which the machine learning model can use directly\n",
    "style_factors = pd.pivot_table(style_factors, index=[\"date\", \"isin\"], columns=[\"factor\"], values=\"exposure\",\n",
    "                               observed=True).reset_index().drop(columns=[\"EFMUSATRD_CARBONEFF\"])"
   ]
  },
  {
   "cell_type": "code",
   "execution_count": null,
   "id": "4d0b09db-4285-4920-b416-4481f32155a5",
   "metadata": {
    "scrolled": true
   },
   "outputs": [],
   "source": [
    "# data range:\n",
    "style_factors.describe().loc[[\"min\", \"max\"]].T"
   ]
  },
  {
   "cell_type": "code",
   "execution_count": 10,
   "id": "928d2223-e373-4252-a28e-05a7f46b1f7b",
   "metadata": {},
   "outputs": [
    {
     "data": {
      "text/plain": [
       "<Axes: >"
      ]
     },
     "execution_count": 10,
     "metadata": {},
     "output_type": "execute_result"
    },
    {
     "data": {
      "image/png": "[encoded data removed]",
      "text/plain": [
       "<Figure size 640x480 with 1 Axes>"
      ]
     },
     "metadata": {},
     "output_type": "display_data"
    }
   ],
   "source": [
    "# example to show the distribution\n",
    "style_factors[\"EFMUSATRD_PROFIT\"].hist()"
   ]
  },
  {
   "cell_type": "code",
   "execution_count": 9,
   "id": "4a6a8077-b209-45bb-98e3-4edc0cde74fe",
   "metadata": {},
   "outputs": [],
   "source": [
    "# remove \"EFMUSATRD_\" in the factor name\n",
    "style_factor_names = style_factors.columns[2:] # the first two are dates and ids. drop them\n",
    "\n",
    "new_style_factors = style_factors[[\"isin\", \"date\"]].copy()\n",
    "for factor_name in style_factor_names:\n",
    "    for ma_num in [1,5,22]:\n",
    "        new_style_factors.loc[:, f'{factor_name.split(\"_\")[1]}_ma{ma_num}'] = style_factors.groupby(\"isin\")[factor_name].ffill().rolling(ma_num).mean()"
   ]
  },
  {
   "cell_type": "code",
   "execution_count": 10,
   "id": "7622d8de-b4be-4821-8571-b80ee7646eec",
   "metadata": {},
   "outputs": [],
   "source": [
    "# Save the style factor features\n",
    "write_data(new_style_factors, \"style_factors\")"
   ]
  },
  {
   "cell_type": "markdown",
   "id": "cde6f427-761f-4dda-8f90-173e86de7b6d",
   "metadata": {},
   "source": [
    "#### (2). Industry factors\n",
    "factor_group = '2-Industries': each barrid should be classified into at least one industry\n",
    "\n",
    "format: one-hot * exposure value\n",
    "##### ++ aggregation values based on the industry with the largest exposure value"
   ]
  },
  {
   "cell_type": "code",
   "execution_count": 6,
   "id": "0de23b8c-447d-4e99-b7e5-3a2c1320bde3",
   "metadata": {},
   "outputs": [],
   "source": [
    "## Part 1: no change\n",
    "# Load industry factors\n",
    "# https://medium.com/bcggamma/a-better-way-forecasting-with-embeddings-8f45e7065f2b\n",
    "industry_factors = load_barra('2-Industries', universe = final_universe, folder_path=folder_path)\n",
    "# Transform it into the format [date, isin, factors...]\n",
    "# which the machine learning model can use directly\n",
    "# Method: use dummpy variable and also contain the info of exposure\n",
    "industry_factors = pd.pivot_table(industry_factors, index=[\"date\", \"isin\"], columns=[\"factor\"], \n",
    "                                  values=\"exposure\", observed=True).reset_index().fillna(0)"
   ]
  },
  {
   "cell_type": "code",
   "execution_count": null,
   "id": "e971fe40-3d42-4782-b63d-80a5d00b0f3b",
   "metadata": {
    "scrolled": true
   },
   "outputs": [],
   "source": [
    "# data range: no negative values\n",
    "industry_factors.describe().loc[[\"min\", \"max\"]].T"
   ]
  },
  {
   "cell_type": "code",
   "execution_count": 7,
   "id": "27a98ed6-c791-40f9-8298-eaf0a96fce35",
   "metadata": {},
   "outputs": [],
   "source": [
    "# remove \"EFMUSATRD_\" in the factor name\n",
    "industry_factors.columns = list(industry_factors.columns[:2]) + [factor_name.split(\"_\")[1] for factor_name in industry_factors.columns[2:]]"
   ]
  },
  {
   "cell_type": "code",
   "execution_count": null,
   "id": "7c4ae03b-b4fe-404f-beff-40fe67546cdd",
   "metadata": {},
   "outputs": [],
   "source": [
    "# Save the industry factor features\n",
    "write_data(industry_factors, \"industry_factors\")"
   ]
  },
  {
   "cell_type": "code",
   "execution_count": 14,
   "id": "2cd39eb7-7874-4617-b545-310ad6073ea3",
   "metadata": {},
   "outputs": [],
   "source": [
    "# Part 2: aggregation\n",
    "ind_cols=['AERODEF', 'AIRLINES', 'ALUMSTEL', 'APPAREL', 'AUTO',\n",
    "       'BANKS', 'BEVTOB', 'BIOLIFE', 'BLDGPROD', 'CHEM', 'CNSTENG', 'CNSTMACH',\n",
    "       'CNSTMATLPAPER', 'COMMEQP', 'COMPELEC', 'COMSVCS', 'CONGLOM',\n",
    "       'CONTAINR', 'DISTRIB', 'DIVFIN', 'ELECEQP', 'ELECUTIL', 'ENERGYEQ',\n",
    "       'FOODPROD', 'FOODRET', 'GASUTIL', 'HLTHEQP', 'HLTHSVCS', 'HOMEBLDG',\n",
    "       'HOUSEDUR', 'INDMACH', 'INSURNCE', 'INTERNET', 'LEISPROD', 'LEISSVCS',\n",
    "       'LIFEINS', 'MEDIA', 'MGDHLTH', 'MULTUTIL', 'NETRET', 'OILGSCON',\n",
    "       'OILGSEXP', 'PHARMA', 'PRECMTLS', 'PSNLPROD', 'REALEST', 'RESTAUR',\n",
    "       'RLESTMNG', 'ROADRAIL', 'SEMICOND', 'SEMIEQP', 'SOFTWARE', 'SPLTYRET',\n",
    "       'SPTYCHEM', 'SPTYSTOR', 'TELECOM', 'TRADECO', 'TRANSPRT']\n",
    "\n",
    "industry_factors_new=industry_factors[[\"date\", \"isin\"]].copy()\n",
    "# Find the indutrsy with the laregst exposure for each stock\n",
    "industry_factors_new[\"idxmax\"] = industry_factors[ind_cols].idxmax(axis=1)\n",
    "# Get the indutrsy exposure with the laregst value for each stock\n",
    "industry_factors_new[\"max_ind_exposure\"]=industry_factors[ind_cols].max(axis=1)"
   ]
  },
  {
   "cell_type": "code",
   "execution_count": 11,
   "id": "48b5d78f-7709-4155-ab0a-2f4e8c57dbcb",
   "metadata": {},
   "outputs": [],
   "source": [
    "# load other datasets for aggregation\n",
    "tech_df = read_data(filename=\"tech\", columns=[\"date\", \"isin\", 'logvol_ma1',  'logvol_ma5', \n",
    "                                              'logvol_ma22', 'logvol_ma252'], folder_path=save_folder_path)\n",
    "\n",
    "style_df = read_data(filename=\"style_factors\", columns=[\"date\", \"isin\", 'SIZE_ma1', 'SIZE_ma5', 'SIZE_ma22'], \n",
    "                     folder_path=save_folder_path)\n",
    "\n",
    "mkt_cap_df = read_data(filename=\"mkt_cap\", columns=[\"date\", \"isin\", 'logmktcap_ma1', 'logmktcap_ma5',\n",
    "                                                   'logmktcap_ma22', 'logmktcap_ma252'], folder_path=save_folder_path)"
   ]
  },
  {
   "cell_type": "code",
   "execution_count": null,
   "id": "f8593e2e-0545-48ec-86cd-9a4965df3837",
   "metadata": {},
   "outputs": [],
   "source": [
    "# get aggreagtion values of the industry with the largest exposure for each stock\n",
    "def agg_industry_factors(industry_factors, predictor_df, col_names):\n",
    "    df = industry_factors.merge(predictor_df, on=[\"date\", \"isin\"], how=\"left\")\n",
    "    \n",
    "    industry_factors_agg = df.groupby([\"date\", \"idxmax\"])[col_names].mean().reset_index()\n",
    "    industry_factors_agg.columns=['date', 'idxmax'] + [f\"indavg_{i}\" for i in col_names]\n",
    "\n",
    "    industry_factors_agg2 = df.groupby([\"date\", \"idxmax\"])[col_names].std().reset_index()\n",
    "    industry_factors_agg2.columns=['date', 'idxmax'] + [f\"indstd_{i}\" for i in col_names]\n",
    "    \n",
    "    industry_factors_agg2 = df.groupby([\"date\", \"idxmax\"])[col_names].std().reset_index()\n",
    "    industry_factors_agg2.columns=['date', 'idxmax'] + [f\"indstd_{i}\" for i in col_names]\n",
    "    \n",
    "    return industry_factors_agg.merge(industry_factors_agg2, on=[\"date\", \"idxmax\"], how=\"left\")\n",
    "    \n",
    "industry_factors_agg = agg_industry_factors(industry_factors_new, tech_df, ['logvol_ma1', 'logvol_ma5', 'logvol_ma22', 'logvol_ma252'])\n",
    "industry_factors_agg2 = agg_industry_factors(industry_factors_new, style_df, ['SIZE_ma1', 'SIZE_ma5', 'SIZE_ma22'])\n",
    "industry_factors_agg3 = agg_industry_factors(industry_factors_new, mkt_cap_df, ['logmktcap_ma1', 'logmktcap_ma5', 'logmktcap_ma22', 'logmktcap_ma252'])\n",
    "\n",
    "industry_factors_agg = industry_factors_agg.merge(industry_factors_agg2, on=[\"date\", \"idxmax\"], how=\"left\")\n",
    "industry_factors_agg = industry_factors_agg.merge(industry_factors_agg3, on=[\"date\", \"idxmax\"], how=\"left\")"
   ]
  },
  {
   "cell_type": "code",
   "execution_count": 39,
   "id": "13df453c-9232-42ed-856e-d16706da2d8f",
   "metadata": {},
   "outputs": [],
   "source": [
    "# Merge the largest expsoure valud and the aggregation values of the industry\n",
    "industry_factors_new = industry_factors_new[[\"date\", \"isin\", \"max_ind_exposure\", \"idxmax\"]].merge(industry_factors_agg,\n",
    "                                                                       on=[\"date\", \"idxmax\"],\n",
    "                                                                       how=\"left\")"
   ]
  },
  {
   "cell_type": "code",
   "execution_count": 42,
   "id": "a2f60b4b-2b92-446d-8daa-90d68daf1be6",
   "metadata": {},
   "outputs": [],
   "source": [
    "industry_factors_new = industry_factors_new[['date', 'isin', 'max_ind_exposure', 'indavg_logvol_ma1',\n",
    "                                             'indavg_logvol_ma5', 'indavg_logvol_ma22', 'indavg_logvol_ma252',\n",
    "                                             'indstd_logvol_ma1', 'indstd_logvol_ma5', 'indstd_logvol_ma22',\n",
    "                                             'indstd_logvol_ma252', 'indavg_SIZE_ma1', 'indavg_SIZE_ma5',\n",
    "                                             'indavg_SIZE_ma22', 'indstd_SIZE_ma1', 'indstd_SIZE_ma5',\n",
    "                                             'indstd_SIZE_ma22', 'indavg_logmktcap_ma1', 'indavg_logmktcap_ma5',\n",
    "                                             'indavg_logmktcap_ma22', 'indavg_logmktcap_ma252',\n",
    "                                             'indstd_logmktcap_ma1', 'indstd_logmktcap_ma5', 'indstd_logmktcap_ma22',\n",
    "                                             'indstd_logmktcap_ma252', 'idxmax']]"
   ]
  },
  {
   "cell_type": "code",
   "execution_count": 43,
   "id": "c89147ed-1977-4abc-b902-8d3b771ef4f9",
   "metadata": {},
   "outputs": [],
   "source": [
    "# Save the aggregation industry factor features\n",
    "write_data(industry_factors_new, \"agg_industry_factors\")"
   ]
  },
  {
   "cell_type": "markdown",
   "id": "e75c0868-639f-4cd0-93bc-f75622e82396",
   "metadata": {},
   "source": [
    "### 4. Calendar dates with large effects on trading volume (“calendar”)\n",
    "From paper:\n",
    "We hard code four binary features based on the dates of the following four types of events.\n",
    "- Early closing days for the exchanges (July 3rd, Black Friday, Christmas Eve, and New Year’s Eve).\n",
    "- Triple witching days (four times a year when the index futures contract expires at the same time as the index option contract and single stocks options).\n",
    "- Double witching days (eight times a year when two of the three events above, the single stock options and index options expiration, coincide).\n",
    "- Russell index re-balancing (once a year, the fourth Friday in June).\n",
    "  \n",
    "Early closing days have substantially less trading volume, while the other three are associated with positive spikes in trading volume.\n",
    "##### ++ indicators for dates before and after these special dates."
   ]
  },
  {
   "cell_type": "code",
   "execution_count": 63,
   "id": "1dcf5297-e567-477f-b8a0-c0afb5dc1940",
   "metadata": {},
   "outputs": [],
   "source": [
    "calendar_date = read_data(filename=\"calendar_date\",\n",
    "                          folder_path=predictors_path)"
   ]
  },
  {
   "cell_type": "code",
   "execution_count": null,
   "id": "789ff5d0-784a-4902-8f70-405b83ab0df4",
   "metadata": {},
   "outputs": [],
   "source": [
    "calendar_date.head()\n",
    "\n",
    "# This is a synthetic example following the structure of event-based data.\n",
    "# No proprietary data is included.\n",
    "\n",
    "# | early_close  | triple_witch | double_witch | russell_rebalance | date       | barrid   | isin         |\n",
    "# |--------------|--------------|--------------|-------------------|------------|----------|--------------|\n",
    "# | 0            | 0            | 0            | 0                 | 2019-01-02 | USAXXX1  | XX0000000001 |\n",
    "# | 0            | 0            | 0            | 0                 | 2019-01-02 | USAXXX2  | XX0000000002 |\n",
    "# | 0            | 0            | 0            | 0                 | 2019-01-02 | USAXXX3  | XX0000000003 |\n",
    "# | 0            | 0            | 0            | 0                 | 2019-01-02 | USAXXX4  | XX0000000004 |\n",
    "# | 0            | 0            | 0            | 0                 | 2019-01-02 | USAXXX5  | XX0000000005 |\n"
   ]
  },
  {
   "cell_type": "code",
   "execution_count": 66,
   "id": "e9383813-1148-4fba-b214-9dadc3c5e683",
   "metadata": {},
   "outputs": [],
   "source": [
    "# witch date\n",
    "calendar_date[\"witch_date\"] = calendar_date[\"triple_witch\"]+calendar_date[\"double_witch\"]\n",
    "calendar_date = calendar_date[['date', 'barrid', 'isin', 'witch_date', 'early_close', 'russell_rebalance']]\n",
    "calendar_date.loc[:, \"before_witch\"] = calendar_date.groupby(\"isin\")['witch_date'].shift(-1).fillna(0) + calendar_date.groupby(\"isin\")['witch_date'].shift(-2).fillna(0)\n",
    "calendar_date.loc[:, \"on_after_witch\"] = calendar_date.groupby(\"isin\")['witch_date'].shift(1).fillna(0) + calendar_date.groupby(\"isin\")['witch_date'].shift(2).fillna(0)\n",
    "calendar_date.loc[:, \"on_after_witch\"] += calendar_date[\"witch_date\"]"
   ]
  },
  {
   "cell_type": "code",
   "execution_count": 67,
   "id": "3c36af07-7bc3-4c0b-873d-de19acacff48",
   "metadata": {},
   "outputs": [],
   "source": [
    "# early close date\n",
    "calendar_date.loc[:, \"before_early_close\"] = calendar_date.groupby(\"isin\")['early_close'].shift(-1).fillna(0) + calendar_date.groupby(\"isin\")['early_close'].shift(-2).fillna(0)\n",
    "calendar_date.loc[:, \"on_after_early_close\"] = calendar_date.groupby(\"isin\")['early_close'].shift(1).fillna(0) + calendar_date.groupby(\"isin\")['early_close'].shift(2).fillna(0)\n",
    "calendar_date.loc[:, \"on_after_early_close\"] += calendar_date[\"early_close\"]"
   ]
  },
  {
   "cell_type": "code",
   "execution_count": 68,
   "id": "2c41b289-e824-404c-a1d8-0950c69cf700",
   "metadata": {},
   "outputs": [],
   "source": [
    "# russell rebalance\n",
    "calendar_date.loc[:, \"before_rebalance\"] = calendar_date.groupby(\"isin\")['russell_rebalance'].shift(-1).fillna(0) + calendar_date.groupby(\"isin\")['russell_rebalance'].shift(-2).fillna(0)\n",
    "calendar_date.loc[:, \"on_after_rebalance\"] = calendar_date.groupby(\"isin\")['russell_rebalance'].shift(1).fillna(0) + calendar_date.groupby(\"isin\")['russell_rebalance'].shift(2).fillna(0)\n",
    "calendar_date.loc[:, \"on_after_rebalance\"] += calendar_date[\"russell_rebalance\"]"
   ]
  },
  {
   "cell_type": "code",
   "execution_count": 72,
   "id": "a249b43e-5cdd-493b-9269-baaf7c26f1b5",
   "metadata": {},
   "outputs": [],
   "source": [
    "# cast type into int\n",
    "calendar_date.loc[:, ['before_witch', 'on_after_witch', \n",
    "                      'before_early_close', 'on_after_early_close', \n",
    "                      'before_rebalance', 'on_after_rebalance']] = calendar_date[['before_witch', 'on_after_witch', \n",
    "                                                                                  'before_early_close', 'on_after_early_close', \n",
    "                                                                                  'before_rebalance', 'on_after_rebalance']].astype(int)"
   ]
  },
  {
   "cell_type": "code",
   "execution_count": 73,
   "id": "00aacaeb-ef76-41a4-b66c-c72b729d3218",
   "metadata": {},
   "outputs": [],
   "source": [
    "# remove other columns\n",
    "calendar_date=calendar_date[['date', 'barrid', 'isin', 'before_witch', 'on_after_witch', \n",
    "                             'before_early_close', 'on_after_early_close', 'before_rebalance', 'on_after_rebalance']]"
   ]
  },
  {
   "cell_type": "code",
   "execution_count": 76,
   "id": "bebfa328-beea-495e-bc29-db88c7fb379b",
   "metadata": {},
   "outputs": [],
   "source": [
    "# Save calendar feature \n",
    "write_data(calendar_date, \"calendar_date\")"
   ]
  },
  {
   "cell_type": "markdown",
   "id": "8f76d6ff-0d51-43f3-9dbc-86d49747a259",
   "metadata": {},
   "source": [
    "### 5. Earnings release schedule (“earnings”): \n",
    "From paper:\n",
    "We construct 10 categorical dummy variables (one hot encoding) indicating whether the firm has an upcoming earnings release or just had one in the past few days. \n",
    "- We first construct the number of days until the next known scheduled earnings release event.\n",
    "  \n",
    "  For example, a value of zero implies the current day is previously known to have a scheduled release. A negative value means there are no known scheduled events in the future and indicates how many days since the last event.\n",
    "- We convert this number into 10 dummy variables of categorical bins: ≤ −4,−3,−2,−1,0,1,2,3,4,≥ 5. The data source is the Capital IQ Key Developments dataset. (10 predictors.)\n",
    "##### From ['lag_-1', 'lag_-2', 'lag_-3', 'lag_0', 'lag_1', 'lag_2', 'lag_3', 'lag_-4', 'lag_≥5'] To ['≤-3', '-1_2', '0', '1_2', '≥3']\n"
   ]
  },
  {
   "cell_type": "code",
   "execution_count": 78,
   "id": "6e7b45c4-c6ea-4d79-b1e9-e28d1c36ca3e",
   "metadata": {},
   "outputs": [],
   "source": [
    "# Load earning calendar data in the final universe\n",
    "release_schedule = read_data(filename=\"release_schedule\",\n",
    "                             folder_path=predictors_path)"
   ]
  },
  {
   "cell_type": "code",
   "execution_count": 80,
   "id": "03cfe629-d990-4f8c-b482-a26cf349d763",
   "metadata": {},
   "outputs": [],
   "source": [
    "# merge 3,4,>=5 into >=3 \n",
    "release_schedule['≥3']=release_schedule['3']+ release_schedule['4']+ release_schedule['≥5']\n",
    "# merge 1,2 into 1_2\n",
    "release_schedule['1_2']=release_schedule['1']+ release_schedule['2']"
   ]
  },
  {
   "cell_type": "code",
   "execution_count": 81,
   "id": "049698db-fb2c-4407-99b6-678ab8d3e202",
   "metadata": {},
   "outputs": [],
   "source": [
    "# merge -3,<=-4 into <=-3 \n",
    "release_schedule['≤-3']=release_schedule['-3']+ release_schedule['≤-4']\n",
    "# merge -1,-2 into -1_2\n",
    "release_schedule['-1_2']=release_schedule['-1']+ release_schedule['-2']"
   ]
  },
  {
   "cell_type": "code",
   "execution_count": 86,
   "id": "dcf35d1a-e26c-4312-addd-8ec7c17424e5",
   "metadata": {},
   "outputs": [],
   "source": [
    "release_schedule=release_schedule[['date', 'isin', '≤-3', '-1_2', '0', '1_2', '≥3']]"
   ]
  },
  {
   "cell_type": "code",
   "execution_count": null,
   "id": "df92dabf-c68c-4b9a-9b5f-f1d4c08c0e27",
   "metadata": {},
   "outputs": [],
   "source": [
    "release_schedule.head()\n",
    "# # This is a synthetic example following the structure of stock factor exposure data.\n",
    "# # No proprietary data is included.\n",
    "\n",
    "# | date       | isin           | ≤-3 | -1_2 | 0   | 1_2 | ≥3  |\n",
    "# |------------|----------------|-----|------|-----|-----|-----|\n",
    "# | 2019-01-02 | xxxxxxxxxxx1   | 0.0 | 0.0  | 0.0 | 0.0 | 1.0 |\n",
    "# | 2019-01-02 | xxxxxxxxxxx2   | 0.0 | 0.0  | 0.0 | 0.0 | 1.0 |\n",
    "# | 2019-01-02 | xxxxxxxxxxx3   | 0.0 | 0.0  | 0.0 | 0.0 | 1.0 |\n",
    "# | 2019-01-02 | xxxxxxxxxxx4   | 0.0 | 0.0  | 0.0 | 0.0 | 1.0 |\n",
    "# | 2019-01-02 | xxxxxxxxxxx5   | 0.0 | 0.0  | 0.0 | 0.0 | 1.0 |\n"
   ]
  },
  {
   "cell_type": "code",
   "execution_count": 88,
   "id": "1627e5ae-05db-49df-a6fb-4e366e483134",
   "metadata": {},
   "outputs": [],
   "source": [
    "# Save earning schedule feature \n",
    "write_data(release_schedule, \"release_schedule\")"
   ]
  }
 ],
 "metadata": {
  "kernelspec": {
   "display_name": "Python 3 (ipykernel)",
   "language": "python",
   "name": "python3"
  },
  "language_info": {
   "codemirror_mode": {
    "name": "ipython",
    "version": 3
   },
   "file_extension": ".py",
   "mimetype": "text/x-python",
   "name": "python",
   "nbconvert_exporter": "python",
   "pygments_lexer": "ipython3",
   "version": "3.10.16"
  }
 },
 "nbformat": 4,
 "nbformat_minor": 5
}
