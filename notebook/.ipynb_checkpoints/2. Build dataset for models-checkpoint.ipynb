{
 "cells": [
  {
   "cell_type": "markdown",
   "id": "1acf3125-7e99-47dc-80bd-a7054f4f0879",
   "metadata": {},
   "source": [
    "### Target \n",
    "To build one dataset containing all the predictors and dependent varaibles into one dataset\n",
    "\n",
    "### Result\n",
    "Saved 'final_dataset'"
   ]
  },
  {
   "cell_type": "code",
   "execution_count": 1,
   "id": "0a83d4cf-2daf-4f2a-bce9-32b21032cbe2",
   "metadata": {},
   "outputs": [
    {
     "data": {
      "text/plain": [
       "['final_universe.parquet',\n",
       " 'tech.parquet',\n",
       " 'mkt_cap.parquet',\n",
       " 'style_factors.parquet',\n",
       " 'industry_factors.parquet',\n",
       " 'calendar_date.parquet',\n",
       " 'release_schedule.parquet',\n",
       " 'final_dataset.parquet']"
      ]
     },
     "execution_count": 1,
     "metadata": {},
     "output_type": "execute_result"
    }
   ],
   "source": [
    "import numpy as np\n",
    "import pandas as pd\n",
    "import datetime\n",
    "import pyarrow.parquet as pq\n",
    "import os\n",
    "import matplotlib.pyplot as plt\n",
    "\n",
    "# 1. read data file names\n",
    "folder_path = \"F:/predictors\"\n",
    "save_folder_path = \"F:/predictors\"\n",
    "filenames = os.listdir(folder_path)\n",
    "filenames = [x for x in filenames if x.endswith(\".parquet\")]\n",
    "\n",
    "filenames"
   ]
  },
  {
   "cell_type": "code",
   "execution_count": 2,
   "id": "79e2e290-ef3d-4cdc-a67f-964fc86d51df",
   "metadata": {},
   "outputs": [],
   "source": [
    "# 2. load data and write data functions\n",
    "from model_training_utils import read_data\n",
    "# using pyarrow.parquet.read_table to load data\n",
    "# columns and filters are useful to save memory\n",
    "    \n",
    "def write_data(df, filename):\n",
    "    return df.to_parquet(f\"{save_folder_path}/{filename}.parquet\", engine='pyarrow')"
   ]
  },
  {
   "cell_type": "code",
   "execution_count": 3,
   "id": "ef081ede-f70a-4a7b-8fc3-5e2216ea353b",
   "metadata": {},
   "outputs": [],
   "source": [
    "# 3. Load data\n",
    "# russell 3000\n",
    "final_universe = read_data(filename=\"final_universe\", folder_path=folder_path)\n",
    "# calendar_date\n",
    "calendar_date = read_data(filename=\"calendar_date\", folder_path=folder_path)\n",
    "release_schedule = read_data(filename=\"release_schedule\", folder_path=folder_path)\n",
    "# barra\n",
    "industry_factors = read_data(filename=\"industry_factors\", folder_path=folder_path)\n",
    "style_factors = read_data(filename=\"style_factors\", folder_path=folder_path)\n",
    "# pricing and volumes\n",
    "mkt_cap = read_data(filename=\"mkt_cap\", folder_path=folder_path)\n",
    "tech = read_data(filename=\"tech\", folder_path=folder_path)"
   ]
  },
  {
   "cell_type": "code",
   "execution_count": null,
   "id": "af48b609-9c4f-456a-ab8f-a029d077c089",
   "metadata": {},
   "outputs": [],
   "source": [
    "# 4. Shift values by 1 to create lag 1 version of these predictors\n",
    "def create_lag(df, col_name_list):\n",
    "    df = df.sort_values([\"isin\", \"date\"],ignore_index=True)\n",
    "    for col_name in col_name_list:\n",
    "        df.loc[:, f\"lag_{col_name}\"] = df.groupby([\"isin\"])[col_name].shift(1)\n",
    "    return df.drop(columns=col_name_list)\n",
    "\n",
    "# market cap are not in the same scale as others. we need to adjust it\n",
    "mkt_cap[\"log_mkt_cap\"] = np.log(mkt_cap['mkt_cap'])\n",
    "mkt_cap = create_lag(mkt_cap[['date', 'isin', 'log_mkt_cap']], [\"log_mkt_cap\"])\n",
    "\n",
    "calendar_date = create_lag(calendar_date, ['early_close', 'triple_witch', 'double_witch', 'russell_rebalance'])\n",
    "\n",
    "style_factors = create_lag(style_factors, ['EFMUSATRD_BETA', 'EFMUSATRD_CROWD',\n",
    "       'EFMUSATRD_DIVYILD', 'EFMUSATRD_EARNQLTY', 'EFMUSATRD_EARNVAR',\n",
    "       'EFMUSATRD_EARNYILD', 'EFMUSATRD_ESG', 'EFMUSATRD_GROWTH',\n",
    "       'EFMUSATRD_INDMOM', 'EFMUSATRD_INVSQLTY', 'EFMUSATRD_LEVERAGE',\n",
    "       'EFMUSATRD_LIQUIDTY', 'EFMUSATRD_LTREVRSL', 'EFMUSATRD_MIDCAP',\n",
    "       'EFMUSATRD_MLFAC', 'EFMUSATRD_MOMENTUM', 'EFMUSATRD_PROFIT',\n",
    "       'EFMUSATRD_RESVOL', 'EFMUSATRD_SEASON', 'EFMUSATRD_SENTMT',\n",
    "       'EFMUSATRD_SHORTINT', 'EFMUSATRD_SIZE', 'EFMUSATRD_STREVRSL',\n",
    "       'EFMUSATRD_VALUE'])\n",
    "\n",
    "industry_factors = create_lag(industry_factors, ['EFMUSATRD_AERODEF', 'EFMUSATRD_AIRLINES',\n",
    "       'EFMUSATRD_ALUMSTEL', 'EFMUSATRD_APPAREL', 'EFMUSATRD_AUTO',\n",
    "       'EFMUSATRD_BANKS', 'EFMUSATRD_BEVTOB', 'EFMUSATRD_BIOLIFE',\n",
    "       'EFMUSATRD_BLDGPROD', 'EFMUSATRD_CHEM', 'EFMUSATRD_CNSTENG',\n",
    "       'EFMUSATRD_CNSTMACH', 'EFMUSATRD_CNSTMATLPAPER', 'EFMUSATRD_COMMEQP',\n",
    "       'EFMUSATRD_COMPELEC', 'EFMUSATRD_COMSVCS', 'EFMUSATRD_CONGLOM',\n",
    "       'EFMUSATRD_CONTAINR', 'EFMUSATRD_DISTRIB', 'EFMUSATRD_DIVFIN',\n",
    "       'EFMUSATRD_ELECEQP', 'EFMUSATRD_ELECUTIL', 'EFMUSATRD_ENERGYEQ',\n",
    "       'EFMUSATRD_FOODPROD', 'EFMUSATRD_FOODRET', 'EFMUSATRD_GASUTIL',\n",
    "       'EFMUSATRD_HLTHEQP', 'EFMUSATRD_HLTHSVCS', 'EFMUSATRD_HOMEBLDG',\n",
    "       'EFMUSATRD_HOUSEDUR', 'EFMUSATRD_INDMACH', 'EFMUSATRD_INSURNCE',\n",
    "       'EFMUSATRD_INTERNET', 'EFMUSATRD_LEISPROD', 'EFMUSATRD_LEISSVCS',\n",
    "       'EFMUSATRD_LIFEINS', 'EFMUSATRD_MEDIA', 'EFMUSATRD_MGDHLTH',\n",
    "       'EFMUSATRD_MULTUTIL', 'EFMUSATRD_NETRET', 'EFMUSATRD_OILGSCON',\n",
    "       'EFMUSATRD_OILGSEXP', 'EFMUSATRD_PHARMA', 'EFMUSATRD_PRECMTLS',\n",
    "       'EFMUSATRD_PSNLPROD', 'EFMUSATRD_REALEST', 'EFMUSATRD_RESTAUR',\n",
    "       'EFMUSATRD_RLESTMNG', 'EFMUSATRD_ROADRAIL', 'EFMUSATRD_SEMICOND',\n",
    "       'EFMUSATRD_SEMIEQP', 'EFMUSATRD_SOFTWARE', 'EFMUSATRD_SPLTYRET',\n",
    "       'EFMUSATRD_SPTYCHEM', 'EFMUSATRD_SPTYSTOR', 'EFMUSATRD_TELECOM',\n",
    "       'EFMUSATRD_TRADECO', 'EFMUSATRD_TRANSPRT'])\n",
    "\n",
    "release_schedule = create_lag(release_schedule, ['-1', '-2', '-3', '0', '1', '2', '3', '4', '≤-4', '≥5'])"
   ]
  },
  {
   "cell_type": "code",
   "execution_count": 6,
   "id": "0081190e-a57e-4ad0-84ce-3f3b491cbfd5",
   "metadata": {},
   "outputs": [],
   "source": [
    "tech2 = create_lag(tech, ['rtn_ma1', 'rtn_ma5', 'rtn_ma22', 'rtn_ma252', 'logvol_ma1',\n",
    "                          'logvol_ma5', 'logvol_ma22', 'logvol_ma252'])\n",
    "tech2[['date','isin', 'log_adj_volume']] = tech[['date','isin', 'log_adj_volume']].copy()\n",
    "# create eta = v_t - ma5_(t-1...t-5)\n",
    "tech2[\"eta\"] = tech2[\"log_adj_volume\"]-tech2[\"lag_logvol_ma5\"]"
   ]
  },
  {
   "cell_type": "code",
   "execution_count": 26,
   "id": "8d9f8a8f-d001-4a64-9b36-7979023783dc",
   "metadata": {},
   "outputs": [],
   "source": [
    "# Get the intersection universe and drop all na records \n",
    "predictors = tech2.drop(columns=[\"barrid\"]).merge(mkt_cap, on=[\"isin\", \"date\"], how=\"inner\")\n",
    "predictors = predictors.merge(calendar_date.drop(columns=[\"barrid\"]), on=[\"isin\", \"date\"], how=\"inner\")\n",
    "predictors = predictors.merge(style_factors.drop(columns=[\"EFMUSATRD_CARBONEFF\"]), on=[\"isin\", \"date\"], how=\"inner\")\n",
    "predictors = predictors.merge(industry_factors, on=[\"isin\", \"date\"], how=\"inner\")\n",
    "predictors = predictors.merge(release_schedule, on=[\"isin\", \"date\"], how=\"inner\")\n",
    "predictors = predictors.dropna().drop(columns=[\"return\"])\n",
    "# sort the predictors\n",
    "predictors = predictors.sort_values(by=[\"date\",\"isin\"], ignore_index=True)"
   ]
  },
  {
   "cell_type": "code",
   "execution_count": null,
   "id": "707c3f73-1adc-43d5-98c6-4f62c8fe1590",
   "metadata": {},
   "outputs": [],
   "source": [
    "predictors.head()\n",
    "\n",
    "# # This is a synthetic example following the structure of technical feature data.\n",
    "# # No proprietary data is included.\n",
    "\n",
    "# | date       | isin         | log_adj_volume | is_adj_date | lag_rtn_ma1 | lag_rtn_ma5 | lag_rtn_ma22 | lag_rtn_ma252 | lag_logvol_ma1 | lag_logvol_ma5 | ... | lag_-1 | lag_-2 | lag_-3 | lag_0 | lag_1 | lag_2 | lag_3 | lag_4 | lag_≤-4 | lag_≥5 |\n",
    "# |------------|--------------|----------------|-------------|-------------|-------------|--------------|---------------|----------------|----------------|-----|--------|--------|--------|-------|-------|-------|-------|-------|----------|---------|\n",
    "# | 2020-01-03 | XX00000001   | 16.093388      | False       | -0.000828   | -0.002382   | 0.005502     | 0.000745      | 15.978206      | 15.929897      | ... | 0.0    | 0.0    | 0.0    | 0.0   | 0.0   | 0.0   | 0.0   | 0.0   | 0.0      | 1.0     |\n",
    "# | 2020-01-03 | XX00000002   | 13.006063      | False       | 0.000316    | 0.000253    | 0.000045     | 0.002744      | 13.048581      | 12.502088      | ... | 0.0    | 0.0    | 0.0    | 0.0   | 0.0   | 0.0   | 0.0   | 0.0   | 0.0      | 1.0     |\n",
    "# | 2020-01-03 | XX00000003   | 13.573252      | False       | 0.011768    | 0.006528    | 0.001566     | 0.002065      | 14.135469      | 13.561239      | ... | 0.0    | 0.0    | 0.0    | 0.0   | 0.0   | 0.0   | 0.0   | 0.0   | 0.0      | 1.0     |\n",
    "# | 2020-01-03 | XX00000004   | 11.772593      | False       | 0.018416    | 0.002253    | 0.000922     | 0.000154      | 11.678728      | 11.518813      | ... | 0.0    | 0.0    | 0.0    | 0.0   | 0.0   | 0.0   | 0.0   | 0.0   | 0.0      | 1.0     |\n",
    "# | 2020-01-03 | XX00000005   | 12.630683      | False       | 0.001345    | -0.000354   | -0.000507    | 0.001097      | 12.799066      | 12.804587      | ... | 0.0    | 0.0    | 0.0    | 0.0   | 0.0   | 0.0   | 0.0   | 0.0   | 1.0      | 0.0     |\n"
   ]
  },
  {
   "cell_type": "code",
   "execution_count": 29,
   "id": "28581e47-1810-4a2f-aa5b-2b53978fe3fb",
   "metadata": {
    "scrolled": true
   },
   "outputs": [
    {
     "data": {
      "text/plain": [
       "(datetime.date(2020, 1, 3), datetime.date(2023, 12, 29))"
      ]
     },
     "execution_count": 29,
     "metadata": {},
     "output_type": "execute_result"
    }
   ],
   "source": [
    "predictors.date.min(), predictors.date.max()"
   ]
  },
  {
   "cell_type": "code",
   "execution_count": 30,
   "id": "624eb297-f111-4f42-a17f-542c41e19626",
   "metadata": {},
   "outputs": [],
   "source": [
    "# Save all predictors into one table\n",
    "write_data(predictors, \"final_dataset\")"
   ]
  },
  {
   "cell_type": "code",
   "execution_count": 31,
   "id": "926df23e-7505-44a5-bf1c-2a4577c2592b",
   "metadata": {},
   "outputs": [
    {
     "name": "stdout",
     "output_type": "stream",
     "text": [
      "['date', 'isin', 'log_adj_volume', 'is_adj_date', 'lag_rtn_ma1', 'lag_rtn_ma5', 'lag_rtn_ma22', 'lag_rtn_ma252', 'lag_logvol_ma1', 'lag_logvol_ma5', 'lag_logvol_ma22', 'lag_logvol_ma252', 'eta', 'lag_log_mkt_cap', 'lag_early_close', 'lag_triple_witch', 'lag_double_witch', 'lag_russell_rebalance', 'lag_EFMUSATRD_BETA', 'lag_EFMUSATRD_CROWD', 'lag_EFMUSATRD_DIVYILD', 'lag_EFMUSATRD_EARNQLTY', 'lag_EFMUSATRD_EARNVAR', 'lag_EFMUSATRD_EARNYILD', 'lag_EFMUSATRD_ESG', 'lag_EFMUSATRD_GROWTH', 'lag_EFMUSATRD_INDMOM', 'lag_EFMUSATRD_INVSQLTY', 'lag_EFMUSATRD_LEVERAGE', 'lag_EFMUSATRD_LIQUIDTY', 'lag_EFMUSATRD_LTREVRSL', 'lag_EFMUSATRD_MIDCAP', 'lag_EFMUSATRD_MLFAC', 'lag_EFMUSATRD_MOMENTUM', 'lag_EFMUSATRD_PROFIT', 'lag_EFMUSATRD_RESVOL', 'lag_EFMUSATRD_SEASON', 'lag_EFMUSATRD_SENTMT', 'lag_EFMUSATRD_SHORTINT', 'lag_EFMUSATRD_SIZE', 'lag_EFMUSATRD_STREVRSL', 'lag_EFMUSATRD_VALUE', 'lag_EFMUSATRD_AERODEF', 'lag_EFMUSATRD_AIRLINES', 'lag_EFMUSATRD_ALUMSTEL', 'lag_EFMUSATRD_APPAREL', 'lag_EFMUSATRD_AUTO', 'lag_EFMUSATRD_BANKS', 'lag_EFMUSATRD_BEVTOB', 'lag_EFMUSATRD_BIOLIFE', 'lag_EFMUSATRD_BLDGPROD', 'lag_EFMUSATRD_CHEM', 'lag_EFMUSATRD_CNSTENG', 'lag_EFMUSATRD_CNSTMACH', 'lag_EFMUSATRD_CNSTMATLPAPER', 'lag_EFMUSATRD_COMMEQP', 'lag_EFMUSATRD_COMPELEC', 'lag_EFMUSATRD_COMSVCS', 'lag_EFMUSATRD_CONGLOM', 'lag_EFMUSATRD_CONTAINR', 'lag_EFMUSATRD_DISTRIB', 'lag_EFMUSATRD_DIVFIN', 'lag_EFMUSATRD_ELECEQP', 'lag_EFMUSATRD_ELECUTIL', 'lag_EFMUSATRD_ENERGYEQ', 'lag_EFMUSATRD_FOODPROD', 'lag_EFMUSATRD_FOODRET', 'lag_EFMUSATRD_GASUTIL', 'lag_EFMUSATRD_HLTHEQP', 'lag_EFMUSATRD_HLTHSVCS', 'lag_EFMUSATRD_HOMEBLDG', 'lag_EFMUSATRD_HOUSEDUR', 'lag_EFMUSATRD_INDMACH', 'lag_EFMUSATRD_INSURNCE', 'lag_EFMUSATRD_INTERNET', 'lag_EFMUSATRD_LEISPROD', 'lag_EFMUSATRD_LEISSVCS', 'lag_EFMUSATRD_LIFEINS', 'lag_EFMUSATRD_MEDIA', 'lag_EFMUSATRD_MGDHLTH', 'lag_EFMUSATRD_MULTUTIL', 'lag_EFMUSATRD_NETRET', 'lag_EFMUSATRD_OILGSCON', 'lag_EFMUSATRD_OILGSEXP', 'lag_EFMUSATRD_PHARMA', 'lag_EFMUSATRD_PRECMTLS', 'lag_EFMUSATRD_PSNLPROD', 'lag_EFMUSATRD_REALEST', 'lag_EFMUSATRD_RESTAUR', 'lag_EFMUSATRD_RLESTMNG', 'lag_EFMUSATRD_ROADRAIL', 'lag_EFMUSATRD_SEMICOND', 'lag_EFMUSATRD_SEMIEQP', 'lag_EFMUSATRD_SOFTWARE', 'lag_EFMUSATRD_SPLTYRET', 'lag_EFMUSATRD_SPTYCHEM', 'lag_EFMUSATRD_SPTYSTOR', 'lag_EFMUSATRD_TELECOM', 'lag_EFMUSATRD_TRADECO', 'lag_EFMUSATRD_TRANSPRT', 'lag_-1', 'lag_-2', 'lag_-3', 'lag_0', 'lag_1', 'lag_2', 'lag_3', 'lag_4', 'lag_≤-4', 'lag_≥5']\n"
     ]
    }
   ],
   "source": [
    "# the column names of the predictor tables\n",
    "print(predictors.columns.tolist())"
   ]
  }
 ],
 "metadata": {
  "kernelspec": {
   "display_name": "Python 3 (ipykernel)",
   "language": "python",
   "name": "python3"
  },
  "language_info": {
   "codemirror_mode": {
    "name": "ipython",
    "version": 3
   },
   "file_extension": ".py",
   "mimetype": "text/x-python",
   "name": "python",
   "nbconvert_exporter": "python",
   "pygments_lexer": "ipython3",
   "version": "3.10.16"
  }
 },
 "nbformat": 4,
 "nbformat_minor": 5
}
