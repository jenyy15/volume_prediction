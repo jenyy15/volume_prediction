{
 "cells": [
  {
   "cell_type": "markdown",
   "id": "1acf3125-7e99-47dc-80bd-a7054f4f0879",
   "metadata": {},
   "source": [
    "### Target \n",
    "According to the paper, \"[t]he five-day moving average predicts log dollar volume with an R2 of 93.68%, higher than the one-day lag (92.53%), moving average of 22 days (92.60%), or 252 days (86.12%)\". <br>\n",
    "To validate my model's effectiveness, I computed the r-square values of moving average (1,5,22) here as another benchmark.\n",
    "\n",
    "### Result: r-square\n",
    "ma1\t= 0.912950\n",
    "ma5\t= 0.923016\n",
    "ma22 = 0.912761\n"
   ]
  },
  {
   "cell_type": "code",
   "execution_count": 1,
   "id": "0a83d4cf-2daf-4f2a-bce9-32b21032cbe2",
   "metadata": {},
   "outputs": [
    {
     "data": {
      "text/plain": [
       "['tech.parquet',\n",
       " 'mkt_cap.parquet',\n",
       " 'style_factors.parquet',\n",
       " 'calendar_date.parquet',\n",
       " 'release_schedule.parquet',\n",
       " 'industry_factors.parquet',\n",
       " 'final_dataset.parquet',\n",
       " 'pre_train_dataset.parquet',\n",
       " 'agg_industry_factors.parquet']"
      ]
     },
     "execution_count": 1,
     "metadata": {},
     "output_type": "execute_result"
    }
   ],
   "source": [
    "import numpy as np\n",
    "import pandas as pd\n",
    "import datetime\n",
    "import pyarrow.parquet as pq\n",
    "import os\n",
    "import matplotlib.pyplot as plt\n",
    "\n",
    "# 1. read data file names\n",
    "folder_path = \"F:/predictors_v2\"\n",
    "filenames = os.listdir(folder_path)\n",
    "filenames = [x for x in filenames if x.endswith(\".parquet\")]\n",
    "\n",
    "filenames"
   ]
  },
  {
   "cell_type": "code",
   "execution_count": 2,
   "id": "f49f1fdc",
   "metadata": {},
   "outputs": [],
   "source": [
    "# 2. load data and write data functions\n",
    "import sys\n",
    "sys.path.append(\"..\")\n",
    "\n",
    "from src.model_training_utils import read_data\n",
    "# using pyarrow.parquet.read_table to load data\n",
    "# columns and filters are useful to save memory\n",
    "\n",
    "\n",
    "# Step 1: Load data\n",
    "final_dataset = read_data(filename=\"final_dataset\", columns=[\"date\", \"isin\", 'lag_logvol_ma1', 'lag_logvol_ma5',\n",
    "                                                             'lag_logvol_ma22', 'lag_logvol_ma252', 'log_adj_volume'], \n",
    "                          folder_path=folder_path)\n",
    "final_dataset = final_dataset.sort_values(by=[\"date\", \"isin\"], ignore_index=True)\n",
    "\n",
    "# Step 2: Split train, validation (create cross validation spliter) and test datasets\n",
    "dates_list = final_dataset[\"date\"].unique()\n",
    "dates_list.sort()\n",
    "num_of_days = dates_list.shape[0]\n",
    "\n",
    "step = 60 # step in window movement\n",
    "h = 60 # time horizon for validation dataset\n",
    "trainval_test_threshold = int(num_of_days * 0.6) # 60% dates are used to training and validation\n",
    "initial_threshold = int(trainval_test_threshold / 3) # the window size of the 1st train dataset\n",
    "# Update the split threshold of train_validation and test\n",
    "trainval_test_threshold = (\n",
    "    (trainval_test_threshold - (initial_threshold + h)) // step * step\n",
    "    + h\n",
    "    + initial_threshold\n",
    ")\n",
    "# test_dates are the dates used for testing (out-of-sample datasets)\n",
    "test_dates = dates_list[trainval_test_threshold:]\n",
    "# Create the test_filter, an input for model training.\n",
    "test_filter = (final_dataset[\"date\"] >= test_dates[0]) & (\n",
    "    final_dataset[\"date\"] <= test_dates[-1]\n",
    ")"
   ]
  },
  {
   "cell_type": "code",
   "execution_count": 3,
   "id": "4ed4a878",
   "metadata": {},
   "outputs": [
    {
     "data": {
      "text/plain": [
       "(datetime.date(2022, 3, 25), datetime.date(2023, 12, 29))"
      ]
     },
     "execution_count": 3,
     "metadata": {},
     "output_type": "execute_result"
    }
   ],
   "source": [
    "# 1. Compute a value using the time range of my test dataset\n",
    "# test time range:\n",
    "test_dates[0], test_dates[-1]"
   ]
  },
  {
   "cell_type": "code",
   "execution_count": 4,
   "id": "609b4f33",
   "metadata": {},
   "outputs": [
    {
     "data": {
      "text/html": [
       "<div>\n",
       "<style scoped>\n",
       "    .dataframe tbody tr th:only-of-type {\n",
       "        vertical-align: middle;\n",
       "    }\n",
       "\n",
       "    .dataframe tbody tr th {\n",
       "        vertical-align: top;\n",
       "    }\n",
       "\n",
       "    .dataframe thead th {\n",
       "        text-align: right;\n",
       "    }\n",
       "</style>\n",
       "<table border=\"1\" class=\"dataframe\">\n",
       "  <thead>\n",
       "    <tr style=\"text-align: right;\">\n",
       "      <th></th>\n",
       "      <th>MSE</th>\n",
       "      <th>R2</th>\n",
       "    </tr>\n",
       "  </thead>\n",
       "  <tbody>\n",
       "    <tr>\n",
       "      <th>ma1</th>\n",
       "      <td>0.229697</td>\n",
       "      <td>0.912950</td>\n",
       "    </tr>\n",
       "    <tr>\n",
       "      <th>ma5</th>\n",
       "      <td>0.203137</td>\n",
       "      <td>0.923016</td>\n",
       "    </tr>\n",
       "    <tr>\n",
       "      <th>ma22</th>\n",
       "      <td>0.230197</td>\n",
       "      <td>0.912761</td>\n",
       "    </tr>\n",
       "    <tr>\n",
       "      <th>ma252</th>\n",
       "      <td>0.301302</td>\n",
       "      <td>0.885814</td>\n",
       "    </tr>\n",
       "  </tbody>\n",
       "</table>\n",
       "</div>"
      ],
      "text/plain": [
       "            MSE        R2\n",
       "ma1    0.229697  0.912950\n",
       "ma5    0.203137  0.923016\n",
       "ma22   0.230197  0.912761\n",
       "ma252  0.301302  0.885814"
      ]
     },
     "execution_count": 4,
     "metadata": {},
     "output_type": "execute_result"
    }
   ],
   "source": [
    "# metrics of test dataset\n",
    "test_dataset=final_dataset[test_filter.values]\n",
    "\n",
    "def compute_metrics(test_dataset, days):\n",
    "    error = test_dataset[f\"lag_logvol_ma{days}\"]-test_dataset.log_adj_volume\n",
    "    mse=(error**2).mean()\n",
    "    r2 = 1-mse/((test_dataset.log_adj_volume-test_dataset.log_adj_volume.mean())**2).mean()\n",
    "    return mse, r2\n",
    "\n",
    "pd.DataFrame([compute_metrics(test_dataset, days) for days in [1,5,22, 252]], \n",
    "             columns=[\"MSE\", \"R2\"], index=[\"ma1\",\"ma5\",\"ma22\", \"ma252\"])"
   ]
  },
  {
   "cell_type": "code",
   "execution_count": 5,
   "id": "22eb895d",
   "metadata": {},
   "outputs": [
    {
     "data": {
      "text/plain": [
       "(datetime.date(2021, 1, 4), datetime.date(2022, 12, 30))"
      ]
     },
     "execution_count": 5,
     "metadata": {},
     "output_type": "execute_result"
    }
   ],
   "source": [
    "# 2. Compute a value using the same time range of the test dataset in their paper\n",
    "# the values can be difference because the universes are different.\n",
    "dates_21 = dates_list[(dates_list < datetime.date(2023, 1, 1))&(dates_list>datetime.date(2021, 1, 1))]\n",
    "# test time range:\n",
    "dates_21[0], dates_21[-1]"
   ]
  },
  {
   "cell_type": "code",
   "execution_count": 6,
   "id": "b754129d",
   "metadata": {},
   "outputs": [
    {
     "data": {
      "text/html": [
       "<div>\n",
       "<style scoped>\n",
       "    .dataframe tbody tr th:only-of-type {\n",
       "        vertical-align: middle;\n",
       "    }\n",
       "\n",
       "    .dataframe tbody tr th {\n",
       "        vertical-align: top;\n",
       "    }\n",
       "\n",
       "    .dataframe thead th {\n",
       "        text-align: right;\n",
       "    }\n",
       "</style>\n",
       "<table border=\"1\" class=\"dataframe\">\n",
       "  <thead>\n",
       "    <tr style=\"text-align: right;\">\n",
       "      <th></th>\n",
       "      <th>MSE</th>\n",
       "      <th>R2</th>\n",
       "    </tr>\n",
       "  </thead>\n",
       "  <tbody>\n",
       "    <tr>\n",
       "      <th>ma1</th>\n",
       "      <td>0.230310</td>\n",
       "      <td>0.914587</td>\n",
       "    </tr>\n",
       "    <tr>\n",
       "      <th>ma5</th>\n",
       "      <td>0.204476</td>\n",
       "      <td>0.924168</td>\n",
       "    </tr>\n",
       "    <tr>\n",
       "      <th>ma22</th>\n",
       "      <td>0.229573</td>\n",
       "      <td>0.914860</td>\n",
       "    </tr>\n",
       "    <tr>\n",
       "      <th>ma252</th>\n",
       "      <td>0.304959</td>\n",
       "      <td>0.886903</td>\n",
       "    </tr>\n",
       "  </tbody>\n",
       "</table>\n",
       "</div>"
      ],
      "text/plain": [
       "            MSE        R2\n",
       "ma1    0.230310  0.914587\n",
       "ma5    0.204476  0.924168\n",
       "ma22   0.229573  0.914860\n",
       "ma252  0.304959  0.886903"
      ]
     },
     "execution_count": 6,
     "metadata": {},
     "output_type": "execute_result"
    }
   ],
   "source": [
    "# compute metrics\n",
    "dates_21_filter = (final_dataset[\"date\"] >= dates_21[0]) & (\n",
    "    final_dataset[\"date\"] <= dates_21[-1]\n",
    ")\n",
    "dates_21_dataset=final_dataset[dates_21_filter.values]\n",
    "\n",
    "pd.DataFrame([compute_metrics(dates_21_dataset, days) for days in [1,5,22, 252]], \n",
    "             columns=[\"MSE\", \"R2\"], index=[\"ma1\",\"ma5\",\"ma22\", \"ma252\"])"
   ]
  },
  {
   "cell_type": "code",
   "execution_count": 7,
   "id": "10f4b229",
   "metadata": {},
   "outputs": [
    {
     "data": {
      "text/plain": [
       "0.9207606425230866"
      ]
     },
     "execution_count": 7,
     "metadata": {},
     "output_type": "execute_result"
    }
   ],
   "source": [
    "# Compute a daily R^2 statistics\n",
    "daily_metrics = dates_21_dataset.groupby([\"date\"]).apply(lambda x: compute_metrics(x, 5))\n",
    "daily_r2=daily_metrics.apply(lambda x: x[1])\n",
    "daily_r2.mean()"
   ]
  },
  {
   "cell_type": "code",
   "execution_count": 8,
   "id": "6d6032f7",
   "metadata": {},
   "outputs": [
    {
     "data": {
      "text/plain": [
       "count    502.000000\n",
       "mean       0.920761\n",
       "std        0.066062\n",
       "min        0.135005\n",
       "25%        0.922528\n",
       "50%        0.934215\n",
       "75%        0.941083\n",
       "max        0.959644\n",
       "dtype: float64"
      ]
     },
     "execution_count": 8,
     "metadata": {},
     "output_type": "execute_result"
    }
   ],
   "source": [
    "daily_r2.describe()"
   ]
  }
 ],
 "metadata": {
  "kernelspec": {
   "display_name": "Python 3 (ipykernel)",
   "language": "python",
   "name": "python3"
  },
  "language_info": {
   "codemirror_mode": {
    "name": "ipython",
    "version": 3
   },
   "file_extension": ".py",
   "mimetype": "text/x-python",
   "name": "python",
   "nbconvert_exporter": "python",
   "pygments_lexer": "ipython3",
   "version": "3.10.16"
  }
 },
 "nbformat": 4,
 "nbformat_minor": 5
}
