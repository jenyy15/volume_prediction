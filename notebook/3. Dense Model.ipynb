{
 "cells": [
  {
   "cell_type": "code",
   "execution_count": 1,
   "id": "acce6449-2b33-4292-a910-494de7171cae",
   "metadata": {},
   "outputs": [],
   "source": [
    "import sys\n",
    "sys.path.append(\"..\")\n",
    "\n",
    "from src.model_training_utils import NonRNNDataFeeder, ModelConfig, read_data, load_data_columns_config\n",
    "from src.train_models import setup_gpu, fit_models_with_cross_validation\n",
    "from pmdarima.model_selection import RollingForecastCV, SlidingWindowForecastCV\n",
    "import tensorflow as tf\n",
    "import numpy as np\n",
    "import pickle\n",
    "from tqdm import tqdm\n",
    "\n",
    "# Setup GUP within this script\n",
    "setup_gpu()"
   ]
  },
  {
   "cell_type": "markdown",
   "id": "e203e3cf-3c0c-415c-aee5-20d2c39ae329",
   "metadata": {},
   "source": [
    "### Target:\n",
    "##### [1]. Preparation\n",
    "Prepare the parameters for dense models building and training\n",
    "##### [2]. Train models\n",
    "1. Fit models by cumulatively adding predictor sets\n",
    "2. Fit models by each predictor set (factors_columns)"
   ]
  },
  {
   "cell_type": "markdown",
   "id": "914e256e-2e91-44a9-b0f4-7db2b7b00202",
   "metadata": {},
   "source": [
    "### [1]. Preparation\n",
    "Prepare the parameters for the model building and training"
   ]
  },
  {
   "cell_type": "code",
   "execution_count": 2,
   "id": "c66ee69a-8881-4350-bbd8-de4523fc1de2",
   "metadata": {},
   "outputs": [
    {
     "name": "stdout",
     "output_type": "stream",
     "text": [
      "config_dict has keys:  dict_keys(['index_columns', 'tech_factors', 'calendar_factors', 'fundamental_factors', 'industry_factors', 'release_schedule_factors', 'output_columns'])\n"
     ]
    }
   ],
   "source": [
    "# Step 1: Load data\n",
    "folder_path = \"F:/predictors\"\n",
    "final_dataset = read_data(filename=\"final_dataset\", folder_path=folder_path)\n",
    "final_dataset = final_dataset.sort_values(by=[\"date\", \"isin\"], ignore_index=True)\n",
    "config_dict = load_data_columns_config()\n",
    "# Show the content of config_dict:\n",
    "print(\"config_dict has keys: \", config_dict.keys())\n",
    "\n",
    "# Get the factor columns from config_dict\n",
    "factors_columns=['tech_factors', 'calendar_factors', 'fundamental_factors', \n",
    "                 'industry_factors', 'release_schedule_factors']"
   ]
  },
  {
   "cell_type": "code",
   "execution_count": 3,
   "id": "962c1741-e784-4cf4-a2c0-a3a5d0754958",
   "metadata": {},
   "outputs": [],
   "source": [
    "# Step 2: Split train, validation (create cross validation spliter) and test datasets\n",
    "dates_list = final_dataset[\"date\"].unique()\n",
    "dates_list.sort()\n",
    "num_of_days = dates_list.shape[0]\n",
    "\n",
    "step = 60 # step in window movement\n",
    "h = 60 # time horizon for validation dataset\n",
    "trainval_test_threshold = int(num_of_days * 0.6) # 60% dates are used to training and validation\n",
    "initial_threshold = int(trainval_test_threshold / 3) # the window size of the 1st train dataset\n",
    "# Update the split threshold of train_validation and test\n",
    "trainval_test_threshold = (\n",
    "    (trainval_test_threshold - (initial_threshold + h)) // step * step\n",
    "    + h\n",
    "    + initial_threshold\n",
    ")\n",
    "# train_dates are the dates used for training and validation in models.\n",
    "train_dates = dates_list[:trainval_test_threshold]\n",
    "# test_dates are the dates used for testing (out-of-sample datasets)\n",
    "test_dates = dates_list[trainval_test_threshold:]\n",
    "# Create the test_filter, an input for model training.\n",
    "test_filter = (final_dataset[\"date\"] >= test_dates[0]) & (\n",
    "    final_dataset[\"date\"] <= test_dates[-1]\n",
    ")\n",
    "# Create cross validation spliter with sliding window (non-cumulative datasets)\n",
    "cv_spliter = SlidingWindowForecastCV(h=h, step=step, window_size=initial_threshold)"
   ]
  },
  {
   "cell_type": "code",
   "execution_count": 4,
   "id": "9e64a85a-a2a7-4b5b-aee9-52e156f0a7d9",
   "metadata": {},
   "outputs": [],
   "source": [
    "# Step 3: set parameters for models \n",
    "# predictors_size: the number of predictors\n",
    "# win_size (for non-RNN models, win_size=1): the window size of each data point\n",
    "\n",
    "def create_dense_model(win_size, predictors_size):\n",
    "    inputs = tf.keras.layers.Input(shape=(win_size, predictors_size))\n",
    "    layer1 = tf.keras.layers.Dense(32, activation='relu')(inputs)\n",
    "    layer2 = tf.keras.layers.Dense(16, activation='relu')(layer1)\n",
    "    layer3 = tf.keras.layers.Dense(8, activation='relu')(layer2)\n",
    "    output = tf.keras.layers.Dense(1)(layer3)\n",
    "    model = tf.keras.Model(inputs=inputs, outputs=output)\n",
    "    return model"
   ]
  },
  {
   "cell_type": "code",
   "execution_count": 5,
   "id": "22d3bc70-8a91-4229-b155-38297bc25fd6",
   "metadata": {},
   "outputs": [
    {
     "name": "stdout",
     "output_type": "stream",
     "text": [
      "Model: \"model\"\n",
      "_________________________________________________________________\n",
      " Layer (type)                Output Shape              Param #   \n",
      "=================================================================\n",
      " input_1 (InputLayer)        [(None, 1, 104)]          0         \n",
      "                                                                 \n",
      " dense (Dense)               (None, 1, 32)             3360      \n",
      "                                                                 \n",
      " dense_1 (Dense)             (None, 1, 16)             528       \n",
      "                                                                 \n",
      " dense_2 (Dense)             (None, 1, 8)              136       \n",
      "                                                                 \n",
      " dense_3 (Dense)             (None, 1, 1)              9         \n",
      "                                                                 \n",
      "=================================================================\n",
      "Total params: 4,033\n",
      "Trainable params: 4,033\n",
      "Non-trainable params: 0\n",
      "_________________________________________________________________\n"
     ]
    }
   ],
   "source": [
    "create_dense_model(1, 104).summary()"
   ]
  },
  {
   "cell_type": "markdown",
   "id": "22d306df-b530-494f-be9a-3b88f857d441",
   "metadata": {},
   "source": [
    "### [2]. Train models\n",
    "##### 1. Fit models by cumulatively adding predictor sets"
   ]
  },
  {
   "cell_type": "code",
   "execution_count": 6,
   "id": "fdf0a99e-7308-49fc-8c78-b41799956371",
   "metadata": {
    "scrolled": true
   },
   "outputs": [
    {
     "name": "stderr",
     "output_type": "stream",
     "text": [
      "  0%|                                                                                            | 0/5 [00:00<?, ?it/s]\n",
      "\u001b[A [00:00, ?it/s]"
     ]
    },
    {
     "name": "stdout",
     "output_type": "stream",
     "text": [
      "1146/1146 [==============================] - 180s 157ms/step - loss: 0.1869 - r2: 0.9266\n"
     ]
    },
    {
     "name": "stderr",
     "output_type": "stream",
     "text": [
      "\n",
      "\u001b[A [07:53, 473.15s/it]"
     ]
    },
    {
     "name": "stdout",
     "output_type": "stream",
     "text": [
      "1146/1146 [==============================] - 182s 159ms/step - loss: 0.1777 - r2: 0.9304\n"
     ]
    },
    {
     "name": "stderr",
     "output_type": "stream",
     "text": [
      "\n",
      "\u001b[A [13:49, 404.51s/it]"
     ]
    },
    {
     "name": "stdout",
     "output_type": "stream",
     "text": [
      "1146/1146 [==============================] - 173s 151ms/step - loss: 0.2241 - r2: 0.9121\n"
     ]
    },
    {
     "name": "stderr",
     "output_type": "stream",
     "text": [
      "\n",
      "\u001b[A [19:26, 373.56s/it]"
     ]
    },
    {
     "name": "stdout",
     "output_type": "stream",
     "text": [
      "1146/1146 [==============================] - 173s 151ms/step - loss: 0.1747 - r2: 0.9315\n"
     ]
    },
    {
     "name": "stderr",
     "output_type": "stream",
     "text": [
      "\n",
      "\u001b[A [32:31, 536.20s/it]"
     ]
    },
    {
     "name": "stdout",
     "output_type": "stream",
     "text": [
      "1146/1146 [==============================] - 175s 153ms/step - loss: 0.1728 - r2: 0.9323\n"
     ]
    },
    {
     "name": "stderr",
     "output_type": "stream",
     "text": [
      "\n",
      "\u001b[A [45:32, 624.34s/it]"
     ]
    },
    {
     "name": "stdout",
     "output_type": "stream",
     "text": [
      "1146/1146 [==============================] - 172s 150ms/step - loss: 0.3230 - r2: 0.8735\n"
     ]
    },
    {
     "name": "stderr",
     "output_type": "stream",
     "text": [
      "\n",
      "6it [51:31, 515.32s/it]\n",
      " 20%|████████████████                                                                | 1/5 [51:32<3:26:08, 3092.00s/it]\n",
      "\u001b[A [00:00, ?it/s]"
     ]
    },
    {
     "name": "stdout",
     "output_type": "stream",
     "text": [
      "1146/1146 [==============================] - 173s 151ms/step - loss: 0.1896 - r2: 0.9256\n"
     ]
    },
    {
     "name": "stderr",
     "output_type": "stream",
     "text": [
      "\n",
      "\u001b[A [07:54, 474.57s/it]"
     ]
    },
    {
     "name": "stdout",
     "output_type": "stream",
     "text": [
      "1146/1146 [==============================] - 173s 151ms/step - loss: 0.1898 - r2: 0.9260\n"
     ]
    },
    {
     "name": "stderr",
     "output_type": "stream",
     "text": [
      "\n",
      "\u001b[A [14:02, 412.12s/it]"
     ]
    },
    {
     "name": "stdout",
     "output_type": "stream",
     "text": [
      "1146/1146 [==============================] - 172s 150ms/step - loss: 0.1955 - r2: 0.9232\n"
     ]
    },
    {
     "name": "stderr",
     "output_type": "stream",
     "text": [
      "\n",
      "\u001b[A [19:39, 377.68s/it]"
     ]
    },
    {
     "name": "stdout",
     "output_type": "stream",
     "text": [
      "1146/1146 [==============================] - 174s 152ms/step - loss: 0.2093 - r2: 0.9179\n"
     ]
    },
    {
     "name": "stderr",
     "output_type": "stream",
     "text": [
      "\n",
      "\u001b[A [25:48, 374.37s/it]"
     ]
    },
    {
     "name": "stdout",
     "output_type": "stream",
     "text": [
      "1146/1146 [==============================] - 173s 150ms/step - loss: 0.1750 - r2: 0.9315\n"
     ]
    },
    {
     "name": "stderr",
     "output_type": "stream",
     "text": [
      "\n",
      "\u001b[A [38:00, 503.08s/it]"
     ]
    },
    {
     "name": "stdout",
     "output_type": "stream",
     "text": [
      "1146/1146 [==============================] - 174s 152ms/step - loss: 0.5507 - r2: 0.7849\n"
     ]
    },
    {
     "name": "stderr",
     "output_type": "stream",
     "text": [
      "\n",
      "6it [44:01, 440.32s/it]\n",
      " 40%|███████████████████████████████▏                                              | 2/5 [1:35:34<2:21:22, 2827.37s/it]\n",
      "\u001b[A [00:00, ?it/s]"
     ]
    },
    {
     "name": "stdout",
     "output_type": "stream",
     "text": [
      "1146/1146 [==============================] - 173s 151ms/step - loss: 0.1975 - r2: 0.9224\n"
     ]
    },
    {
     "name": "stderr",
     "output_type": "stream",
     "text": [
      "\n",
      "\u001b[A [07:52, 472.32s/it]"
     ]
    },
    {
     "name": "stdout",
     "output_type": "stream",
     "text": [
      "1146/1146 [==============================] - 174s 151ms/step - loss: 0.1767 - r2: 0.9308\n"
     ]
    },
    {
     "name": "stderr",
     "output_type": "stream",
     "text": [
      "\n",
      "\u001b[A [20:32, 641.90s/it]"
     ]
    },
    {
     "name": "stdout",
     "output_type": "stream",
     "text": [
      "1146/1146 [==============================] - 174s 152ms/step - loss: 2.6709 - r2: -0.0301\n"
     ]
    },
    {
     "name": "stderr",
     "output_type": "stream",
     "text": [
      "\n",
      "\u001b[A [31:54, 660.14s/it]"
     ]
    },
    {
     "name": "stdout",
     "output_type": "stream",
     "text": [
      "1146/1146 [==============================] - 174s 152ms/step - loss: 0.1758 - r2: 0.9311\n"
     ]
    },
    {
     "name": "stderr",
     "output_type": "stream",
     "text": [
      "\n",
      "\u001b[A [45:09, 713.16s/it]"
     ]
    },
    {
     "name": "stdout",
     "output_type": "stream",
     "text": [
      "1146/1146 [==============================] - 178s 155ms/step - loss: 0.1757 - r2: 0.9312\n"
     ]
    },
    {
     "name": "stderr",
     "output_type": "stream",
     "text": [
      "\n",
      "\u001b[A [57:34, 724.77s/it]"
     ]
    },
    {
     "name": "stdout",
     "output_type": "stream",
     "text": [
      "1146/1146 [==============================] - 174s 152ms/step - loss: 0.1750 - r2: 0.9314\n"
     ]
    },
    {
     "name": "stderr",
     "output_type": "stream",
     "text": [
      "\n",
      "6it [1:09:25, 694.26s/it]\n",
      " 60%|██████████████████████████████████████████████▊                               | 3/5 [2:45:00<1:54:37, 3438.74s/it]\n",
      "\u001b[A [00:00, ?it/s]"
     ]
    },
    {
     "name": "stdout",
     "output_type": "stream",
     "text": [
      "1146/1146 [==============================] - 175s 152ms/step - loss: 0.2011 - r2: 0.9210\n"
     ]
    },
    {
     "name": "stderr",
     "output_type": "stream",
     "text": [
      "\n",
      "\u001b[A [07:57, 477.04s/it]"
     ]
    },
    {
     "name": "stdout",
     "output_type": "stream",
     "text": [
      "1146/1146 [==============================] - 176s 153ms/step - loss: 0.1742 - r2: 0.9318\n"
     ]
    },
    {
     "name": "stderr",
     "output_type": "stream",
     "text": [
      "\n",
      "\u001b[A [20:49, 650.81s/it]"
     ]
    },
    {
     "name": "stdout",
     "output_type": "stream",
     "text": [
      "1146/1146 [==============================] - 175s 152ms/step - loss: 0.1751 - r2: 0.9314\n"
     ]
    },
    {
     "name": "stderr",
     "output_type": "stream",
     "text": [
      "\n",
      "\u001b[A [33:44, 707.54s/it]"
     ]
    },
    {
     "name": "stdout",
     "output_type": "stream",
     "text": [
      "1146/1146 [==============================] - 176s 153ms/step - loss: 0.1773 - r2: 0.9306\n"
     ]
    },
    {
     "name": "stderr",
     "output_type": "stream",
     "text": [
      "\n",
      "\u001b[A [46:11, 723.28s/it]"
     ]
    },
    {
     "name": "stdout",
     "output_type": "stream",
     "text": [
      "1146/1146 [==============================] - 173s 151ms/step - loss: 0.1806 - r2: 0.9293\n"
     ]
    },
    {
     "name": "stderr",
     "output_type": "stream",
     "text": [
      "\n",
      "\u001b[A [59:03, 740.69s/it]"
     ]
    },
    {
     "name": "stdout",
     "output_type": "stream",
     "text": [
      "1146/1146 [==============================] - 173s 151ms/step - loss: 0.1765 - r2: 0.9309\n"
     ]
    },
    {
     "name": "stderr",
     "output_type": "stream",
     "text": [
      "\n",
      "6it [1:11:25, 714.25s/it]\n",
      " 80%|██████████████████████████████████████████████████████████████▍               | 4/5 [3:56:27<1:02:53, 3773.78s/it]\n",
      "\u001b[A [00:00, ?it/s]"
     ]
    },
    {
     "name": "stdout",
     "output_type": "stream",
     "text": [
      "1146/1146 [==============================] - 174s 152ms/step - loss: 0.1844 - r2: 0.9273\n"
     ]
    },
    {
     "name": "stderr",
     "output_type": "stream",
     "text": [
      "\n",
      "\u001b[A [08:33, 513.53s/it]"
     ]
    },
    {
     "name": "stdout",
     "output_type": "stream",
     "text": [
      "1146/1146 [==============================] - 183s 160ms/step - loss: 0.1674 - r2: 0.9343\n"
     ]
    },
    {
     "name": "stderr",
     "output_type": "stream",
     "text": [
      "\n",
      "\u001b[A [22:15, 695.00s/it]"
     ]
    },
    {
     "name": "stdout",
     "output_type": "stream",
     "text": [
      "1146/1146 [==============================] - 175s 153ms/step - loss: 0.1663 - r2: 0.9347\n"
     ]
    },
    {
     "name": "stderr",
     "output_type": "stream",
     "text": [
      "\n",
      "\u001b[A [33:56, 697.63s/it]"
     ]
    },
    {
     "name": "stdout",
     "output_type": "stream",
     "text": [
      "1146/1146 [==============================] - 175s 153ms/step - loss: 0.1674 - r2: 0.9342\n"
     ]
    },
    {
     "name": "stderr",
     "output_type": "stream",
     "text": [
      "\n",
      "\u001b[A [45:27, 694.92s/it]"
     ]
    },
    {
     "name": "stdout",
     "output_type": "stream",
     "text": [
      "1146/1146 [==============================] - 175s 153ms/step - loss: 0.1670 - r2: 0.9345\n"
     ]
    },
    {
     "name": "stderr",
     "output_type": "stream",
     "text": [
      "\n",
      "\u001b[A [57:01, 694.72s/it]"
     ]
    },
    {
     "name": "stdout",
     "output_type": "stream",
     "text": [
      "1146/1146 [==============================] - 177s 154ms/step - loss: 0.8874 - r2: 0.6532\n"
     ]
    },
    {
     "name": "stderr",
     "output_type": "stream",
     "text": [
      "\n",
      "6it [1:03:06, 631.05s/it]\n",
      "100%|████████████████████████████████████████████████████████████████████████████████| 5/5 [4:59:37<00:00, 3595.42s/it]\n"
     ]
    }
   ],
   "source": [
    "# 2.1. Fit models by cumulatively adding predictor sets\n",
    "input_columns = []\n",
    "num = 1\n",
    "# runtime: ~4:59:37 hours\n",
    "for factor in tqdm(factors_columns):\n",
    "    # input_columns are the column names of predcitors in this model\n",
    "    if num == 5:\n",
    "        input_columns = input_columns + config_dict[factor][:-1]\n",
    "    else:\n",
    "        input_columns = input_columns + config_dict[factor]\n",
    "    # data_columns includes input_columns and response variable column name\n",
    "    data_columns = input_columns + [\"log_adj_volume\"]\n",
    "    # The data feeder of dense models:\n",
    "    # (1). it doesn't need ISIN column\n",
    "    # (2). the data_df should be sorted by [\"date\", \"isin\"]\n",
    "    # (3). the last column of data_df should be the response variable column name\n",
    "    # (4). it only supports response variable in shape of (1, 1)\n",
    "    # (5). it only supports window_size=1 (when window_size > 1, the logic is incorrect, \n",
    "    # as different ISINs are combined into a single data point, which doesn't make sense.)\n",
    "    data_feeder = NonRNNDataFeeder(data_df=final_dataset[data_columns], \n",
    "                                   window_size=1, \n",
    "                                   batch_size=1024,\n",
    "                                   predictors_size = len(input_columns), \n",
    "                                   predictors_dates=final_dataset['date'])\n",
    "    # The configuration of the model:\n",
    "    # (1). model_name: the name of the model\n",
    "    # (2). create_dense_model: a function to generate a model structure\n",
    "    # (3). other parameters: \n",
    "    #      verbose: verbose during model training \n",
    "    #      lr: learning rate\n",
    "    model_config = ModelConfig(model_name=f\"dense_{num}_tp\", \n",
    "                               model_structure=create_dense_model, \n",
    "                               verbose=0, lr=0.001)\n",
    "    \n",
    "    # Set seed for reproducing the result\n",
    "    tf.random.set_seed(1234)\n",
    "    # To train models with cross validation, early stopping and learning rate reducer \n",
    "    train_metrics_dict, test_metrics = fit_models_with_cross_validation(\n",
    "        data_feeder=data_feeder,\n",
    "        cv_spliter=cv_spliter,\n",
    "        train_dates=train_dates,\n",
    "        test_filter=test_filter.values, # test_filter should be a numpy array\n",
    "        model_config=model_config,\n",
    "        model_name=f\"dense_{num}\"\n",
    "    )\n",
    "    # Save the metric of this model\n",
    "    with open(f\"./metrics/train_metrics_dict_dense_{num}.pkl\", \"wb\") as pickle_file:\n",
    "        pickle.dump(train_metrics_dict, pickle_file)\n",
    "    with open(f\"./metrics/test_metrics_dense_{num}.pkl\", \"wb\") as pickle_file:\n",
    "        pickle.dump(test_metrics, pickle_file)       \n",
    "    # Release the memory space\n",
    "    del train_metrics_dict, test_metrics, data_feeder, model_config\n",
    "    num += 1"
   ]
  },
  {
   "cell_type": "code",
   "execution_count": 7,
   "id": "c246c6c5-875a-4c2d-a5fd-ffc79c75c99c",
   "metadata": {},
   "outputs": [],
   "source": [
    "from keras import backend as K\n",
    "K.clear_session()"
   ]
  },
  {
   "cell_type": "markdown",
   "id": "fd5fc56a-087c-4162-b093-d8cf5081ca4f",
   "metadata": {},
   "source": [
    "##### 2. Fit models by each predictor set (factors_columns)"
   ]
  },
  {
   "cell_type": "code",
   "execution_count": 8,
   "id": "678bf6fb-c511-47c0-9583-8c833e4b4756",
   "metadata": {},
   "outputs": [
    {
     "name": "stderr",
     "output_type": "stream",
     "text": [
      "  0%|                                                                                            | 0/4 [00:00<?, ?it/s]\n",
      "\u001b[A [00:00, ?it/s]"
     ]
    },
    {
     "name": "stdout",
     "output_type": "stream",
     "text": [
      "1146/1146 [==============================] - 174s 152ms/step - loss: 2.8441 - r2: -0.0975\n"
     ]
    },
    {
     "name": "stderr",
     "output_type": "stream",
     "text": [
      "\n",
      "\u001b[A [05:40, 340.30s/it]"
     ]
    },
    {
     "name": "stdout",
     "output_type": "stream",
     "text": [
      "1146/1146 [==============================] - 176s 153ms/step - loss: 2.7173 - r2: -0.0485\n"
     ]
    },
    {
     "name": "stderr",
     "output_type": "stream",
     "text": [
      "\n",
      "\u001b[A [12:25, 378.19s/it]"
     ]
    },
    {
     "name": "stdout",
     "output_type": "stream",
     "text": [
      "1146/1146 [==============================] - 174s 151ms/step - loss: 2.7991 - r2: -0.0807\n"
     ]
    },
    {
     "name": "stderr",
     "output_type": "stream",
     "text": [
      "\n",
      "\u001b[A [17:45, 351.86s/it]"
     ]
    },
    {
     "name": "stdout",
     "output_type": "stream",
     "text": [
      "1146/1146 [==============================] - 175s 153ms/step - loss: 2.6722 - r2: -0.0306\n"
     ]
    },
    {
     "name": "stderr",
     "output_type": "stream",
     "text": [
      "\n",
      "\u001b[A [23:54, 358.52s/it]"
     ]
    },
    {
     "name": "stdout",
     "output_type": "stream",
     "text": [
      "1146/1146 [==============================] - 173s 151ms/step - loss: 2.6811 - r2: -0.0341\n"
     ]
    },
    {
     "name": "stderr",
     "output_type": "stream",
     "text": [
      "\n",
      "\u001b[A [35:48, 486.86s/it]"
     ]
    },
    {
     "name": "stdout",
     "output_type": "stream",
     "text": [
      "1146/1146 [==============================] - 173s 151ms/step - loss: 2.6837 - r2: -0.0352\n"
     ]
    },
    {
     "name": "stderr",
     "output_type": "stream",
     "text": [
      "\n",
      "6it [47:03, 470.57s/it]\n",
      " 25%|████████████████████                                                            | 1/4 [47:03<2:21:10, 2823.61s/it]\n",
      "\u001b[A [00:00, ?it/s]"
     ]
    },
    {
     "name": "stdout",
     "output_type": "stream",
     "text": [
      "1146/1146 [==============================] - 167s 145ms/step - loss: 0.9288 - r2: 0.6396\n"
     ]
    },
    {
     "name": "stderr",
     "output_type": "stream",
     "text": [
      "\n",
      "\u001b[A [08:51, 531.14s/it]"
     ]
    },
    {
     "name": "stdout",
     "output_type": "stream",
     "text": [
      "1146/1146 [==============================] - 167s 146ms/step - loss: 0.9112 - r2: 0.6471\n"
     ]
    },
    {
     "name": "stderr",
     "output_type": "stream",
     "text": [
      "\n",
      "\u001b[A [17:13, 514.02s/it]"
     ]
    },
    {
     "name": "stdout",
     "output_type": "stream",
     "text": [
      "1146/1146 [==============================] - 174s 152ms/step - loss: 0.9060 - r2: 0.6492\n"
     ]
    },
    {
     "name": "stderr",
     "output_type": "stream",
     "text": [
      "\n",
      "\u001b[A [31:10, 661.42s/it]"
     ]
    },
    {
     "name": "stdout",
     "output_type": "stream",
     "text": [
      "1146/1146 [==============================] - 166s 145ms/step - loss: 1.0118 - r2: 0.6082\n"
     ]
    },
    {
     "name": "stderr",
     "output_type": "stream",
     "text": [
      "\n",
      "\u001b[A [40:57, 632.24s/it]"
     ]
    },
    {
     "name": "stdout",
     "output_type": "stream",
     "text": [
      "1146/1146 [==============================] - 169s 147ms/step - loss: 0.9272 - r2: 0.6405\n"
     ]
    },
    {
     "name": "stderr",
     "output_type": "stream",
     "text": [
      "\n",
      "\u001b[A [50:05, 601.78s/it]"
     ]
    },
    {
     "name": "stdout",
     "output_type": "stream",
     "text": [
      "1146/1146 [==============================] - 166s 145ms/step - loss: 0.9665 - r2: 0.6252\n"
     ]
    },
    {
     "name": "stderr",
     "output_type": "stream",
     "text": [
      "\n",
      "6it [59:26, 594.45s/it]\n",
      " 50%|███████████████████████████████████████                                       | 2/4 [1:46:31<1:48:42, 3261.20s/it]\n",
      "\u001b[A [00:00, ?it/s]"
     ]
    },
    {
     "name": "stdout",
     "output_type": "stream",
     "text": [
      "1146/1146 [==============================] - 166s 144ms/step - loss: 2.1021 - r2: 0.1869\n"
     ]
    },
    {
     "name": "stderr",
     "output_type": "stream",
     "text": [
      "\n",
      "\u001b[A [09:26, 566.30s/it]"
     ]
    },
    {
     "name": "stdout",
     "output_type": "stream",
     "text": [
      "1146/1146 [==============================] - 169s 148ms/step - loss: 2.0002 - r2: 0.2270\n"
     ]
    },
    {
     "name": "stderr",
     "output_type": "stream",
     "text": [
      "\n",
      "\u001b[A [18:18, 546.35s/it]"
     ]
    },
    {
     "name": "stdout",
     "output_type": "stream",
     "text": [
      "1146/1146 [==============================] - 167s 145ms/step - loss: 1.9521 - r2: 0.2458\n"
     ]
    },
    {
     "name": "stderr",
     "output_type": "stream",
     "text": [
      "\n",
      "\u001b[A [33:17, 707.25s/it]"
     ]
    },
    {
     "name": "stdout",
     "output_type": "stream",
     "text": [
      "1146/1146 [==============================] - 170s 148ms/step - loss: 1.9408 - r2: 0.2502\n"
     ]
    },
    {
     "name": "stderr",
     "output_type": "stream",
     "text": [
      "\n",
      "\u001b[A [48:47, 795.32s/it]"
     ]
    },
    {
     "name": "stdout",
     "output_type": "stream",
     "text": [
      "1146/1146 [==============================] - 169s 147ms/step - loss: 1.9394 - r2: 0.2504\n"
     ]
    },
    {
     "name": "stderr",
     "output_type": "stream",
     "text": [
      "\n",
      "\u001b[A [1:00:18, 757.54s/it]"
     ]
    },
    {
     "name": "stdout",
     "output_type": "stream",
     "text": [
      "1146/1146 [==============================] - 167s 146ms/step - loss: 1.9292 - r2: 0.2547\n"
     ]
    },
    {
     "name": "stderr",
     "output_type": "stream",
     "text": [
      "\n",
      "6it [1:17:27, 774.52s/it]\n",
      " 75%|██████████████████████████████████████████████████████████▌                   | 3/4 [3:03:59<1:04:54, 3894.41s/it]\n",
      "\u001b[A [00:00, ?it/s]"
     ]
    },
    {
     "name": "stdout",
     "output_type": "stream",
     "text": [
      "1146/1146 [==============================] - 174s 152ms/step - loss: 2.7188 - r2: -0.0494\n"
     ]
    },
    {
     "name": "stderr",
     "output_type": "stream",
     "text": [
      "\n",
      "\u001b[A [07:08, 428.70s/it]"
     ]
    },
    {
     "name": "stdout",
     "output_type": "stream",
     "text": [
      "1146/1146 [==============================] - 185s 162ms/step - loss: 2.6617 - r2: -0.0269\n"
     ]
    },
    {
     "name": "stderr",
     "output_type": "stream",
     "text": [
      "\n",
      "\u001b[A [13:18, 394.28s/it]"
     ]
    },
    {
     "name": "stdout",
     "output_type": "stream",
     "text": [
      "1146/1146 [==============================] - 174s 152ms/step - loss: 2.6549 - r2: -0.0242\n"
     ]
    },
    {
     "name": "stderr",
     "output_type": "stream",
     "text": [
      "\n",
      "\u001b[A [26:05, 564.27s/it]"
     ]
    },
    {
     "name": "stdout",
     "output_type": "stream",
     "text": [
      "1146/1146 [==============================] - 173s 151ms/step - loss: 2.6790 - r2: -0.0337\n"
     ]
    },
    {
     "name": "stderr",
     "output_type": "stream",
     "text": [
      "\n",
      "\u001b[A [31:23, 467.24s/it]"
     ]
    },
    {
     "name": "stdout",
     "output_type": "stream",
     "text": [
      "1146/1146 [==============================] - 174s 152ms/step - loss: 2.6310 - r2: -0.0145\n"
     ]
    },
    {
     "name": "stderr",
     "output_type": "stream",
     "text": [
      "\n",
      "\u001b[A [38:16, 447.38s/it]"
     ]
    },
    {
     "name": "stdout",
     "output_type": "stream",
     "text": [
      "1146/1146 [==============================] - 175s 152ms/step - loss: 2.6400 - r2: -0.0182\n"
     ]
    },
    {
     "name": "stderr",
     "output_type": "stream",
     "text": [
      "\n",
      "6it [44:23, 443.89s/it]\n",
      "100%|████████████████████████████████████████████████████████████████████████████████| 4/4 [3:48:22<00:00, 3425.66s/it]\n"
     ]
    }
   ],
   "source": [
    "# 2.2 Fit models by each predictor set (factors_columns)\n",
    "num = 2\n",
    "# runtime: 3:48 hours\n",
    "for factor in tqdm(factors_columns[1:]):\n",
    "    # input_columns are the column names of predcitors in this model\n",
    "    if num == 5:\n",
    "        input_columns = config_dict[factor][:-1]\n",
    "    else:\n",
    "        input_columns = config_dict[factor]\n",
    "    # data_columns includes input_columns and response variable column name\n",
    "    data_columns = input_columns + [\"log_adj_volume\"]\n",
    "    # data_feeder: the same as 2.1\n",
    "    data_feeder = NonRNNDataFeeder(data_df=final_dataset[data_columns], \n",
    "                                   window_size=1, \n",
    "                                   batch_size=1024,\n",
    "                                   predictors_size = len(input_columns), \n",
    "                                   predictors_dates=final_dataset['date'])\n",
    "    # model_config: the same as 2.1\n",
    "    model_config = ModelConfig(model_name=f\"dense_{num}_tp_sc\", \n",
    "                               model_structure=create_dense_model, \n",
    "                               verbose=0, lr=0.001)\n",
    "\n",
    "    # Set seed for reproducing the result\n",
    "    tf.random.set_seed(1234)\n",
    "    # To train models with cross validation, early stopping and learning rate reducer \n",
    "    train_metrics_dict, test_metrics = fit_models_with_cross_validation(\n",
    "        data_feeder=data_feeder,\n",
    "        cv_spliter=cv_spliter,\n",
    "        train_dates=train_dates,\n",
    "        test_filter=test_filter.values, # test_filter should be a numpy array\n",
    "        model_config=model_config,\n",
    "        model_name=f\"dense_single_cate_{num}\"\n",
    "    )\n",
    "    # Save the metric of this model\n",
    "    with open(f\"./metrics/train_metrics_dict_dense_single_cate_{num}.pkl\", \"wb\") as pickle_file:\n",
    "        pickle.dump(train_metrics_dict, pickle_file)\n",
    "    with open(f\"./metrics/test_metrics_dense_single_cate_{num}.pkl\", \"wb\") as pickle_file:\n",
    "        pickle.dump(test_metrics, pickle_file)       \n",
    "    # Release the memory space\n",
    "    del train_metrics_dict, test_metrics, data_feeder, model_config\n",
    "    num += 1"
   ]
  }
 ],
 "metadata": {
  "kernelspec": {
   "display_name": "Python 3 (ipykernel)",
   "language": "python",
   "name": "python3"
  },
  "language_info": {
   "codemirror_mode": {
    "name": "ipython",
    "version": 3
   },
   "file_extension": ".py",
   "mimetype": "text/x-python",
   "name": "python",
   "nbconvert_exporter": "python",
   "pygments_lexer": "ipython3",
   "version": "3.10.16"
  }
 },
 "nbformat": 4,
 "nbformat_minor": 5
}
