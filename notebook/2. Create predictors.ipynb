{
 "cells": [
  {
   "cell_type": "code",
   "execution_count": 1,
   "id": "84b36b5e-25a7-49f1-84ef-46d63d669641",
   "metadata": {},
   "outputs": [],
   "source": [
    "import numpy as np\n",
    "import pandas as pd\n",
    "import datetime\n",
    "import pyarrow.parquet as pq\n",
    "import os\n",
    "import matplotlib.pyplot as plt"
   ]
  },
  {
   "attachments": {},
   "cell_type": "markdown",
   "id": "8023f5fc-b92b-476a-ad43-9c9785b74980",
   "metadata": {},
   "source": [
    "#### Preprocess\n",
    "##### [1] Data Analysis\n",
    "1. r3k_sec_mapping_df: [barrid, barra_name, fsym_id] have missing values\n",
    "\n",
    "2. pricing_and_volumes: [adj_volume] have missing values\n",
    "\n",
    "3. earning_df: [announce_datetime]  have missing values <br>\n",
    "ignore announce_datetime, use effective_date to build features <br>\n",
    "ignore the data issue in effective dates\n",
    "\n",
    "5. barra_factor_exposures_df <br>\n",
    "factor_group = '5-Market': ignore <br>\n",
    "factor_group = '2-Industries': each barrid should be classified into at least one industry <br>\n",
    "factor_group = '1-Risk Indices': each barrid should has value of each factor in this group; ignore EFMUSATRD_CARBONEFF\n",
    "\n",
    "##### [2] Data Analysis after Mapping\n",
    "primary_key1 = [\"date\", \"barrid\"] - > barra_factor_exposures_df, pricing_and_volumes_df <br>\n",
    "primary_key2 = [\"date\", \"fsym_id\"] - > earnings_df\n",
    "\n",
    "1. pricing_and_volumes_df\n",
    "missing stocks: 67 stocks\n",
    "[...]\n",
    "\n",
    "2. earnings_df\n",
    "missing stocks: 331 stocks\n",
    "[...]\n",
    "\n",
    "3. barra factor\n",
    "missing stocks: 36 stocks (because barrid is na in r3k)\n",
    "[...]\n",
    "\n",
    "### Target:\n",
    "Based on the data analysis in step1 and 2, build up features after mapping to r3k\n",
    "1. drop missing after mapping to the r3k universe\n",
    "2. build up features\n",
    "3. save features\n",
    "\n",
    "### Content:\n",
    "##### [1] Find the universe after mapping\n",
    "##### [2]. Features/Predictors\n",
    "1. Technical signals (“tech”)\n",
    "2. Fundamental firm characteristics: market equity\n",
    "3. Style and industry factors\n",
    "4. Calendar dates with large effects on trading volume (“calendar”)\n",
    "5. Earnings release schedule (“earnings”)\n",
    "\n",
    "### Results:\n",
    "Saved the the intersection of the universe and predictors: <br>\n",
    "['final_universe.parquet',\n",
    " 'tech.parquet',\n",
    " 'mkt_cap.parquet',\n",
    " 'style_factors.parquet',\n",
    " 'industry_factors.parquet',\n",
    " 'calendar_date.parquet',\n",
    " 'release_schedule.parquet']"
   ]
  },
  {
   "cell_type": "code",
   "execution_count": 2,
   "id": "a76c8ac3-049a-4b7c-b1c2-5c53c28d04a0",
   "metadata": {},
   "outputs": [
    {
     "data": {
      "text/plain": [
       "['barra_factor_exposures.parquet',\n",
       " 'earnings.parquet',\n",
       " 'pricing_and_volumes.parquet',\n",
       " 'r3k_sec_mapping.parquet']"
      ]
     },
     "execution_count": 2,
     "metadata": {},
     "output_type": "execute_result"
    }
   ],
   "source": [
    "### Preparation:\n",
    "# 1. read data file names\n",
    "folder_path = \"F:/volume_prediction\"\n",
    "filenames = os.listdir(folder_path)\n",
    "filenames = [x for x in filenames if x.endswith(\".parquet\")]\n",
    "\n",
    "filenames"
   ]
  },
  {
   "cell_type": "code",
   "execution_count": 3,
   "id": "8a19374d-3ee0-4493-96b5-b91b3dcb8bc8",
   "metadata": {},
   "outputs": [],
   "source": [
    "# 2. load data\n",
    "from model_training_utils import read_data\n",
    "# using pyarrow.parquet.read_table to load data\n",
    "# columns and filters are useful to save memory\n",
    "\n",
    "def load_barra(factor_group, universe, folder_path):\n",
    "    barra_factor_exposures_df = read_data(filename='barra_factor_exposures',\n",
    "                                          filters=[('factor_group','==',factor_group)], \n",
    "                                          folder_path=folder_path)\n",
    "    return universe.merge(barra_factor_exposures_df, \n",
    "                          on=[\"date\", \"barrid\"], how=\"left\", suffixes=(\"\", \"_barra\"))\n",
    "\n",
    "save_folder_path = \"F:/predictors\"\n",
    "def write_data(df, filename):\n",
    "    return df.to_parquet(f\"{save_folder_path}/{filename}.parquet\", engine='pyarrow')"
   ]
  },
  {
   "cell_type": "markdown",
   "id": "dab4ee2e-36cc-4508-91e2-9bab9772c260",
   "metadata": {},
   "source": [
    "### [1] Find the universe after mapping\n",
    "use the intersection of universe"
   ]
  },
  {
   "cell_type": "code",
   "execution_count": 4,
   "id": "441068dd-debd-41c6-8bdf-f54c35cbe72d",
   "metadata": {},
   "outputs": [],
   "source": [
    "# russell 3000\n",
    "r3k_sec_mapping_df = read_data(filename=\"r3k_sec_mapping\",\n",
    "                               columns=['date', 'barrid', 'isin', 'fsym_id'], \n",
    "                               folder_path=folder_path)"
   ]
  },
  {
   "cell_type": "code",
   "execution_count": 5,
   "id": "b886886d-4b50-4b3b-820e-69d6b107e24e",
   "metadata": {},
   "outputs": [],
   "source": [
    "# 1. Load pricing_and_volumes and earnings\n",
    "# pricing and volumes\n",
    "pricing_and_volumes_df = read_data(filename=\"pricing_and_volumes\",\n",
    "                                   columns=['date', 'barrid', 'adj_price', 'adj_volume', 'is_adj_date', 'mkt_cap'], \n",
    "                                   folder_path=folder_path)\n",
    "\n",
    "pv_merged_df = r3k_sec_mapping_df.merge(pricing_and_volumes_df, on=[\"date\", \"barrid\"],\n",
    "                                        how=\"left\", suffixes=(\"\", \"_pv\"))\n",
    "# earnings_df\n",
    "earnings_df = read_data(filename='earnings',\n",
    "                        columns=['fsym_id', 'effective_date'], \n",
    "                        folder_path=folder_path)\n",
    "\n",
    "earnings_merged_df = r3k_sec_mapping_df.merge(earnings_df, left_on=[\"date\", \"fsym_id\"],\n",
    "                            right_on=[\"effective_date\", \"fsym_id\"],\n",
    "                            how=\"left\", suffixes=(\"\", \"_earnings\"))\n",
    "earnings_merged_df = earnings_merged_df.sort_values(by=[\"date\", \"fsym_id\"], ignore_index=True)\n",
    "# This method is used to find the intersection of the universe.\n",
    "earnings_merged_df['effective_date'] = earnings_merged_df.groupby('fsym_id')['effective_date'].ffill()\n",
    "# backward fill is only for building the earning schedule feature...\n",
    "earnings_merged_df['effective_date'] = earnings_merged_df.groupby('fsym_id')['effective_date'].bfill()\n",
    "\n",
    "# inlcude the drop_list from pricing_and_volumes and earnings \n",
    "drop_universe = pv_merged_df.loc[pv_merged_df.mkt_cap.isna(), [\"barrid\", \"isin\", \"fsym_id\"]].drop_duplicates()\n",
    "\n",
    "drop_universe = drop_universe.merge(earnings_merged_df.loc[earnings_merged_df['effective_date'].isna(),\n",
    "                                    [\"isin\"]].drop_duplicates(), \n",
    "                                    on=[\"isin\"], how=\"outer\")"
   ]
  },
  {
   "cell_type": "code",
   "execution_count": 6,
   "id": "571203eb-60eb-4e7e-9e38-e043cc97d6c8",
   "metadata": {},
   "outputs": [],
   "source": [
    "# 2. Load Barra\n",
    "# (1). Load 1-Risk Indices\n",
    "barra_merged_df = load_barra(factor_group = '1-Risk Indices', universe = r3k_sec_mapping_df, \n",
    "                              folder_path=folder_path)\n",
    "# inlcude the drop_list from 1-Risk Indices barra factor\n",
    "drop_universe = drop_universe.merge(barra_merged_df.\\\n",
    "                                    loc[barra_merged_df[\"exposure\"].isna(), [\"isin\"]].drop_duplicates(), \n",
    "                                    on=[\"isin\"], how=\"outer\")"
   ]
  },
  {
   "cell_type": "code",
   "execution_count": 7,
   "id": "bf6c2523-f8d4-4609-a739-0da71cbb83e4",
   "metadata": {},
   "outputs": [],
   "source": [
    "# (2). Load 2-Industries\n",
    "barra_merged_df = load_barra(factor_group = '2-Industries', universe = r3k_sec_mapping_df, \n",
    "                             folder_path=folder_path)\n",
    "# inlcude the drop_list from 2-Industries barra factor\n",
    "drop_universe = drop_universe.merge(barra_merged_df.loc[barra_merged_df[\"exposure\"].isna(),\n",
    "                                    [\"isin\"]].drop_duplicates(), \n",
    "                                    on=[\"isin\"], how=\"outer\")"
   ]
  },
  {
   "cell_type": "code",
   "execution_count": null,
   "id": "212697bf-0aee-405a-9467-bf683baeebcb",
   "metadata": {},
   "outputs": [],
   "source": [
    "# 3. Get the intersection of the universe:\n",
    "final_universe = r3k_sec_mapping_df[~r3k_sec_mapping_df[\"isin\"].isin(drop_universe[\"isin\"])]\n",
    "final_universe.head()\n",
    "# | date       | barrid    | isin         | fsym_id    |\n",
    "# |------------|-----------|--------------|------------|\n",
    "# | 2019-01-02 | XX0000001 | US0000000001 | A100000-R  |\n",
    "# | 2019-01-02 | XX0000002 | US0000000002 | A100001-R  |\n",
    "# | 2019-01-02 | XX0000003 | US0000000003 | A100002-R  |\n",
    "# | 2019-01-02 | XX0000004 | US0000000004 | A100003-R  |\n",
    "# | 2019-01-02 | XX0000005 | US0000000005 | A100004-R  |"
   ]
  },
  {
   "cell_type": "code",
   "execution_count": 9,
   "id": "1ee3b7a7-1bda-4729-be7e-20f2cd501482",
   "metadata": {},
   "outputs": [
    {
     "data": {
      "text/plain": [
       "(4297,)"
      ]
     },
     "execution_count": 9,
     "metadata": {},
     "output_type": "execute_result"
    }
   ],
   "source": [
    "final_universe_isins=final_universe[\"isin\"].unique()\n",
    "final_universe_isins.shape"
   ]
  },
  {
   "cell_type": "code",
   "execution_count": 10,
   "id": "05fb7ebd-4e69-44d0-9f1b-4698df0d70c5",
   "metadata": {},
   "outputs": [
    {
     "data": {
      "text/plain": [
       "True"
      ]
     },
     "execution_count": 10,
     "metadata": {},
     "output_type": "execute_result"
    }
   ],
   "source": [
    "dates_list = final_universe.date.unique()\n",
    "datetime.date(2019, 12, 24) in dates_list"
   ]
  },
  {
   "cell_type": "code",
   "execution_count": 11,
   "id": "5c9f5818-581b-41fd-a931-e476c477bb21",
   "metadata": {},
   "outputs": [],
   "source": [
    "# save the universe\n",
    "write_data(final_universe, \"final_universe\")"
   ]
  },
  {
   "cell_type": "markdown",
   "id": "dbd7bb5d-1975-4adc-b7b5-2c5172c82df5",
   "metadata": {},
   "source": [
    "### [2]. Features/Predictors"
   ]
  },
  {
   "cell_type": "code",
   "execution_count": 11,
   "id": "f4492df2-fa61-49fe-a8a6-0735a4b185fa",
   "metadata": {},
   "outputs": [
    {
     "data": {
      "text/plain": [
       "(datetime.date(2019, 1, 2), datetime.date(2023, 12, 29))"
      ]
     },
     "execution_count": 11,
     "metadata": {},
     "output_type": "execute_result"
    }
   ],
   "source": [
    "# check the time range of the final universe\n",
    "dates_list = final_universe.date.unique()\n",
    "min(dates_list), max(dates_list)"
   ]
  },
  {
   "attachments": {},
   "cell_type": "markdown",
   "id": "0bdfc105-c682-42c9-806f-791aaba126b6",
   "metadata": {},
   "source": [
    "### 1. Technical signals (“tech”)\n",
    "From paper:  \n",
    "Technical signals (“tech”): lagged moving averages of returns and log dollar volume over the past 1, 5, 22, and 252 days."
   ]
  },
  {
   "cell_type": "code",
   "execution_count": 12,
   "id": "b11ec535-5ab3-4d36-ad6a-367d4994ecf3",
   "metadata": {},
   "outputs": [],
   "source": [
    "pv_merged_df = pv_merged_df[pv_merged_df[\"isin\"].isin(final_universe_isins)]\n",
    "pv_merged_df = pv_merged_df.sort_values(by=[\"isin\", \"date\"], ignore_index=True)\n",
    "pv_merged_df.loc[:, \"adj_price\"]=pv_merged_df[\"adj_price\"].replace(0, np.nan)\n",
    "pv_merged_df.loc[:, \"log_adj_volume\"]=np.log(pv_merged_df[\"adj_volume\"].replace(0, np.nan).replace(np.float32(\"inf\"), np.nan))\n",
    "pv_merged_df.loc[:, \"return\"]=pv_merged_df.groupby([\"isin\"])['adj_price'].pct_change(fill_method=None)"
   ]
  },
  {
   "cell_type": "code",
   "execution_count": 13,
   "id": "28ac9bda-59a8-4781-9487-bd3183117b9f",
   "metadata": {},
   "outputs": [
    {
     "data": {
      "text/plain": [
       "<Axes: >"
      ]
     },
     "execution_count": 13,
     "metadata": {},
     "output_type": "execute_result"
    },
    {
     "data": {
      "image/png": "[encoded data removed]",
      "text/plain": [
       "<Figure size 640x480 with 1 Axes>"
      ]
     },
     "metadata": {},
     "output_type": "display_data"
    }
   ],
   "source": [
    "pv_merged_df[\"return\"].plot.box()"
   ]
  },
  {
   "cell_type": "code",
   "execution_count": 14,
   "id": "9c0b5b90-7fdc-4050-ac2b-3bf821f820d1",
   "metadata": {},
   "outputs": [],
   "source": [
    "tech = pv_merged_df[['barrid', 'date', 'isin', 'log_adj_volume', 'return', 'is_adj_date']].copy()\n",
    "# According to the histogram, daily return with absolute value higher than 1 are in the data\n",
    "# ignore the error, skip the verification\n",
    "tech['return'] = tech['return'].clip(lower=-1, upper=1)"
   ]
  },
  {
   "cell_type": "code",
   "execution_count": 17,
   "id": "8d791045-bccc-451c-9393-b10fd7ed5546",
   "metadata": {},
   "outputs": [],
   "source": [
    "tech = pv_merged_df[['barrid', 'date', 'isin', 'log_adj_volume', 'return', 'is_adj_date']].copy()\n",
    "# According to the histogram, daily return with absolute value higher than 1 are in the data\n",
    "# ignore the error, skip the verification\n",
    "tech['return'] = tech['return'].clip(lower=-1, upper=1)\n",
    "\n",
    "tech.loc[:, \"rtn_ma1\"]=tech.groupby(\"isin\")['return'].ffill()\n",
    "tech.loc[:, \"rtn_ma5\"]=tech.groupby(\"isin\")['return'].ffill().rolling(5).mean()\n",
    "tech.loc[:, \"rtn_ma22\"]=tech.groupby(\"isin\")['return'].ffill().rolling(22).mean()\n",
    "tech.loc[:, \"rtn_ma252\"]=tech.groupby(\"isin\")['return'].ffill().rolling(252).mean()\n",
    "\n",
    "tech.loc[:, \"logvol_ma1\"]=tech.groupby(\"isin\")['log_adj_volume'].ffill()\n",
    "tech.loc[:, \"logvol_ma5\"]=tech.groupby(\"isin\")['log_adj_volume'].ffill().rolling(5).mean()\n",
    "tech.loc[:, \"logvol_ma22\"]=tech.groupby(\"isin\")['log_adj_volume'].ffill().rolling(22).mean()\n",
    "tech.loc[:, \"logvol_ma252\"]=tech.groupby(\"isin\")['log_adj_volume'].ffill().rolling(252).mean()"
   ]
  },
  {
   "cell_type": "code",
   "execution_count": 19,
   "id": "129ddd4e-2ed9-4741-8626-b03dc98491a9",
   "metadata": {},
   "outputs": [],
   "source": [
    "# save the tech features\n",
    "# write_data(tech, \"tech\")"
   ]
  },
  {
   "cell_type": "code",
   "execution_count": 20,
   "id": "36dbe044-ac42-4e84-9cb6-6751601cb970",
   "metadata": {},
   "outputs": [
    {
     "data": {
      "text/plain": [
       "<Axes: >"
      ]
     },
     "execution_count": 20,
     "metadata": {},
     "output_type": "execute_result"
    },
    {
     "data": {
      "image/png": "[encoded data removed]",
      "text/plain": [
       "<Figure size 640x480 with 1 Axes>"
      ]
     },
     "metadata": {},
     "output_type": "display_data"
    }
   ],
   "source": [
    "tech[\"log_adj_volume\"].hist()"
   ]
  },
  {
   "cell_type": "markdown",
   "id": "ec448ac8-bc50-48f3-84fa-b4e2787dc6b1",
   "metadata": {},
   "source": [
    "### 2. Fundamental firm characteristics: market equity\n",
    "From paper:\n",
    "A small set of commonly used fundamental firm characteristics (“fund-1”): market equity, standardized earnings surprise, book leverage, book-to-market equity, Dimson beta, and firm age. (6 predictors.)\n",
    "\n",
    "What we have: we have market equity in pricing_and_volumes_df"
   ]
  },
  {
   "cell_type": "code",
   "execution_count": null,
   "id": "5512db26-e456-4f74-abfe-1e1e7a20bd55",
   "metadata": {},
   "outputs": [],
   "source": [
    "# Load market cap data from pricing_and_volumes_df \n",
    "mkt_cap_predictors = pv_merged_df[['barrid', 'date', 'isin', 'mkt_cap']].copy()\n",
    "mkt_cap_predictors.head()\n",
    "# # This is a synthetic example following the structure of market capitalization data.  \n",
    "# # No proprietary data is included.\n",
    "\n",
    "# | barrid   | date       | isin         | mkt_cap       |\n",
    "# |----------|------------|--------------|------------------|\n",
    "# | MOCKB01  | 2019-01-02 | XX0000000001 | 5.151463e+10    |\n",
    "# | MOCKB01  | 2019-01-03 | XX0000000001 | 5.206855e+10    |\n",
    "# | MOCKB01  | 2019-01-04 | XX0000000001 | 5.413190e+10    |\n",
    "# | MOCKB01  | 2019-01-07 | XX0000000001 | 5.562749e+10    |\n",
    "# | MOCKB01  | 2019-01-08 | XX0000000001 | 5.631989e+10    |\n"
   ]
  },
  {
   "cell_type": "code",
   "execution_count": 18,
   "id": "8aa8e501-8723-4650-a536-08ae917a6e8f",
   "metadata": {},
   "outputs": [],
   "source": [
    "# Save the market cap features\n",
    "# write_data(mkt_cap_predictors, \"mkt_cap\")"
   ]
  },
  {
   "cell_type": "markdown",
   "id": "472e03b3-085b-4fc0-8e83-4ff94320f8ad",
   "metadata": {},
   "source": [
    "### 3. Style and industry factors\n",
    "From paper:\n",
    "The remaining firm characteristics from the JKP dataset (“fund-2”), which are merged and transformed in the same way as fund-1 variables. (147 predictors.)\n",
    "\n",
    "What we have: barra factor"
   ]
  },
  {
   "cell_type": "code",
   "execution_count": 22,
   "id": "586618e7-83ad-44d8-9a01-79f6e4976cdf",
   "metadata": {},
   "outputs": [],
   "source": [
    "# Load factor types (from the previous analysis)\n",
    "factor_types = pd.read_csv(\"factor_types.csv\")"
   ]
  },
  {
   "cell_type": "markdown",
   "id": "79147d79-7d55-4fc6-a7ee-dd0829a71049",
   "metadata": {},
   "source": [
    "#### (1). Style factors\n",
    "factor_group = '1-Risk Indices': each barrid should have a value for each factor each date"
   ]
  },
  {
   "cell_type": "code",
   "execution_count": 20,
   "id": "b64ffa3f-3242-45fa-92a3-140ab7da4010",
   "metadata": {},
   "outputs": [],
   "source": [
    "# Load style factors\n",
    "style_factors = load_barra('1-Risk Indices', universe = final_universe, folder_path=folder_path)\n",
    "# Transform it into the format [date, isin, factors...]\n",
    "# which the machine learning model can use directly\n",
    "style_factors = pd.pivot_table(style_factors, index=[\"date\", \"isin\"], columns=[\"factor\"], values=\"exposure\",\n",
    "                              observed=True).reset_index()"
   ]
  },
  {
   "cell_type": "code",
   "execution_count": null,
   "id": "b6aa72dc-9219-4e5b-ae7f-fdfd733c8f3e",
   "metadata": {},
   "outputs": [],
   "source": [
    "style_factors.head()\n",
    "\n",
    "# # This is a synthetic example following the structure of factor data.  \n",
    "# # No proprietary data is included.\n",
    "\n",
    "# | factor    | date       | isin         | EFMUSATRD_BETA | EFMUSATRD_CARBONEFF | EFMUSATRD_CROWD | EFMUSATRD_DIVYILD | EFMUSATRD_EARNQLTY | EFMUSATRD_EARNVAR | EFMUSATRD_EARNYILD | EFMUSATRD_ESG | ... | EFMUSATRD_MLFAC | EFMUSATRD_MOMENTUM | EFMUSATRD_PROFIT | EFMUSATRD_RESVOL | EFMUSATRD_SEASON | EFMUSATRD_SENTMT | EFMUSATRD_SHORTINT | EFMUSATRD_SIZE | EFMUSATRD_STREVRSL | EFMUSATRD_VALUE |\n",
    "# |-----------|------------|--------------|----------------|---------------------|-----------------|-------------------|---------------------|-------------------|-------------------|---------------|-----|-----------------|--------------------|------------------|------------------|------------------|------------------|-------------------|----------------|-------------------|-----------------|\n",
    "# | FACTOR01  | 2019-01-02 | XX0000000001 | -0.216         | NaN                 | -1.219          | 1.607             | 0.556               | 0.754             | -0.456            | -0.096        | ... | 1.115           | -2.194             | -1.233           | 0.644            | 1.674            | -1.212           | -0.167            | 0.089          | 0.373             | 0.856           |\n",
    "# | FACTOR02  | 2019-01-02 | XX0000000002 | 0.837          | NaN                 | 0.102           | -0.090            | 1.151               | 2.110             | 0.009             | -0.960        | ... | 2.896           | -3.057             | -1.327           | 2.332            | 2.226            | 1.335            | -0.403            | -2.589         | 0.093             | 1.038           |\n"
   ]
  },
  {
   "cell_type": "code",
   "execution_count": 22,
   "id": "7622d8de-b4be-4821-8571-b80ee7646eec",
   "metadata": {},
   "outputs": [],
   "source": [
    "# Save the style factor features\n",
    "# write_data(style_factors, \"style_factors\")"
   ]
  },
  {
   "cell_type": "markdown",
   "id": "cde6f427-761f-4dda-8f90-173e86de7b6d",
   "metadata": {},
   "source": [
    "#### (2). Industry factors\n",
    "factor_group = '2-Industries': each barrid should be classified into at least one industry\n",
    "\n",
    "format: one-hot * exposure value"
   ]
  },
  {
   "cell_type": "markdown",
   "id": "e687fdcd-900e-4894-99de-e5b21f2ca8ff",
   "metadata": {},
   "source": [
    "example: \n",
    "| isin     | date       | exposure_industry_Tech | exposure_industry_Finance | exposure_industry_Health |\n",
    "|----------|------------|------------------------|---------------------------|--------------------------|\n",
    "| A        | 2023-01-01 | 0.5                    | 0                         | 0                        |\n",
    "| A        | 2023-01-01 | 0                      | 0                         | 0.3                      |\n",
    "| B        | 2023-01-01 | 0                      | 1.0                       | 0                        |\n",
    "| A        | 2023-01-02 | 0                      | 0                         | 0.8                      |\n",
    "| C        | 2023-01-02 | 0.3                    | 0                         | 0                        |\n"
   ]
  },
  {
   "cell_type": "code",
   "execution_count": 6,
   "id": "d38e6bac-9a12-4660-a338-e06bf5cb1b59",
   "metadata": {},
   "outputs": [],
   "source": [
    "# Load industry factors\n",
    "industry_factors = load_barra('2-Industries', universe = final_universe, folder_path=folder_path)\n",
    "# Transform it into the format [date, isin, factors...]\n",
    "# which the machine learning model can use directly\n",
    "# Method: use dummpy variable and also contain the info of exposure\n",
    "industry_factors = pd.pivot_table(industry_factors, index=[\"date\", \"isin\"], columns=[\"factor\"], \n",
    "                                  values=\"exposure\", observed=True).reset_index().fillna(0)\n"
   ]
  },
  {
   "cell_type": "code",
   "execution_count": null,
   "id": "02b0c71f-196e-42eb-847e-737657e95c15",
   "metadata": {},
   "outputs": [],
   "source": [
    "industry_factors.head()\n",
    "\n",
    "# # This is a synthetic example following the structure of sectoral factor data.  \n",
    "# # No proprietary data is included.\n",
    "\n",
    "# | date       | isin         | EFMUSATRD_AERODEF | EFMUSATRD_AIRLINES | EFMUSATRD_ALUMSTEL | EFMUSATRD_APPAREL | EFMUSATRD_AUTO | EFMUSATRD_BANKS | EFMUSATRD_BEVTOB | EFMUSATRD_BIOLIFE | ... | EFMUSATRD_ROADRAIL | EFMUSATRD_SEMICOND | EFMUSATRD_SEMIEQP | EFMUSATRD_SOFTWARE | EFMUSATRD_SPLTYRET | EFMUSATRD_SPTYCHEM | EFMUSATRD_SPTYSTOR | EFMUSATRD_TELECOM | EFMUSATRD_TRADECO | EFMUSATRD_TRANSPRT |\n",
    "# |------------|--------------|-------------------|--------------------|--------------------|------------------|----------------|-----------------|------------------|-------------------|-----|--------------------|-------------------|-------------------|-------------------|-------------------|-------------------|-------------------|------------------|------------------|------------------|\n",
    "# | 2019-01-02 | XX0000000001 | 0.0               | 0.0                | 0.0                | 0.0              | 0.0            | 0.0             | 0.0              | 0.0               | ... | 0.0                | 0.0               | 0.0               | 0.0               | 0.0               | 0.0               | 0.0               | 0.00             | 0.0              |\n",
    "# | 2019-01-02 | XX0000000002 | 0.0               | 0.0                | 0.0                | 0.0              | 0.0            | 0.0             | 0.0              | 0.0               | ... | 0.0                | 0.0               | 0.0               | 0.0               | 0.0               | 0.0               | 0.0               | 0.00             | 0.0              |\n"
   ]
  },
  {
   "cell_type": "code",
   "execution_count": 24,
   "id": "23940501-1ec1-42e5-a4ed-efe3b54a136b",
   "metadata": {},
   "outputs": [],
   "source": [
    "# Save the industry factor features\n",
    "# write_data(industry_factors, \"industry_factors\")"
   ]
  },
  {
   "cell_type": "markdown",
   "id": "e75c0868-639f-4cd0-93bc-f75622e82396",
   "metadata": {},
   "source": [
    "### 4. Calendar dates with large effects on trading volume (“calendar”)\n",
    "From paper:\n",
    "We hard code four binary features based on the dates of the following four types of events.\n",
    "- Early closing days for the exchanges (July 3rd, Black Friday, Christmas Eve, and New Year’s Eve).\n",
    "- Triple witching days (four times a year when the index futures contract expires at the same time as the index option contract and single stocks options).\n",
    "- Double witching days (eight times a year when two of the three events above, the single stock options and index options expiration, coincide).\n",
    "- Russell index re-balancing (once a year, the fourth Friday in June).\n",
    "  \n",
    "Early closing days have substantially less trading volume, while the other three are associated with positive spikes in trading volume."
   ]
  },
  {
   "cell_type": "code",
   "execution_count": 37,
   "id": "1dcf5297-e567-477f-b8a0-c0afb5dc1940",
   "metadata": {},
   "outputs": [],
   "source": [
    "def get_early_closing_days(year):\n",
    "\n",
    "    # https://www.investopedia.com/ask/answers/06/stockexchangeclosed.asp\n",
    "    july_3rd = pd.Timestamp(f'{year}-07-03').date()\n",
    "\n",
    "    # Thanksgiving is a federal holiday in the United States celebrated on the fourth Thursday of November\n",
    "    thanksgiving = pd.Timestamp(f'{year}-11-01') + pd.DateOffset(weekday=pd.offsets.Week(4).weekday)\n",
    "    # Black Friday is the day after Thanksgiving in the United States\n",
    "    black_friday = (thanksgiving + pd.DateOffset(days=1)).date()\n",
    "\n",
    "    christmas_eve = pd.Timestamp(f'{year}-12-24').date()\n",
    "\n",
    "    new_years_eve = pd.Timestamp(f'{year}-12-31').date()\n",
    "\n",
    "    return [july_3rd, black_friday, christmas_eve, new_years_eve]\n",
    "\n",
    "\n",
    "def get_witching_days(year, month_list):\n",
    "    def third_friday(month):\n",
    "        first_day = pd.Timestamp(f'{year}-{month:02d}-01')\n",
    "        first_friday = first_day + pd.DateOffset(weekday=4)\n",
    "        third_friday = first_friday + pd.DateOffset(weeks=2)\n",
    "        return third_friday.date()\n",
    "\n",
    "    return [third_friday(month) for month in month_list]\n",
    "\n",
    "\n",
    "def get_russell_rebalancing_day(year):\n",
    "    # the fourth Friday in June\n",
    "    last_friday_june = pd.Timestamp(f'{year}-06-01') + pd.DateOffset(weekday=4, weeks=4)\n",
    "    return last_friday_june.date()\n",
    "\n",
    "year_list = [final_universe.date.min().year+i for i in range(final_universe.date.max().year - final_universe.date.min().year+1)]\n",
    "early_closing_days = sum([get_early_closing_days(year) for year in year_list], [])\n",
    "# https://www.investopedia.com/terms/t/triplewitchinghour.asp\n",
    "triple_witching_days = sum([get_witching_days(year, [3,6,9,12]) for year in year_list], [])\n",
    "# https://www.investopedia.com/terms/d/doublewitching.asp\n",
    "double_witching_days = sum([get_witching_days(year, [1,2,4,5,7,8,10,11]) for year in year_list], [])\n",
    "russell_rebalancing_day = [get_russell_rebalancing_day(year) for year in year_list]\n",
    "\n",
    "final_universe = final_universe.reset_index(drop=True)\n",
    "\n",
    "calendar_date_predictors = pd.DataFrame([final_universe[\"date\"].isin(early_closing_days).astype(int),\n",
    "                           final_universe[\"date\"].isin(triple_witching_days).astype(int),\n",
    "                           final_universe[\"date\"].isin(double_witching_days).astype(int),\n",
    "                           final_universe[\"date\"].isin(russell_rebalancing_day).astype(int)], \n",
    "                                        index=[\"early_close\", \"triple_witch\", \"double_witch\", \"russell_rebalance\"]).T\n",
    "\n",
    "calendar_date_predictors.loc[:, ['date', 'barrid','isin']] = final_universe[['date', 'barrid','isin']]"
   ]
  },
  {
   "cell_type": "code",
   "execution_count": null,
   "id": "c3dec6f9-cdd4-4b63-a606-d6d748ddd5b4",
   "metadata": {},
   "outputs": [],
   "source": [
    "calendar_date_predictors.head()\n",
    "\n",
    "# This is a synthetic example following the structure of event-based data.\n",
    "# No proprietary data is included.\n",
    "\n",
    "# | early_close  | triple_witch | double_witch | russell_rebalance | date       | barrid   | isin         |\n",
    "# |--------------|--------------|--------------|-------------------|------------|----------|--------------|\n",
    "# | 0            | 0            | 0            | 0                 | 2019-01-02 | USAXXX1  | XX0000000001 |\n",
    "# | 0            | 0            | 0            | 0                 | 2019-01-02 | USAXXX2  | XX0000000002 |\n",
    "# | 0            | 0            | 0            | 0                 | 2019-01-02 | USAXXX3  | XX0000000003 |\n",
    "# | 0            | 0            | 0            | 0                 | 2019-01-02 | USAXXX4  | XX0000000004 |\n",
    "# | 0            | 0            | 0            | 0                 | 2019-01-02 | USAXXX5  | XX0000000005 |\n"
   ]
  },
  {
   "cell_type": "code",
   "execution_count": 44,
   "id": "bebfa328-beea-495e-bc29-db88c7fb379b",
   "metadata": {},
   "outputs": [],
   "source": [
    "# Save calendar feature \n",
    "write_data(calendar_date_predictors, \"calendar_date\")"
   ]
  },
  {
   "cell_type": "markdown",
   "id": "8f76d6ff-0d51-43f3-9dbc-86d49747a259",
   "metadata": {},
   "source": [
    "### 5. Earnings release schedule (“earnings”): \n",
    "From paper:\n",
    "We construct 10 categorical dummy variables (one hot encoding) indicating whether the firm has an upcoming earnings release or just had one in the past few days. \n",
    "- We first construct the number of days until the next known scheduled earnings release event.\n",
    "  \n",
    "  For example, a value of zero implies the current day is previously known to have a scheduled release. A negative value means there are no known scheduled events in the future and indicates how many days since the last event.\n",
    "- We convert this number into 10 dummy variables of categorical bins: ≤ −4,−3,−2,−1,0,1,2,3,4,≥ 5. The data source is the Capital IQ Key Developments dataset. (10 predictors.)"
   ]
  },
  {
   "cell_type": "code",
   "execution_count": null,
   "id": "4f3cee2e-03eb-4b38-a4d6-7033720c55ff",
   "metadata": {},
   "outputs": [],
   "source": [
    "# Load earning calendar data in the final universe\n",
    "earnings_merged_df = earnings_merged_df[earnings_merged_df[\"isin\"].isin(final_universe_isins)]\n",
    "earnings_merged_df.head()\n",
    "\n",
    "# This is a synthetic example following the structure of security-related data.  \n",
    "# No proprietary data is included.\n",
    "\n",
    "# | date       | barrid    | isin         | fsym_id    | effective_date |\n",
    "# |------------|-----------|--------------|------------|----------------|\n",
    "# | 2019-01-02 | XX0000001 | US0000000001 | A100000-R  | 2019-03-18     |\n",
    "# | 2019-01-02 | XX0000002 | US0000000002 | A100001-R  | 2019-03-08     |\n",
    "# | 2019-01-02 | XX0000003 | US0000000003 | A100002-R  | 2019-03-12     |\n",
    "# | 2019-01-02 | XX0000004 | US0000000004 | A100003-R  | 2019-03-07     |\n",
    "# | 2019-01-02 | XX0000005 | US0000000005 | A100004-R  | 2019-01-04     |\n"
   ]
  },
  {
   "cell_type": "code",
   "execution_count": 62,
   "id": "c80b5e17-ad47-44cf-a141-aa3ed42fdf92",
   "metadata": {},
   "outputs": [
    {
     "data": {
      "text/plain": [
       "array([20, 14, 13,  4, 12,  5,  9, 17, 18,  8,  6,  3,  7,  2, 11, 10, 15,\n",
       "       19, 16,  1, 21], dtype=int64)"
      ]
     },
     "execution_count": 62,
     "metadata": {},
     "output_type": "execute_result"
    }
   ],
   "source": [
    "# The number of different effective_date for each fsym_id:\n",
    "short_earnings_merged_df = earnings_merged_df[['isin', 'fsym_id', 'effective_date']].drop_duplicates()\n",
    "short_earnings_merged_df.groupby(\"fsym_id\")[\"effective_date\"].apply(lambda x: x.unique().shape[0]).unique()"
   ]
  },
  {
   "cell_type": "code",
   "execution_count": 53,
   "id": "cf78eaa6-2c82-491a-9493-77dbc1825ed7",
   "metadata": {},
   "outputs": [],
   "source": [
    "# Compute the distance of trade date to the cloest effective date:\n",
    "def compute_cate(group):\n",
    "    fsym_id = group.name\n",
    "    ed_list = earnings_df.loc[earnings_df.fsym_id==fsym_id, \"effective_date\"].tolist()\n",
    "    # min(abs(dates-date1),abs(dates-date2),...)\n",
    "    values = pd.Series([days_item[np.argmin(np.abs(days_item))] for days_item in \\\n",
    "                        zip(*[pd.to_timedelta(j-group[\"date\"]).dt.days for j in ed_list])], index=group.index)\n",
    "    return values\n",
    "\n",
    "days_count = earnings_merged_df.groupby(\"fsym_id\").apply(compute_cate, include_groups=False)\n",
    "days_count.index.names = ['fsym_id', 'idx']\n",
    "days_count = days_count.reset_index().set_index('idx').drop('fsym_id', axis=1)\n",
    "earnings_merged_df.loc[:, \"days_count\"] = days_count"
   ]
  },
  {
   "cell_type": "code",
   "execution_count": 54,
   "id": "7384f752-1ca4-4279-ba14-5cf64170cd57",
   "metadata": {},
   "outputs": [],
   "source": [
    "# Define the bins and labels\n",
    "# ≤ −4,−3,−2,−1,0,1,2,3,4,≥ 5\n",
    "bins = [-float('inf'), -3,-2,-1,0,1,2,3,4,5, float('inf')]\n",
    "labels = ['≤-4', '-3', '-2', '-1', '0', '1', '2', '3', '4','≥5']\n",
    "\n",
    "# Classify the Series values\n",
    "earnings_merged_df.loc[:, \"release_schedule\"] = pd.cut(earnings_merged_df[\"days_count\"].values, \n",
    "                                                 bins=bins, labels=labels, right=False).astype(\"string\")"
   ]
  },
  {
   "cell_type": "code",
   "execution_count": null,
   "id": "a36deff0-c6e4-4d36-9663-0c1ed5cf0076",
   "metadata": {},
   "outputs": [],
   "source": [
    "earnings_merged_df = earnings_merged_df[['date', 'isin', 'fsym_id','days_count','release_schedule']]\n",
    "# Use dummy variables for these features\n",
    "earnings_merged_df[\"value\"] = 1\n",
    "# Transform it into the format [date, isin, features...]\n",
    "# which the machine learning model can use directly\n",
    "release_schedule = pd.pivot_table(earnings_merged_df, index=[\"date\", \"isin\"], columns=[\"release_schedule\"], \n",
    "                                  values=\"value\", observed=True).reset_index().fillna(0)"
   ]
  },
  {
   "cell_type": "code",
   "execution_count": null,
   "id": "30ee4af5-09ed-418b-8412-b36ef1dccb12",
   "metadata": {},
   "outputs": [],
   "source": [
    "release_schedule.head()\n",
    "\n",
    "# # This is a synthetic example following the structure of security-related data.\n",
    "# # No proprietary data is included.\n",
    "\n",
    "# | date       | isin         | -1    | -2    | -3    | 0     | 1     | 2     | 3     | 4     | ≤-4   | ≥5    |\n",
    "# |------------|--------------|-------|-------|-------|-------|-------|-------|-------|-------|-------|-------|\n",
    "# | 2019-01-02 | XX00000001   | 0.0   | 0.0   | 0.0   | 0.0   | 0.0   | 0.0   | 0.0   | 0.0   | 0.0   | 1.0   |\n",
    "# | 2019-01-02 | XX00000002   | 0.0   | 0.0   | 0.0   | 0.0   | 0.0   | 0.0   | 0.0   | 0.0   | 0.0   | 1.0   |\n",
    "# | 2019-01-02 | XX00000003   | 0.0   | 0.0   | 0.0   | 0.0   | 0.0   | 0.0   | 0.0   | 0.0   | 0.0   | 1.0   |\n",
    "# | 2019-01-02 | XX00000004   | 0.0   | 0.0   | 0.0   | 0.0   | 0.0   | 0.0   | 0.0   | 0.0   | 0.0   | 1.0   |\n",
    "# | 2019-01-02 | XX00000005   | 0.0   | 0.0   | 0.0   | 0.0   | 0.0   | 0.0   | 0.0   | 0.0   | 0.0   | 1.0   |\n"
   ]
  },
  {
   "cell_type": "code",
   "execution_count": 60,
   "id": "1627e5ae-05db-49df-a6fb-4e366e483134",
   "metadata": {},
   "outputs": [],
   "source": [
    "# Save earning schedule feature \n",
    "write_data(release_schedule, \"release_schedule\")"
   ]
  }
 ],
 "metadata": {
  "kernelspec": {
   "display_name": "Python 3 (ipykernel)",
   "language": "python",
   "name": "python3"
  },
  "language_info": {
   "codemirror_mode": {
    "name": "ipython",
    "version": 3
   },
   "file_extension": ".py",
   "mimetype": "text/x-python",
   "name": "python",
   "nbconvert_exporter": "python",
   "pygments_lexer": "ipython3",
   "version": "3.10.16"
  }
 },
 "nbformat": 4,
 "nbformat_minor": 5
}
